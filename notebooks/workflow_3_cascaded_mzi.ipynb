{
 "cells": [
  {
   "cell_type": "markdown",
   "id": "0",
   "metadata": {},
   "source": [
    "# Cascaded MZI Filter\n",
    "\n",
    "This example shows how to assemble components together to form a complex component that can be simulated by integrating `gdsfactory`, `tidy3d`, and `sax`.  The design is based on the first stage of the Coarse Wavelength Division Multiplexer presented in S. Dwivedi, P. De Heyn, P. Absil, J. Van Campenhout and W. Bogaerts, “Coarse wavelength division multiplexer on silicon-on-insulator for 100 GbE,” _2015 IEEE 12th International Conference on Group IV Photonics (GFP)_, Vancouver, BC, Canada, 2015, pp. 9-10, doi: [10.1109/Group4.2015.7305928](https://doi.org/10.1109/Group4.2015.7305928).\n",
    "\n",
    "Each filter stage is formed by 4 cascaded Mach-Zenhder Interferometers (MZIs) with predefined delays for the central wavelength.  Symmetrical Direction Couplers (DCs) are used to mix the signals at the ends of the MZI arms.  In order to facilitate fabrication, all DC gaps are kept equal, so the power transfer ratios are defined by the coupling length of the DCs.\n",
    "\n",
    "We will design each DC through 3D FDTD simulations to guarantee the desired power ratios, which have been calculated to provide maximally flat response.  The S parameters computed through FDTD are latter used in the full circuit simulation along with models for staight and curved waveguide sections, leading to an accurate model that exhibits features similar to those found in experimental data."
   ]
  },
  {
   "cell_type": "code",
   "execution_count": null,
   "id": "1",
   "metadata": {},
   "outputs": [],
   "source": [
    "from functools import partial\n",
    "\n",
    "import gdsfactory as gf\n",
    "import jax\n",
    "import jax.numpy as jnp\n",
    "import matplotlib.pyplot as plt\n",
    "import numpy as np\n",
    "import sax\n",
    "\n",
    "import gplugins.tidy3d as gt\n",
    "from gplugins.common.config import PATH"
   ]
  },
  {
   "cell_type": "markdown",
   "id": "2",
   "metadata": {},
   "source": [
    "We start by loading the desired PDK and setting the main geometry and filter parameters, such as DC gap and central wavelength."
   ]
  },
  {
   "cell_type": "code",
   "execution_count": null,
   "id": "3",
   "metadata": {},
   "outputs": [],
   "source": [
    "fsr = 0.01\n",
    "gap = 0.15\n",
    "width = 0.45\n",
    "wavelengths = np.linspace(1.5, 1.6, 101)\n",
    "lda_c = wavelengths[wavelengths.size // 2]\n",
    "\n",
    "pdk = gf.get_active_pdk()\n",
    "\n",
    "\n",
    "layer_stack = pdk.get_layer_stack()\n",
    "core = layer_stack.layers[\"core\"]\n",
    "clad = layer_stack.layers[\"clad\"]\n",
    "box = layer_stack.layers[\"box\"]\n",
    "\n",
    "layer_stack.layers.pop(\"substrate\", None)\n",
    "\n",
    "print(\n",
    "    f\"\"\"Stack:\n",
    "- {clad.material} clad with {clad.thickness}µm\n",
    "- {core.material} clad with {core.thickness}µm\n",
    "- {box.material} clad with {box.thickness}µm\"\"\"\n",
    ")"
   ]
  },
  {
   "cell_type": "markdown",
   "id": "4",
   "metadata": {},
   "source": [
    "We use the `tidy3d` plugin to automatically create an FDTD simulation of the complete `coupler`.\n",
    "\n",
    "We can inspect the simulation and port modes before running it to make sure our design is correct."
   ]
  },
  {
   "cell_type": "code",
   "execution_count": null,
   "id": "5",
   "metadata": {
    "lines_to_next_cell": 2
   },
   "outputs": [],
   "source": [
    "cross_section = pdk.get_cross_section(\"strip\", width=width)\n",
    "\n",
    "coupler_sc = partial(\n",
    "    gf.components.coupler,\n",
    "    gap=gap,\n",
    "    dx=5,\n",
    "    dy=2,\n",
    "    cross_section=cross_section,\n",
    ")  # Coupler Strip C-Band\n",
    "\n",
    "coupler = coupler_sc(gap=gap, length=2.0)\n",
    "coupler.show()  # show it in klayout\n",
    "coupler.plot()  # plot it"
   ]
  },
  {
   "cell_type": "code",
   "execution_count": null,
   "id": "6",
   "metadata": {},
   "outputs": [],
   "source": [
    "_ = gt.write_sparameters(\n",
    "    coupler,\n",
    "    layer_stack=layer_stack,\n",
    "    plot_simulation_layer_name=\"core\",\n",
    ")"
   ]
  },
  {
   "cell_type": "markdown",
   "id": "7",
   "metadata": {},
   "source": [
    "Because of the smooth S bend regions, the usual analytical models to calculate the power ratio of the DC give only a rough estimate.  We sweep a range of DC lengths based on those estimates to find the dimensions required in our design for the given PDK."
   ]
  },
  {
   "cell_type": "code",
   "execution_count": null,
   "id": "8",
   "metadata": {},
   "outputs": [],
   "source": [
    "sim_lengths = range(20)\n",
    "jobs = [\n",
    "    dict(\n",
    "        component=coupler_sc(gap=gap, length=length, cross_section=cross_section),\n",
    "        filepath=PATH.sparameters_repo / f\"dc_{length}.npz\",\n",
    "        layer_stack=layer_stack,\n",
    "    )\n",
    "    for length in sim_lengths\n",
    "]\n",
    "sims = gt.write_sparameters_batch(jobs)\n",
    "s_params_list = [sim.result() for sim in sims]"
   ]
  },
  {
   "cell_type": "code",
   "execution_count": null,
   "id": "9",
   "metadata": {},
   "outputs": [],
   "source": [
    "# s_params_list = [dict(np.load(PATH.sparameters_repo / f\"dc_{length}.npz\")) for length in sim_lengths]"
   ]
  },
  {
   "cell_type": "code",
   "execution_count": null,
   "id": "10",
   "metadata": {},
   "outputs": [],
   "source": [
    "wavelengths = s_params_list[0][\"wavelengths\"]\n",
    "drop = np.array([np.abs(s[\"o3@0,o1@0\"]) ** 2 for s in s_params_list])\n",
    "thru = np.array([np.abs(s[\"o4@0,o1@0\"]) ** 2 for s in s_params_list])\n",
    "loss = 1 - (drop + thru)\n",
    "sim_ratios = drop / (drop + thru)\n",
    "\n",
    "fig, ax = plt.subplots(2, 2, figsize=(12, 6))\n",
    "\n",
    "for i in range(0, wavelengths.size, 5):\n",
    "    ax[0, 0].plot(\n",
    "        sim_lengths, drop[:, i], label=f\"{gf.snap.snap_to_grid(wavelengths[i])}µm\"\n",
    "    )\n",
    "\n",
    "for i, length in enumerate(sim_lengths):\n",
    "    ax[0, 1].plot(wavelengths, drop[i, :], label=f\"{length}µm\")\n",
    "    ax[1, 0].plot(wavelengths, sim_ratios[i, :], label=f\"{length}µm\")\n",
    "    ax[1, 1].plot(wavelengths, loss[i, :], label=f\"{length}µm\")\n",
    "\n",
    "ax[0, 0].set_xlabel(\"Coupler length (µm)\")\n",
    "ax[0, 0].set_ylabel(\"Drop ratio\")\n",
    "ax[0, 1].set_xlabel(\"λ (µm)\")\n",
    "ax[0, 1].set_ylabel(\"Drop ratio\")\n",
    "ax[1, 0].set_xlabel(\"λ (µm)\")\n",
    "ax[1, 0].set_ylabel(\"Power ratio\")\n",
    "ax[1, 1].set_xlabel(\"λ (µm)\")\n",
    "ax[1, 1].set_ylabel(\"Loss\")\n",
    "ax[0, 0].legend()\n",
    "fig.tight_layout()"
   ]
  },
  {
   "cell_type": "markdown",
   "id": "11",
   "metadata": {
    "lines_to_next_cell": 2
   },
   "source": [
    "Now we crete a fitting function to calculate the DC length for a given power ratio.\n",
    "\n",
    "In the filter specification, the desired ratios are 0.5, 0.13, 0.12, 0.5, and 0.25.  We calculate the DC lengths accordingly.\n"
   ]
  },
  {
   "cell_type": "code",
   "execution_count": null,
   "id": "12",
   "metadata": {},
   "outputs": [],
   "source": [
    "def coupler_length(λ: float = 1.55, power_ratio: float = 0.5):\n",
    "    i0 = np.argmin(np.abs(wavelengths - λ))\n",
    "    i1 = min(i0 + 1, len(wavelengths) - 1) if λ > wavelengths[i] else max(i0 - 1, 0)\n",
    "    if i1 != i0:\n",
    "        pr = (\n",
    "            sim_ratios[:, i0] * (wavelengths[i1] - λ)\n",
    "            + sim_ratios[:, i1] * (λ - wavelengths[i0])\n",
    "        ) / (wavelengths[i1] - wavelengths[i0])\n",
    "    else:\n",
    "        pr = sim_ratios[:, i0]\n",
    "    y = pr - power_ratio\n",
    "    root_indices = np.flatnonzero(y[1:] * y[:-1] <= 0)\n",
    "    if len(root_indices) == 0:\n",
    "        return sim_lengths[np.argmin(np.abs(y))]\n",
    "    j = root_indices[0]\n",
    "    return (\n",
    "        sim_lengths[j] * (pr[j + 1] - power_ratio)\n",
    "        + sim_lengths[j + 1] * (power_ratio - pr[j])\n",
    "    ) / (pr[j + 1] - pr[j])\n",
    "\n",
    "\n",
    "power_ratios = [0.50, 0.13, 0.12, 0.50, 0.25]\n",
    "lengths = [gf.snap.snap_to_grid(coupler_length(lda_c, pr)) for pr in power_ratios]\n",
    "print(\"Power ratios:\", power_ratios)\n",
    "print(\"Lengths:\", lengths)"
   ]
  },
  {
   "cell_type": "markdown",
   "id": "13",
   "metadata": {},
   "source": [
    "Finally, we simulate the couplers with the calculated lengths to guarantee the fitting error is within tolerance.\n",
    "As expected, all couplers have the correct power ratios at the central wavelength."
   ]
  },
  {
   "cell_type": "code",
   "execution_count": null,
   "id": "14",
   "metadata": {},
   "outputs": [],
   "source": [
    "sims = gt.write_sparameters_batch(\n",
    "    [\n",
    "        {\n",
    "            \"component\": coupler_sc(gap=gap, length=length),\n",
    "            \"filepath\": PATH.sparameters_repo / f\"dc_{length}.npz\",\n",
    "        }\n",
    "        for length in lengths\n",
    "    ],\n",
    "    layer_stack=layer_stack,\n",
    "    # overwrite=True,\n",
    ")\n",
    "s_params_list = [sim.result() for sim in sims]\n",
    "fig, ax = plt.subplots(1, 3, figsize=(12, 3))\n",
    "errors = []\n",
    "i = wavelengths.size // 2\n",
    "\n",
    "for pr, sp in zip(power_ratios, s_params_list):\n",
    "    drop = np.abs(sp[\"o3@0,o1@0\"]) ** 2\n",
    "    thru = np.abs(sp[\"o4@0,o1@0\"]) ** 2\n",
    "\n",
    "    assert lda_c == wavelengths[i]\n",
    "    errors.append(drop[i] / (thru[i] + drop[i]) - pr)\n",
    "\n",
    "    ax[0].plot(wavelengths, thru, label=f\"{1 - pr}\")\n",
    "    ax[1].plot(wavelengths, drop, label=f\"{pr}\")\n",
    "    ax[2].plot(wavelengths, 1 - thru - drop)\n",
    "\n",
    "ax[0].set_ylabel(\"Thru ratio\")\n",
    "ax[1].set_ylabel(\"Drop ratio\")\n",
    "ax[2].set_ylabel(\"Loss\")\n",
    "ax[0].set_ylim(0, 1)\n",
    "ax[1].set_ylim(0, 1)\n",
    "ax[0].legend()\n",
    "ax[1].legend()\n",
    "fig.tight_layout()\n",
    "print(errors)"
   ]
  },
  {
   "cell_type": "markdown",
   "id": "15",
   "metadata": {
    "lines_to_next_cell": 2
   },
   "source": [
    "Now we have to design the arms of each MZI.  The most important parameter here is their free spectral range (FSR), which comes from the path length difference and the group index of the waveguide at the central wavelength:\n",
    "\n",
    "$$\\text{FSR} = \\frac{\\lambda_c^2}{n_g \\Delta L}$$\n",
    "\n",
    "We calculate the group index for our waveguides through `tidy3d`'s local mode solver.  Because we're interested in precise dispersion, we use a dense mesh and high precision in these calculations.\n",
    "\n",
    "The path length differences for the MZIs are $\\Delta L$,  $2\\Delta L$, $L_\\pi - 2\\Delta L$, and $-2\\Delta L$, with $L_\\pi$ the length required for $\\pi$ phase shift (negative values indicate a delay in the opposite arm to positive values).\n"
   ]
  },
  {
   "cell_type": "code",
   "execution_count": null,
   "id": "16",
   "metadata": {},
   "outputs": [],
   "source": [
    "def mzi_path_difference(waveguide: gt.modes.Waveguide, group_index: float, fsr: float):\n",
    "    return waveguide.wavelength**2 / (fsr * group_index)\n",
    "\n",
    "\n",
    "nm = 1e-3\n",
    "\n",
    "mode_solver_specs = dict(\n",
    "    core_material=core.material,\n",
    "    clad_material=clad.material,\n",
    "    core_width=width,\n",
    "    core_thickness=core.thickness,\n",
    "    box_thickness=min(2.0, box.thickness),\n",
    "    clad_thickness=min(2.0, clad.thickness),\n",
    "    side_margin=2.0,\n",
    "    num_modes=2,\n",
    "    grid_resolution=20,\n",
    "    precision=\"double\",\n",
    ")\n",
    "\n",
    "waveguide_solver = gt.modes.Waveguide(\n",
    "    wavelength=lda_c, **mode_solver_specs, group_index_step=True\n",
    ")\n",
    "\n",
    "waveguide_solver.plot_field(field_name=\"Ex\", mode_index=0)\n",
    "ng = waveguide_solver.n_group[0]\n",
    "ne = waveguide_solver.n_eff[0].real\n",
    "print(f\"ne = {ne}, ng = {ng}\")\n",
    "\n",
    "length_delta = mzi_path_difference(waveguide_solver, ng, fsr)\n",
    "length_pi = lda_c / (2 * ne)\n",
    "mzi_deltas = (\n",
    "    length_delta,\n",
    "    2 * length_delta,\n",
    "    length_pi - 2 * length_delta,\n",
    "    -2 * length_delta,\n",
    ")\n",
    "print(f\"Path difference (ΔL = {length_delta}, Lπ = {length_pi}):\", mzi_deltas)"
   ]
  },
  {
   "cell_type": "markdown",
   "id": "17",
   "metadata": {
    "lines_to_next_cell": 2
   },
   "source": [
    "Next we create a helper function that returns the MZI arms for a given length difference, respecting the bend radius defined in our PDK.\n"
   ]
  },
  {
   "cell_type": "code",
   "execution_count": null,
   "id": "18",
   "metadata": {},
   "outputs": [],
   "source": [
    "layout = gf.c.mzi_lattice(\n",
    "    coupler_gaps=(gap,) * len(lengths),\n",
    "    coupler_lengths=tuple(lengths),\n",
    "    delta_lengths=tuple([abs(x) for x in mzi_deltas]),\n",
    "    cross_section=\"strip\",\n",
    ")\n",
    "layout.plot()"
   ]
  },
  {
   "cell_type": "markdown",
   "id": "19",
   "metadata": {},
   "source": [
    "Finally, we want to build a complete simulation of the filter based on individual models for its components.\n",
    "\n",
    "We extract the filter netlist and verify we'll need models for the straight and bend sections, as well as for the DCs."
   ]
  },
  {
   "cell_type": "code",
   "execution_count": null,
   "id": "20",
   "metadata": {},
   "outputs": [],
   "source": [
    "netlist = layout.get_netlist()\n",
    "{v[\"component\"] for v in netlist[\"instances\"].values()}"
   ]
  },
  {
   "cell_type": "markdown",
   "id": "21",
   "metadata": {},
   "source": [
    "The model for the straight sections is based directly on the waveguide mode, including dispersion effects."
   ]
  },
  {
   "cell_type": "code",
   "execution_count": null,
   "id": "22",
   "metadata": {},
   "outputs": [],
   "source": [
    "straight_wavelengths = jnp.linspace(wavelengths[0], wavelengths[-1], 11)\n",
    "straight_neffs = np.empty(straight_wavelengths.size, dtype=complex)\n",
    "\n",
    "waveguide_solver = gt.modes.Waveguide(\n",
    "    wavelength=list(straight_wavelengths), **mode_solver_specs\n",
    ")\n",
    "straight_neffs = waveguide_solver.n_eff[:, 0]\n",
    "\n",
    "plt.plot(straight_wavelengths, straight_neffs.real, \".-\")\n",
    "plt.xlabel(\"λ (µm)\")\n",
    "plt.ylabel(\"n_eff\")"
   ]
  },
  {
   "cell_type": "code",
   "execution_count": null,
   "id": "23",
   "metadata": {},
   "outputs": [],
   "source": [
    "@jax.jit\n",
    "def complex_interp(xs, x, y):\n",
    "    ys_mag = jnp.interp(xs, x, jnp.abs(y))\n",
    "    ys_phase = jnp.interp(xs, x, jnp.unwrap(jnp.angle(y)))\n",
    "    return ys_mag * jnp.exp(1j * ys_phase)\n",
    "\n",
    "\n",
    "@jax.jit\n",
    "def straight_model(wl=1.55, length: float = 1.0):\n",
    "    n_eff = complex_interp(wl, straight_wavelengths, straight_neffs.real)\n",
    "    s21 = jnp.exp(2j * jnp.pi * n_eff * length / wl)\n",
    "    zero = jnp.zeros_like(wl)\n",
    "    return {\n",
    "        (\"o1\", \"o1\"): zero,\n",
    "        (\"o1\", \"o2\"): s21,\n",
    "        (\"o2\", \"o1\"): s21,\n",
    "        (\"o2\", \"o2\"): zero,\n",
    "    }\n",
    "\n",
    "\n",
    "straight_model()"
   ]
  },
  {
   "cell_type": "markdown",
   "id": "24",
   "metadata": {
    "lines_to_next_cell": 2
   },
   "source": [
    "For the bends, we want to include the full S matrix, because we are not using a circular shape, so simple modal decomposition becomes less accurate.  Similarly, we want to use the full simulated S matrix from the DCs in our model, instead of analytical approximations.\n",
    "\n",
    "We encapsulate the S parameter calculation in a helper function that generates the `jax` model for each component.\n"
   ]
  },
  {
   "cell_type": "code",
   "execution_count": null,
   "id": "25",
   "metadata": {},
   "outputs": [],
   "source": [
    "def bend_model(cross_section: gf.typings.CrossSectionSpec = \"strip\"):\n",
    "    component = gf.components.bend_euler(cross_section=cross_section)\n",
    "    s = gt.write_sparameters(\n",
    "        component=component,\n",
    "        filepath=PATH.sparameters_repo / \"bend_filter.npz\",\n",
    "        layer_stack=layer_stack,\n",
    "    )\n",
    "    wavelengths = s.pop(\"wavelengths\")\n",
    "\n",
    "    @jax.jit\n",
    "    def _model(wl=1.55):\n",
    "        s11 = complex_interp(wl, wavelengths, s[\"o1@0,o1@0\"])\n",
    "        s21 = complex_interp(wl, wavelengths, s[\"o2@0,o1@0\"])\n",
    "        return {\n",
    "            (\"o1\", \"o1\"): s11,\n",
    "            (\"o1\", \"o2\"): s21,\n",
    "            (\"o2\", \"o1\"): s21,\n",
    "            (\"o2\", \"o2\"): s11,\n",
    "        }\n",
    "\n",
    "    return _model\n",
    "\n",
    "\n",
    "bend_model(cross_section=cross_section)()"
   ]
  },
  {
   "cell_type": "code",
   "execution_count": null,
   "id": "26",
   "metadata": {},
   "outputs": [],
   "source": [
    "c = gf.Component(name=\"bend\")\n",
    "ref = c.add_ref(gf.components.bend_euler(cross_section=cross_section))\n",
    "c.add_ports(ref.ports)\n",
    "x, _ = sax.circuit(\n",
    "    c.get_netlist(), {\"bend_euler\": bend_model(cross_section=cross_section)}\n",
    ")\n",
    "\n",
    "s = x(wl=wavelengths)\n",
    "plt.plot(wavelengths, jnp.abs(s[(\"o1\", \"o2\")]) ** 2)\n",
    "plt.ylabel(\"S21\")\n",
    "plt.xlabel(\"λ (µm)\")"
   ]
  },
  {
   "cell_type": "code",
   "execution_count": null,
   "id": "27",
   "metadata": {},
   "outputs": [],
   "source": [
    "def coupler_model(\n",
    "    gap: float = 0.1,\n",
    "    length: float = 1.0,\n",
    "    dx: float = 5.0,\n",
    "    dy: float = 2.0,\n",
    "    cross_section: gf.typings.CrossSectionSpec = \"strip\",\n",
    "):\n",
    "    component = coupler_sc(\n",
    "        gap=gap,\n",
    "        length=length,\n",
    "        dx=dx,\n",
    "        dy=dy,\n",
    "    )\n",
    "    separation = 2.0\n",
    "    bend_factor = 4.0\n",
    "    s = gt.write_sparameters(\n",
    "        component=component,\n",
    "        filepath=PATH.sparameters_repo\n",
    "        / f\"coupler_filter_gap={gap}_length={length}_s={separation}_bf={bend_factor}.npz\",\n",
    "    )\n",
    "    wavelengths = s.pop(\"wavelengths\")\n",
    "\n",
    "    @jax.jit\n",
    "    def _model(wl=1.55):\n",
    "        s11 = complex_interp(wl, wavelengths, s[\"o1@0,o1@0\"])\n",
    "        s21 = complex_interp(wl, wavelengths, s[\"o2@0,o1@0\"])\n",
    "        s31 = complex_interp(wl, wavelengths, s[\"o3@0,o1@0\"])\n",
    "        s41 = complex_interp(wl, wavelengths, s[\"o4@0,o1@0\"])\n",
    "        return {\n",
    "            (\"o1\", \"o1\"): s11,\n",
    "            (\"o1\", \"o2\"): s21,\n",
    "            (\"o1\", \"o3\"): s31,\n",
    "            (\"o1\", \"o4\"): s41,\n",
    "            (\"o2\", \"o1\"): s21,\n",
    "            (\"o2\", \"o2\"): s11,\n",
    "            (\"o2\", \"o3\"): s41,\n",
    "            (\"o2\", \"o4\"): s31,\n",
    "            (\"o3\", \"o1\"): s31,\n",
    "            (\"o3\", \"o2\"): s41,\n",
    "            (\"o3\", \"o3\"): s11,\n",
    "            (\"o3\", \"o4\"): s21,\n",
    "            (\"o4\", \"o1\"): s41,\n",
    "            (\"o4\", \"o2\"): s31,\n",
    "            (\"o4\", \"o3\"): s21,\n",
    "            (\"o4\", \"o4\"): s11,\n",
    "        }\n",
    "\n",
    "    return _model\n",
    "\n",
    "\n",
    "coupler_model(\n",
    "    gap=gap,\n",
    "    length=lengths[0],\n",
    "    cross_section=cross_section,\n",
    ")()"
   ]
  },
  {
   "cell_type": "markdown",
   "id": "28",
   "metadata": {
    "lines_to_next_cell": 2
   },
   "source": [
    "We must take care of using one model for each DC based on its length, so we use another helper function that iterates over the netlist instances and generates the appropriate model for each one:\n"
   ]
  },
  {
   "cell_type": "code",
   "execution_count": null,
   "id": "29",
   "metadata": {},
   "outputs": [],
   "source": [
    "import inspect\n",
    "\n",
    "\n",
    "def patch_netlist(netlist, models, models_to_patch):\n",
    "    instances = netlist[\"instances\"]\n",
    "    for name in instances:\n",
    "        model = instances[name]\n",
    "        if model[\"component\"] in models_to_patch:\n",
    "            component = model[\"component\"]\n",
    "            i = 0\n",
    "            new_component = f\"{component}_v{i}\"\n",
    "            while new_component in models:\n",
    "                i += 1\n",
    "                new_component = f\"{component}_v{i}\"\n",
    "            settings = model[\"settings\"]\n",
    "            settings_fitered = {\n",
    "                k: v\n",
    "                for k, v in settings.items()\n",
    "                if k in inspect.signature(models_to_patch[component]).parameters\n",
    "            }\n",
    "            models[new_component] = models_to_patch[model[\"component\"]](\n",
    "                **settings_fitered\n",
    "            )\n",
    "            del model[\"settings\"]\n",
    "            model[\"component\"] = new_component\n",
    "    return netlist, models\n",
    "\n",
    "\n",
    "pl_set = sorted(set(zip(power_ratios, lengths)))\n",
    "fig, ax = plt.subplots(len(pl_set), 1, figsize=(4, 3 * len(pl_set)))\n",
    "\n",
    "for i, (pr, length) in enumerate(pl_set):\n",
    "    c = gf.Component()\n",
    "    ref = c.add_ref(\n",
    "        coupler_sc(\n",
    "            gap,\n",
    "            length,\n",
    "        )\n",
    "    )\n",
    "    c.add_ports(ref.ports)\n",
    "    netlist, models = patch_netlist(c.get_netlist(), {}, {\"coupler\": coupler_model})\n",
    "    x, _ = sax.circuit(netlist, models)\n",
    "    s = x(wl=wavelengths)\n",
    "    ax[i].plot(wavelengths, jnp.abs(s[(\"o1\", \"o3\")]) ** 2, label=\"Cross\")\n",
    "    ax[i].plot(wavelengths, jnp.abs(s[(\"o1\", \"o4\")]) ** 2, label=\"Through\")\n",
    "    ax[i].axvline(lda_c, c=\"tab:gray\", ls=\":\", lw=1)\n",
    "    ax[i].set_ylim(0, 1)\n",
    "    ax[i].set_xlabel(\"λ (µm)\")\n",
    "    ax[i].set_title(f\"l = {length:.2f} µm ({pr})\")\n",
    "\n",
    "ax[0].legend()\n",
    "fig.tight_layout()"
   ]
  },
  {
   "cell_type": "code",
   "execution_count": null,
   "id": "30",
   "metadata": {},
   "outputs": [],
   "source": [
    "netlist.keys()"
   ]
  },
  {
   "cell_type": "code",
   "execution_count": null,
   "id": "31",
   "metadata": {},
   "outputs": [],
   "source": [
    "netlist[\"instances\"].keys()"
   ]
  },
  {
   "cell_type": "code",
   "execution_count": null,
   "id": "32",
   "metadata": {},
   "outputs": [],
   "source": [
    "netlist[\"instances\"][\"coupler_G0p15_L5p26_D2__b39b6a43_2630_300\"]"
   ]
  },
  {
   "cell_type": "markdown",
   "id": "33",
   "metadata": {},
   "source": [
    "Finally, we can simulate the complete filter response around the central wavelength and get the desired FSR and box-like shape."
   ]
  },
  {
   "cell_type": "code",
   "execution_count": null,
   "id": "34",
   "metadata": {},
   "outputs": [],
   "source": [
    "# fig, ax = plt.subplots(1, 1, figsize=(12, 4))\n",
    "# netlist, models = patch_netlist(\n",
    "#    layout.get_netlist(recursive=True),\n",
    "#    {\"straight\": straight_model, \"bend_euler\": bend_model(cross_section=cross_section)},\n",
    "#    {\"coupler\": coupler_model},\n",
    "# )\n",
    "# circuit, _ = sax.circuit(netlist, models)\n",
    "# lda = np.linspace(1.5, 1.6, 1001)\n",
    "# s = circuit(wl=lda)\n",
    "# ax.plot(lda, 20 * jnp.log10(jnp.abs(s[(\"o1\", \"o3\")])), label=\"Cross\")\n",
    "# ax.plot(lda, 20 * jnp.log10(jnp.abs(s[(\"o1\", \"o4\")])), label=\"Thru\")\n",
    "# ax.set_ylim(-30, 0)\n",
    "# ax.set_xlabel(\"λ (µm)\")\n",
    "# ax.legend()"
   ]
  },
  {
   "cell_type": "code",
   "execution_count": null,
   "id": "35",
   "metadata": {},
   "outputs": [],
   "source": []
  }
 ],
 "metadata": {
  "jupytext": {
   "cell_metadata_filter": "-all",
   "custom_cell_magics": "kql"
  },
  "kernelspec": {
   "display_name": "base",
   "language": "python",
   "name": "python3"
  },
  "language_info": {
   "codemirror_mode": {
    "name": "ipython",
    "version": 3
   },
   "file_extension": ".py",
   "mimetype": "text/x-python",
   "name": "python",
   "nbconvert_exporter": "python",
   "pygments_lexer": "ipython3",
   "version": "3.11.5"
  }
 },
 "nbformat": 4,
 "nbformat_minor": 5
}
