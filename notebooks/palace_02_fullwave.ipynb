{
 "cells": [
  {
   "cell_type": "markdown",
   "id": "0",
   "metadata": {},
   "source": [
    "# Full-wave driven simulations with Palace\n",
    "\n",
    "```{warning}\n",
    "The full-wave driven plugin for Palace is experimental and currently supports only lumped ports that have to be placed manually as rectangles in the geometry.\n",
    "```\n",
    "\n",
    "Here, we show how Palace may be used to perform full-wave driven simulations in the frequency domain.\n",
    "See [Palace – Crosstalk Between Coplanar Waveguides](https://awslabs.github.io/palace/stable/examples/cpw/) for more details.\n",
    "\n",
    "For a given geometry, one needs to specify the terminals where to apply an excitation similar to Ansys HFSS.\n",
    "To this end, lumped ports (or wave ports) have to be added to the geometry to simulate.\n",
    "This effectively solves the scattering parameters for the terminals.\n",
    "\n",
    "In this notebook, we the same interdigital capacitor as in {doc}`palace_01_electrostatic.ipynb` but add lumped ports to the geometry.\n",
    "Afterwards, the capacitance matrix can be computed from the scattering parameters as described in Eq. {eq}`s_to_y_to_c`.\n",
    "\n",
    "## Installation\n",
    "See [Palace – Installation](https://awslabs.github.io/palace/stable/install/) for installation or compilation instructions. Gplugins assumes `palace` is available in your PATH environment variable.\n",
    "\n",
    "Alternatively, [Singularity / Apptainer](https://apptainer.org/) containers may be used. Instructions for building and an example definition file are found at [Palace – Build using Singularity/Apptainer](https://awslabs.github.io/palace/dev/install/#Build-using-Singularity/Apptainer).\n",
    "Afterwards, an easy install method is to add a script to `~/.local/bin` (or elsewhere in `PATH`) calling the Singularity container. For example, one may create a `palace` file containing\n",
    "```console\n",
    "#!/bin/bash\n",
    "singularity exec ~/palace.sif /opt/palace/bin/palace \"$@\"\n",
    "```\n",
    "\n",
    "## Geometry, layer config and materials"
   ]
  },
  {
   "cell_type": "code",
   "execution_count": null,
   "id": "1",
   "metadata": {
    "tags": [
     "hide-input"
    ]
   },
   "outputs": [],
   "source": [
    "import os\n",
    "from math import inf\n",
    "from pathlib import Path\n",
    "\n",
    "import gdsfactory as gf\n",
    "import numpy as np\n",
    "import pyvista as pv\n",
    "import skrf\n",
    "from gdsfactory.components.interdigital_capacitor import interdigital_capacitor\n",
    "from gdsfactory.generic_tech import LAYER, get_generic_pdk\n",
    "from gdsfactory.technology import LayerStack\n",
    "from gdsfactory.technology.layer_stack import LayerLevel\n",
    "from IPython.display import display\n",
    "from matplotlib import pyplot as plt\n",
    "\n",
    "from gplugins.common.types import RFMaterialSpec\n",
    "from gplugins.palace import run_scattering_simulation_palace\n",
    "\n",
    "gf.config.rich_output()\n",
    "PDK = get_generic_pdk()\n",
    "PDK.activate()"
   ]
  },
  {
   "cell_type": "markdown",
   "id": "2",
   "metadata": {},
   "source": [
    "We employ an example LayerStack used in superconducting circuits similar to {cite:p}`marxer_long-distance_2023`."
   ]
  },
  {
   "cell_type": "code",
   "execution_count": null,
   "id": "3",
   "metadata": {},
   "outputs": [],
   "source": [
    "layer_stack = LayerStack(\n",
    "    layers=dict(\n",
    "        substrate=LayerLevel(\n",
    "            layer=LAYER.WAFER,\n",
    "            thickness=500,\n",
    "            zmin=0,\n",
    "            material=\"Si\",\n",
    "            mesh_order=99,\n",
    "        ),\n",
    "        bw=LayerLevel(\n",
    "            layer=LAYER.WG,\n",
    "            thickness=200e-3,\n",
    "            zmin=500,\n",
    "            material=\"Nb\",\n",
    "            mesh_order=2,\n",
    "        ),\n",
    "        bw_port=LayerLevel(\n",
    "            layer=LAYER.PORT,\n",
    "            thickness=200e-3,\n",
    "            zmin=500,\n",
    "            material=\"Nb\",\n",
    "            mesh_order=2,\n",
    "        ),\n",
    "    )\n",
    ")\n",
    "material_spec: RFMaterialSpec = {\n",
    "    \"Si\": {\"relative_permittivity\": 11.45, \"relative_permeability\": 1},\n",
    "    \"Nb\": {\"relative_permittivity\": inf, \"relative_permeability\": 1},\n",
    "    \"vacuum\": {\"relative_permittivity\": 1, \"relative_permeability\": 1},\n",
    "}"
   ]
  },
  {
   "cell_type": "code",
   "execution_count": null,
   "id": "4",
   "metadata": {},
   "outputs": [],
   "source": [
    "c = gf.Component()\n",
    "cap = c << interdigital_capacitor()\n",
    "c"
   ]
  },
  {
   "cell_type": "code",
   "execution_count": null,
   "id": "5",
   "metadata": {},
   "outputs": [],
   "source": [
    "c = gf.Component()\n",
    "cap = c << interdigital_capacitor()\n",
    "\n",
    "# Add lumped port rectangles manually, see examples for https://awslabs.github.io/palace/stable/examples/cpw/\n",
    "c.add_polygon([(-40, +11), (-46, +11), (-46, +5), (-40, +5)], layer=LAYER.PORT)\n",
    "c.add_polygon([(40, -11), (46, -11), (46, -5), (40, -5)], layer=LAYER.WAFER)\n",
    "\n",
    "c.add_port(\n",
    "    \"o1_1\", center=(-40, (11 + 5) / 2), layer=LAYER.PORT, width=1, orientation=180\n",
    ")\n",
    "c.add_port(\"o1_2\", center=(+46, -11), layer=LAYER.PORT, width=1, orientation=0)\n",
    "\n",
    "c.add_polygon([(-200, -200), (200, -200), (200, 200), (-200, 200)], layer=LAYER.WAFER)\n",
    "c.draw_ports()\n",
    "c.show()\n",
    "c"
   ]
  },
  {
   "cell_type": "markdown",
   "id": "6",
   "metadata": {},
   "source": [
    "## Running the simulation\n",
    "```{eval-rst}\n",
    "We use the function :func:`~run_scattering_simulation_palace`. This runs the simulation and returns an instance of :class:`~DrivenFullWaveResults` containing the capacitance matrix and a path to the mesh and the field solutions.\n",
    "```"
   ]
  },
  {
   "cell_type": "code",
   "execution_count": null,
   "id": "7",
   "metadata": {},
   "outputs": [],
   "source": [
    "help(run_scattering_simulation_palace)"
   ]
  },
  {
   "cell_type": "code",
   "execution_count": null,
   "id": "8",
   "metadata": {
    "lines_to_next_cell": 2,
    "tags": [
     "hide-output"
    ]
   },
   "outputs": [],
   "source": [
    "results = run_scattering_simulation_palace(\n",
    "    c,\n",
    "    layer_stack=layer_stack,\n",
    "    material_spec=material_spec,\n",
    "    only_one_port=True,\n",
    "    simulation_folder=Path(os.getcwd()) / \"temporary\",\n",
    "    driven_settings={\n",
    "        \"MinFreq\": 0.1,\n",
    "        \"MaxFreq\": 5,\n",
    "        \"FreqStep\": 5,\n",
    "    },\n",
    "    mesh_parameters=dict(\n",
    "        background_tag=\"vacuum\",\n",
    "        background_padding=(0,) * 5 + (700,),\n",
    "        port_names=c.ports,\n",
    "        verbosity=1,\n",
    "        default_characteristic_length=200,\n",
    "        resolutions={\n",
    "            \"bw\": {\n",
    "                \"resolution\": 14,\n",
    "            },\n",
    "            \"substrate\": {\n",
    "                \"resolution\": 50,\n",
    "            },\n",
    "            \"vacuum\": {\n",
    "                \"resolution\": 120,\n",
    "            },\n",
    "            **{\n",
    "                f\"bw_port{port}_vacuum\": {\n",
    "                    \"resolution\": 8,\n",
    "                    \"DistMax\": 30,\n",
    "                    \"DistMin\": 10,\n",
    "                    \"SizeMax\": 14,\n",
    "                    \"SizeMin\": 3,\n",
    "                }\n",
    "                for port in c.ports\n",
    "            },\n",
    "        },\n",
    "    ),\n",
    ")\n",
    "display(results)"
   ]
  },
  {
   "cell_type": "markdown",
   "id": "9",
   "metadata": {},
   "source": [
    "\n",
    "The capacitance matrix can be solved from the admittance matrix $Y$ as\n",
    "\n",
    "```{math}\n",
    ":label: s_to_y_to_c\n",
    "    C_{\\text{i,j}} = \\frac{\\mathrm{Im}\\,Y_{\\text{i,j}}}{\\mathrm{i} \\omega}\n",
    "    .\n",
    "```"
   ]
  },
  {
   "cell_type": "code",
   "execution_count": null,
   "id": "10",
   "metadata": {},
   "outputs": [],
   "source": [
    "df = results.scattering_matrix\n",
    "df.columns = df.columns.str.strip()\n",
    "s_complex = 10 ** df[\"|S[2][1]| (dB)\"].values * np.exp(\n",
    "    1j * skrf.degree_2_radian(df[\"arg(S[2][1]) (deg.)\"].values)\n",
    ")\n",
    "ntw = skrf.Network(f=df[\"f (GHz)\"].values, s=s_complex, z0=50)\n",
    "cap = np.imag(ntw.y.flatten()) / (ntw.f * 2 * np.pi)\n",
    "display(cap)\n",
    "\n",
    "plt.plot(ntw.f, cap * 1e15)\n",
    "plt.xlabel(\"Freq (GHz)\")\n",
    "plt.ylabel(\"C (fF)\")"
   ]
  },
  {
   "cell_type": "markdown",
   "id": "11",
   "metadata": {},
   "source": [
    "<div class=\"alert alert-success\">\n",
    "TODO the results don't seem good, something must be wrong in the setup…\n",
    "</div>"
   ]
  },
  {
   "cell_type": "code",
   "execution_count": null,
   "id": "12",
   "metadata": {},
   "outputs": [],
   "source": [
    "if results.field_file_locations:\n",
    "    pv.start_xvfb()\n",
    "    pv.set_jupyter_backend(\"trame\")\n",
    "    field = pv.read(results.field_file_locations[0])\n",
    "    slice = field.slice_orthogonal(z=layer_stack.layers[\"bw\"].zmin * 1e-6)\n",
    "\n",
    "    p = pv.Plotter()\n",
    "    p.add_mesh(slice, scalars=\"Ue\", cmap=\"turbo\")\n",
    "    p.show_grid()\n",
    "    p.camera_position = \"xy\"\n",
    "    p.enable_parallel_projection()\n",
    "    p.show()"
   ]
  },
  {
   "cell_type": "markdown",
   "id": "13",
   "metadata": {},
   "source": [
    "## Bibliography\n",
    "```{bibliography}\n",
    ":style: unsrt\n",
    ":filter: docname in docnames\n",
    "```"
   ]
  }
 ],
 "metadata": {
  "jupytext": {
   "cell_metadata_filter": "tags,-all",
   "custom_cell_magics": "kql"
  },
  "kernelspec": {
   "display_name": "base",
   "language": "python",
   "name": "python3"
  },
  "language_info": {
   "codemirror_mode": {
    "name": "ipython",
    "version": 3
   },
   "file_extension": ".py",
   "mimetype": "text/x-python",
   "name": "python",
   "nbconvert_exporter": "python",
   "pygments_lexer": "ipython3",
   "version": "3.11.5"
  }
 },
 "nbformat": 4,
 "nbformat_minor": 5
}
