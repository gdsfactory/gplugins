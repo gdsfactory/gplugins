{
 "cells": [
  {
   "cell_type": "markdown",
   "id": "0",
   "metadata": {},
   "source": [
    "# Ring filter\n",
    "\n",
    "## Calculations\n",
    "\n",
    "For a ring resonator we need to define:\n",
    "\n",
    "Optical parameters:\n",
    "\n",
    "- coupling coefficient: will define resonance extinction ratio for a particular ring loss.\n",
    "- Free spectral range.\n",
    "\n",
    "Electrical parameters:\n",
    "\n",
    "- VpiL\n",
    "- Resistance"
   ]
  },
  {
   "cell_type": "code",
   "execution_count": null,
   "id": "1",
   "metadata": {},
   "outputs": [],
   "source": [
    "import gdsfactory as gf\n",
    "import numpy as np\n",
    "\n",
    "\n",
    "def ring(\n",
    "    wl: np.ndarray,\n",
    "    wl0: float,\n",
    "    neff: float,\n",
    "    ng: float,\n",
    "    ring_length: float,\n",
    "    coupling: float,\n",
    "    loss: float,\n",
    ") -> np.ndarray:\n",
    "    \"\"\"Returns Frequency Domain Response of an all pass filter.\n",
    "\n",
    "    Args:\n",
    "        wl: wavelength in  um.\n",
    "        wl0: center wavelength at which neff and ng are defined.\n",
    "        neff: effective index.\n",
    "        ng: group index.\n",
    "        ring_length: in um.\n",
    "        loss: dB/um.\n",
    "    \"\"\"\n",
    "    transmission = 1 - coupling\n",
    "    neff_wl = (\n",
    "        neff + (wl0 - wl) * (ng - neff) / wl0\n",
    "    )  # we expect a linear behavior with respect to wavelength\n",
    "    out = np.sqrt(transmission) - 10 ** (-loss * ring_length / 20.0) * np.exp(\n",
    "        2j * np.pi * neff_wl * ring_length / wl\n",
    "    )\n",
    "    out /= 1 - np.sqrt(transmission) * 10 ** (-loss * ring_length / 20.0) * np.exp(\n",
    "        2j * np.pi * neff_wl * ring_length / wl\n",
    "    )\n",
    "    return abs(out) ** 2\n",
    "\n",
    "\n",
    "if __name__ == \"__main__\":\n",
    "    import matplotlib.pyplot as plt\n",
    "\n",
    "    loss = 0.03  # [dB/μm] (alpha) waveguide loss\n",
    "    neff = 2.46  # Effective index of the waveguides\n",
    "    wl0 = 1.55  # [μm] the wavelength at which neff and ng are defined\n",
    "    radius = 5\n",
    "    ring_length = 2 * np.pi * radius  # [μm] Length of the ring\n",
    "    coupling = 0.5  # [] coupling of the coupler\n",
    "    wl = np.linspace(1.5, 1.6, 1000)  # [μm] Wavelengths to sweep over\n",
    "    wl = np.linspace(1.55, 1.60, 1000)  # [μm] Wavelengths to sweep over\n",
    "    ngs = [4.182551, 4.169563, 4.172917]\n",
    "    thicknesses = [210, 220, 230]\n",
    "\n",
    "    # widths = np.array([0.4, 0.45, 0.5, 0.55, 0.6])\n",
    "    # ngs = np.array([4.38215238, 4.27254985, 4.16956338, 4.13283219, 4.05791982])\n",
    "\n",
    "    widths = np.array([0.495, 0.5, 0.505])\n",
    "    neffs = np.array([2.40197253, 2.46586378, 2.46731758])\n",
    "    ng = 4.2  # Group index of the waveguides\n",
    "\n",
    "    for width, neff in zip(widths, neffs):\n",
    "        p = ring(\n",
    "            wl=wl,\n",
    "            wl0=wl0,\n",
    "            neff=neff,\n",
    "            ng=ng,\n",
    "            ring_length=ring_length,\n",
    "            coupling=coupling,\n",
    "            loss=loss,\n",
    "        )\n",
    "        plt.plot(wl, p, label=f\"{int(width*1e3)}nm\")\n",
    "\n",
    "    plt.title(\"ring resonator vs waveguide width\")\n",
    "    plt.xlabel(\"wavelength (um)\")\n",
    "    plt.ylabel(\"Power Transmission\")\n",
    "    plt.grid()\n",
    "    plt.legend()\n",
    "    plt.show()"
   ]
  },
  {
   "cell_type": "markdown",
   "id": "2",
   "metadata": {},
   "source": [
    "## Layout\n",
    "\n",
    "gdsfactory easily enables you to layout Component with as many levels of hierarchy as you need.\n",
    "\n",
    "A `Component` is a canvas where we can add polygons, references to other components or ports.\n",
    "\n",
    "Lets add two references in a component."
   ]
  },
  {
   "cell_type": "code",
   "execution_count": null,
   "id": "3",
   "metadata": {},
   "outputs": [],
   "source": [
    "import gdsfactory as gf\n",
    "import toolz\n",
    "\n",
    "c = gf.components.ring_single_heater(gap=0.2, radius=10, length_x=4)\n",
    "c.plot()"
   ]
  },
  {
   "cell_type": "code",
   "execution_count": null,
   "id": "4",
   "metadata": {},
   "outputs": [],
   "source": [
    "scene = c.to_3d()\n",
    "scene.show()"
   ]
  },
  {
   "cell_type": "markdown",
   "id": "5",
   "metadata": {},
   "source": [
    "Lets define a ring function that also accepts other component specs for the subcomponents (straight, coupler, bend)"
   ]
  },
  {
   "cell_type": "code",
   "execution_count": null,
   "id": "6",
   "metadata": {},
   "outputs": [],
   "source": [
    "xs = gf.cross_section.metal3(width=5)\n",
    "\n",
    "ring = gf.components.ring_single_heater(gap=0.2, radius=10, length_x=4)\n",
    "ring_with_pads = gf.routing.add_pads_top(\n",
    "    ring,\n",
    "    port_names=[\"r_e3\", \"l_e1\"],\n",
    "    cross_section=xs,\n",
    "    fanout_length=100,\n",
    ")\n",
    "ring_with_pads_grating_couplers = gf.routing.add_fiber_array(\n",
    "    ring_with_pads, with_loopback=True\n",
    ")\n",
    "ring_with_pads_grating_couplers.show()\n",
    "ring_with_pads_grating_couplers.plot()"
   ]
  },
  {
   "cell_type": "code",
   "execution_count": null,
   "id": "7",
   "metadata": {},
   "outputs": [],
   "source": [
    "ring = gf.components.ring_single_heater(gap=0.2, radius=10, length_x=4)\n",
    "ring_with_grating_couplers = gf.routing.add_fiber_array(ring, with_loopback=True)\n",
    "c = gf.routing.add_electrical_pads_top(\n",
    "    ring_with_grating_couplers, port_names=(\"l_e1\", \"r_e3\")\n",
    ")\n",
    "c.plot()"
   ]
  }
 ],
 "metadata": {
  "jupytext": {
   "cell_metadata_filter": "-all",
   "custom_cell_magics": "kql"
  },
  "kernelspec": {
   "display_name": "base",
   "language": "python",
   "name": "python3"
  },
  "language_info": {
   "codemirror_mode": {
    "name": "ipython",
    "version": 3
   },
   "file_extension": ".py",
   "mimetype": "text/x-python",
   "name": "python",
   "nbconvert_exporter": "python",
   "pygments_lexer": "ipython3",
   "version": "3.11.5"
  }
 },
 "nbformat": 4,
 "nbformat_minor": 5
}
