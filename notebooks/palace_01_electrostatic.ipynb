{
 "cells": [
  {
   "cell_type": "markdown",
   "id": "0",
   "metadata": {},
   "source": [
    "# Electrostatic simulations with Palace\n",
    "Here, we show how Palace may be used to perform electrostatic simulations. For a given geometry, one needs to specify the terminals where to apply potential, similar to {doc}`./elmer_01_electrostatic.py`.\n",
    "This effectively solves the mutual capacitance matrix for the terminals and the capacitance to ground.\n",
    "For details on the physics, see {cite:p}`smolic_capacitance_2021`.\n",
    "\n",
    "## Installation\n",
    "See [Palace – Installation](https://awslabs.github.io/palace/stable/install/) for installation or compilation instructions. Gplugins assumes `palace` is available in your PATH environment variable.\n",
    "\n",
    "Alternatively, [Singularity / Apptainer](https://apptainer.org/) containers may be used. Instructions for building and an example definition file are found at [Palace – Build using Singularity/Apptainer](https://awslabs.github.io/palace/dev/install/#Build-using-Singularity/Apptainer).\n",
    "Afterwards, an easy install method is to add a script to `~/.local/bin` (or elsewhere in `PATH`) calling the Singularity container. For example, one may create a `palace` file containing\n",
    "```console\n",
    "#!/bin/bash\n",
    "singularity exec ~/palace.sif /opt/palace/bin/palace \"$@\"\n",
    "```\n",
    "\n",
    "## Geometry, layer config and materials"
   ]
  },
  {
   "cell_type": "code",
   "execution_count": null,
   "id": "1",
   "metadata": {
    "tags": [
     "hide-input"
    ]
   },
   "outputs": [],
   "source": [
    "import os\n",
    "from math import inf\n",
    "from pathlib import Path\n",
    "\n",
    "import gdsfactory as gf\n",
    "import pyvista as pv\n",
    "from gdsfactory.components.interdigital_capacitor import (\n",
    "    interdigital_capacitor,\n",
    ")\n",
    "from gdsfactory.generic_tech import LAYER, get_generic_pdk\n",
    "from gdsfactory.technology import LayerStack\n",
    "from gdsfactory.technology.layer_stack import LayerLevel\n",
    "from IPython.display import display\n",
    "\n",
    "from gplugins.common.types import RFMaterialSpec\n",
    "from gplugins.palace import run_capacitive_simulation_palace\n",
    "\n",
    "gf.config.rich_output()\n",
    "PDK = get_generic_pdk()\n",
    "PDK.activate()"
   ]
  },
  {
   "cell_type": "markdown",
   "id": "2",
   "metadata": {},
   "source": [
    "We employ an example LayerStack used in superconducting circuits similar to {cite:p}`marxer_long-distance_2023`."
   ]
  },
  {
   "cell_type": "code",
   "execution_count": null,
   "id": "3",
   "metadata": {},
   "outputs": [],
   "source": [
    "layer_stack = LayerStack(\n",
    "    layers=dict(\n",
    "        substrate=LayerLevel(\n",
    "            layer=LAYER.WAFER,\n",
    "            thickness=500,\n",
    "            zmin=0,\n",
    "            material=\"Si\",\n",
    "            mesh_order=99,\n",
    "        ),\n",
    "        bw=LayerLevel(\n",
    "            layer=LAYER.WG,\n",
    "            thickness=200e-3,\n",
    "            zmin=500,\n",
    "            material=\"Nb\",\n",
    "            mesh_order=2,\n",
    "        ),\n",
    "    )\n",
    ")\n",
    "material_spec: RFMaterialSpec = {\n",
    "    \"Si\": {\"relative_permittivity\": 11.45},\n",
    "    \"Nb\": {\"relative_permittivity\": inf},\n",
    "    \"vacuum\": {\"relative_permittivity\": 1},\n",
    "}"
   ]
  },
  {
   "cell_type": "code",
   "execution_count": null,
   "id": "4",
   "metadata": {},
   "outputs": [],
   "source": [
    "simulation_box = [[-200, -200], [200, 200]]\n",
    "c = gf.Component()\n",
    "cap = c << interdigital_capacitor()\n",
    "c.add_ports(cap.ports)\n",
    "substrate = gf.components.bbox(c, layer=LAYER.WAFER)\n",
    "c << substrate\n",
    "c.plot()"
   ]
  },
  {
   "cell_type": "markdown",
   "id": "5",
   "metadata": {},
   "source": [
    "## Running the simulation\n",
    "```{eval-rst}\n",
    "We use the function :func:`~run_capacitive_simulation_palace`. This runs the simulation and returns an instance of :class:`~ElectrostaticResults` containing the capacitance matrix and a path to the mesh and the field solutions.\n",
    "```"
   ]
  },
  {
   "cell_type": "code",
   "execution_count": null,
   "id": "6",
   "metadata": {},
   "outputs": [],
   "source": [
    "help(run_capacitive_simulation_palace)"
   ]
  },
  {
   "cell_type": "markdown",
   "id": "7",
   "metadata": {},
   "source": [
    "```{eval-rst}\n",
    ".. note::\n",
    "   The meshing parameters and element order shown here are very lax. As such, the computed capacitances are not very accurate.\n",
    "```"
   ]
  },
  {
   "cell_type": "code",
   "execution_count": null,
   "id": "8",
   "metadata": {
    "tags": [
     "hide-output"
    ]
   },
   "outputs": [],
   "source": [
    "results = run_capacitive_simulation_palace(\n",
    "    c,\n",
    "    layer_stack=layer_stack,\n",
    "    material_spec=material_spec,\n",
    "    n_processes=1,\n",
    "    element_order=1,\n",
    "    simulation_folder=Path(os.getcwd()) / \"temporary\",\n",
    "    mesh_parameters=dict(\n",
    "        background_tag=\"vacuum\",\n",
    "        background_padding=(0,) * 5 + (700,),\n",
    "        port_names=c.ports,\n",
    "        default_characteristic_length=200,\n",
    "        resolutions={\n",
    "            \"bw\": {\n",
    "                \"resolution\": 15,\n",
    "            },\n",
    "            \"substrate\": {\n",
    "                \"resolution\": 40,\n",
    "            },\n",
    "            \"vacuum\": {\n",
    "                \"resolution\": 40,\n",
    "            },\n",
    "            **{\n",
    "                f\"bw__{port}\": {  # `__` is used as the layer–port delimiter for Palace\n",
    "                    \"resolution\": 20,\n",
    "                    \"DistMax\": 30,\n",
    "                    \"DistMin\": 10,\n",
    "                    \"SizeMax\": 14,\n",
    "                    \"SizeMin\": 3,\n",
    "                }\n",
    "                for port in c.ports\n",
    "            },\n",
    "        },\n",
    "    ),\n",
    ")\n",
    "display(results)"
   ]
  },
  {
   "cell_type": "code",
   "execution_count": null,
   "id": "9",
   "metadata": {
    "lines_to_next_cell": 2
   },
   "outputs": [],
   "source": [
    "if results.field_file_location:\n",
    "    pv.start_xvfb()\n",
    "    pv.set_jupyter_backend(\"trame\")\n",
    "    field = pv.read(results.field_file_location)\n",
    "    field_slice = field.slice_orthogonal(z=layer_stack.layers[\"bw\"].zmin * 1e-6)\n",
    "\n",
    "    p = pv.Plotter()\n",
    "    p.add_mesh(field_slice, scalars=\"E\", cmap=\"turbo\")\n",
    "    p.show_grid()\n",
    "    p.camera_position = \"xy\"\n",
    "    p.enable_parallel_projection()\n",
    "    p.show()"
   ]
  },
  {
   "cell_type": "markdown",
   "id": "10",
   "metadata": {},
   "source": [
    "## Bibliography\n",
    "\n",
    "```{bibliography}\n",
    ":style: unsrt\n",
    ":filter: docname in docnames\n",
    "```"
   ]
  }
 ],
 "metadata": {
  "jupytext": {
   "cell_metadata_filter": "tags,-all",
   "custom_cell_magics": "kql"
  },
  "kernelspec": {
   "display_name": "base",
   "language": "python",
   "name": "python3"
  },
  "language_info": {
   "codemirror_mode": {
    "name": "ipython",
    "version": 3
   },
   "file_extension": ".py",
   "mimetype": "text/x-python",
   "name": "python",
   "nbconvert_exporter": "python",
   "pygments_lexer": "ipython3",
   "version": "3.11.5"
  }
 },
 "nbformat": 4,
 "nbformat_minor": 5
}
