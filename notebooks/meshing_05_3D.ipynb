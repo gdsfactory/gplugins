{
 "cells": [
  {
   "cell_type": "markdown",
   "id": "0",
   "metadata": {},
   "source": [
    "# 3D meshing and net entities\n",
    "\n",
    "The same API can be used to mesh a component in 3D. Furthermore, there are simple ways to tag elements attached to ports to define simulation boundary conditions.\n",
    "\n",
    "This time, let's use the LayerStack's box and clad layerlevels (associated with layer.WAFER) to define the background:"
   ]
  },
  {
   "cell_type": "code",
   "execution_count": null,
   "id": "1",
   "metadata": {},
   "outputs": [],
   "source": [
    "import gdsfactory as gf\n",
    "import meshio\n",
    "from gdsfactory.generic_tech import get_generic_pdk\n",
    "from gdsfactory.pdk import get_layer_stack\n",
    "from gdsfactory.technology import LayerStack\n",
    "from skfem.io import from_meshio\n",
    "\n",
    "from gplugins.gmsh.get_mesh import create_physical_mesh, get_mesh\n",
    "\n",
    "PDK = get_generic_pdk()\n",
    "PDK.activate()\n",
    "gf.config.rich_output()\n",
    "\n",
    "waveguide = gf.components.straight_pin(length=5, taper=None)\n",
    "waveguide.plot()"
   ]
  },
  {
   "cell_type": "code",
   "execution_count": null,
   "id": "2",
   "metadata": {},
   "outputs": [],
   "source": [
    "filtered_layer_stack = LayerStack(\n",
    "    layers={\n",
    "        k: get_layer_stack().layers[k]\n",
    "        for k in (\n",
    "            \"slab90\",\n",
    "            \"core\",\n",
    "            \"via_contact\",\n",
    "            \"metal1\",\n",
    "            \"via1\",\n",
    "            \"metal2\",\n",
    "            \"via2\",\n",
    "            \"metal3\",\n",
    "        )\n",
    "    }\n",
    ")\n",
    "\n",
    "filename = \"mesh\"\n",
    "\n",
    "\n",
    "def mesh_with_physicals(mesh, filename):\n",
    "    mesh_from_file = meshio.read(f\"{filename}.msh\")\n",
    "    return create_physical_mesh(mesh_from_file, \"tetra\")"
   ]
  },
  {
   "cell_type": "code",
   "execution_count": null,
   "id": "3",
   "metadata": {},
   "outputs": [],
   "source": [
    "mesh = get_mesh(\n",
    "    component=waveguide,\n",
    "    type=\"3D\",\n",
    "    layer_stack=filtered_layer_stack,\n",
    "    filename=f\"{filename}.msh\",\n",
    "    default_characteristic_length=1,\n",
    "    verbosity=5,\n",
    ")"
   ]
  },
  {
   "cell_type": "code",
   "execution_count": null,
   "id": "4",
   "metadata": {},
   "outputs": [],
   "source": [
    "mesh = mesh_with_physicals(mesh, filename)\n",
    "mesh = from_meshio(mesh)\n",
    "mesh.draw().plot(xs=[], ys=[])"
   ]
  },
  {
   "cell_type": "markdown",
   "id": "5",
   "metadata": {},
   "source": [
    "## Net entities\n",
    "\n",
    "The default behaviour of the plugin is to create Gmsh physical entities according to layernames. Oftentimes, however, different polygons on the same layer must be accessed separately, for instance to define boundary conditions. In gplugins, these are tagged with the ports of the Component.\n",
    "\n",
    "To use this feature, the `port_names` argument must be passed. For each portname in the list, GDS polygons touching the associated port will be put on a new layer called \"{original_layername}{delimiter}{portname}\". This new layer is otherwise physically identical to the original one (so same thickness, material, etc.).\n",
    "\n",
    "<div class=\"alert alert-success\">\n",
    "Note: in the future, it would be interesting to broaden what is possible with port entities, for instance allowing 2D planes in a 3D simulation.\n",
    "</div>"
   ]
  },
  {
   "cell_type": "markdown",
   "id": "6",
   "metadata": {},
   "source": [
    "Print the port_names for reference:"
   ]
  },
  {
   "cell_type": "code",
   "execution_count": null,
   "id": "7",
   "metadata": {},
   "outputs": [],
   "source": [
    "[port.name for port in waveguide.ports]"
   ]
  },
  {
   "cell_type": "markdown",
   "id": "8",
   "metadata": {},
   "source": [
    "Choose two:"
   ]
  },
  {
   "cell_type": "code",
   "execution_count": null,
   "id": "9",
   "metadata": {},
   "outputs": [],
   "source": [
    "print(waveguide.ports[\"top_e1\"])\n",
    "print(waveguide.ports[\"bot_e1\"])"
   ]
  },
  {
   "cell_type": "markdown",
   "id": "10",
   "metadata": {},
   "source": [
    "FIXME!\n",
    "\n",
    "```python\n",
    "\n",
    "mesh = get_mesh(\n",
    "    component=waveguide,\n",
    "    type=\"3D\",\n",
    "    layer_stack=filtered_layer_stack,\n",
    "    filename=f\"{filename}.msh\",\n",
    "    default_characteristic_length=1,\n",
    "    port_names=[\"top_e1\", \"bot_e1\"],\n",
    ")\n",
    "```"
   ]
  },
  {
   "cell_type": "markdown",
   "id": "11",
   "metadata": {},
   "source": [
    "Note the extra layers."
   ]
  }
 ],
 "metadata": {
  "jupytext": {
   "cell_metadata_filter": "-all",
   "main_language": "python",
   "notebook_metadata_filter": "-all"
  },
  "kernelspec": {
   "display_name": "base",
   "language": "python",
   "name": "python3"
  },
  "language_info": {
   "codemirror_mode": {
    "name": "ipython",
    "version": 3
   },
   "file_extension": ".py",
   "mimetype": "text/x-python",
   "name": "python",
   "nbconvert_exporter": "python",
   "pygments_lexer": "ipython3",
   "version": "3.11.5"
  }
 },
 "nbformat": 4,
 "nbformat_minor": 5
}
