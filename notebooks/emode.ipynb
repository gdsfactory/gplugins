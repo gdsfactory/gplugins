{
 "cells": [
  {
   "cell_type": "markdown",
   "id": "dec55ff8",
   "metadata": {},
   "source": [
    "# EMode - Photonic Device Simulation\n",
    "\n",
    "The EMode plugin integrates simulation capabilities from [**EMode Photonix**](https://emodephotonix.com) with GDSFactory. This plugin enables the analysis of photonic devices through:\n",
    "\n",
    "- Waveguide mode solving using a Finite-Difference Frequency Domain (FDFD) method.\n",
    "- Propagation simulations using the Eigenmode Expansion (EME) method.\n",
    "\n",
    "Cross-sectional simulations are available with a free EMode<sup>2D</sup> license. The propagation module requires an EMode<sup>3D</sup> license.\n",
    "\n",
    "See the complete EMode documentation at [**EMode Docs**](https://docs.emodephotonix.com).\n",
    "\n",
    "Get an EMode license at the [**EMode Shop**](https://emodephotonix.com/get-emode).\n",
    "\n",
    "## Software Requirement\n",
    "\n",
    "This plugin requires that the EMode software is already installed on the user's computer. Please refer to the installation guide at [docs.emodephotonix.com/installation](https://docs.emodephotonix.com/installation) for detailed instructions.\n",
    "\n",
    "## Using EMode Examples with gplugins\n",
    "\n",
    "All of the [**EMode examples**](https://docs.emodephotonix.com/examples) can be adapted for use with the GDSFactory plugin. Simply replace the standard EMode import:"
   ]
  },
  {
   "cell_type": "code",
   "execution_count": 7,
   "id": "f0fbf103",
   "metadata": {},
   "outputs": [],
   "source": [
    "import emodeconnection as emc"
   ]
  },
  {
   "cell_type": "markdown",
   "id": "6f832fad",
   "metadata": {},
   "source": [
    "with the plugin-specific import:"
   ]
  },
  {
   "cell_type": "code",
   "execution_count": null,
   "id": "8b62c1bf",
   "metadata": {},
   "outputs": [],
   "source": [
    "import gplugins.emode as emc"
   ]
  },
  {
   "cell_type": "markdown",
   "id": "1f863dfd",
   "metadata": {},
   "source": [
    "The ``gplugins.emode`` import provides the same interface and usage as the ``emodeconnection`` package, detailed in the [EMode Python connection documentation](https://docs.emodephotonix.com/emodeconnection_python)."
   ]
  }
 ],
 "metadata": {
  "kernelspec": {
   "display_name": "Python 3 (ipykernel)",
   "language": "python",
   "name": "python3"
  },
  "language_info": {
   "codemirror_mode": {
    "name": "ipython",
    "version": 3
   },
   "file_extension": ".py",
   "mimetype": "text/x-python",
   "name": "python",
   "nbconvert_exporter": "python",
   "pygments_lexer": "ipython3",
   "version": "3.10.8"
  }
 },
 "nbformat": 4,
 "nbformat_minor": 5
}
