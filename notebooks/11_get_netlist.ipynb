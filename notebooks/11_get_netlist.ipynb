{
 "cells": [
  {
   "cell_type": "markdown",
   "id": "0",
   "metadata": {},
   "source": [
    "# Netlist extractor YAML\n",
    "\n",
    "Any component can extract its netlist with `get_netlist`\n",
    "\n",
    "While `gf.read.from_yaml` converts a `YAML Dict` into a `Component`\n",
    "\n",
    "`get_netlist` converts `Component` into a YAML `Dict`"
   ]
  },
  {
   "cell_type": "code",
   "execution_count": null,
   "id": "1",
   "metadata": {},
   "outputs": [],
   "source": [
    "import gdsfactory as gf\n",
    "import yaml"
   ]
  },
  {
   "cell_type": "code",
   "execution_count": null,
   "id": "2",
   "metadata": {},
   "outputs": [],
   "source": [
    "c = gf.components.mzi()\n",
    "c.plot()"
   ]
  },
  {
   "cell_type": "code",
   "execution_count": null,
   "id": "3",
   "metadata": {},
   "outputs": [],
   "source": [
    "c.plot_netlist()"
   ]
  },
  {
   "cell_type": "code",
   "execution_count": null,
   "id": "4",
   "metadata": {},
   "outputs": [],
   "source": [
    "c = gf.components.ring_single()\n",
    "c.plot()"
   ]
  },
  {
   "cell_type": "code",
   "execution_count": null,
   "id": "5",
   "metadata": {},
   "outputs": [],
   "source": [
    "c.plot_netlist()"
   ]
  },
  {
   "cell_type": "code",
   "execution_count": null,
   "id": "6",
   "metadata": {},
   "outputs": [],
   "source": [
    "n = c.get_netlist()"
   ]
  },
  {
   "cell_type": "code",
   "execution_count": null,
   "id": "7",
   "metadata": {},
   "outputs": [],
   "source": [
    "filepath = c.write_netlist(\"ring.yml\")"
   ]
  },
  {
   "cell_type": "code",
   "execution_count": null,
   "id": "8",
   "metadata": {},
   "outputs": [],
   "source": [
    "n = yaml.safe_load(filepath.read_text())"
   ]
  },
  {
   "cell_type": "code",
   "execution_count": null,
   "id": "9",
   "metadata": {},
   "outputs": [],
   "source": [
    "n"
   ]
  },
  {
   "cell_type": "code",
   "execution_count": null,
   "id": "10",
   "metadata": {},
   "outputs": [],
   "source": [
    "i = list(n[\"instances\"].keys())\n",
    "i"
   ]
  },
  {
   "cell_type": "code",
   "execution_count": null,
   "id": "11",
   "metadata": {},
   "outputs": [],
   "source": [
    "instance_name0 = i[0]"
   ]
  },
  {
   "cell_type": "code",
   "execution_count": null,
   "id": "12",
   "metadata": {
    "lines_to_next_cell": 2
   },
   "outputs": [],
   "source": [
    "n[\"instances\"][instance_name0][\"settings\"]"
   ]
  },
  {
   "cell_type": "markdown",
   "id": "13",
   "metadata": {
    "lines_to_next_cell": 2
   },
   "source": [
    "## Instance names\n",
    "\n",
    "By default get netlist names each `instance` with the name of the `reference`\n"
   ]
  },
  {
   "cell_type": "code",
   "execution_count": null,
   "id": "14",
   "metadata": {},
   "outputs": [],
   "source": [
    "@gf.cell\n",
    "def mzi_with_bend_automatic_naming():\n",
    "    c = gf.Component()\n",
    "    mzi = c.add_ref(gf.components.mzi())\n",
    "    bend = c.add_ref(gf.components.bend_euler())\n",
    "    bend.connect(\"o1\", mzi.ports[\"o2\"])\n",
    "    return c\n",
    "\n",
    "\n",
    "c = mzi_with_bend_automatic_naming()\n",
    "c.plot_netlist()"
   ]
  },
  {
   "cell_type": "code",
   "execution_count": null,
   "id": "15",
   "metadata": {},
   "outputs": [],
   "source": [
    "@gf.cell\n",
    "def mzi_with_bend_deterministic_names_using_alias():\n",
    "    c = gf.Component()\n",
    "    mzi = c.add_ref(gf.components.mzi(), alias=\"my_mzi\")\n",
    "    bend = c.add_ref(gf.components.bend_euler(), alias=\"my_bend\")\n",
    "    bend.connect(\"o1\", mzi.ports[\"o2\"])\n",
    "    return c\n",
    "\n",
    "\n",
    "c = mzi_with_bend_deterministic_names_using_alias()\n",
    "c.plot_netlist()"
   ]
  },
  {
   "cell_type": "code",
   "execution_count": null,
   "id": "16",
   "metadata": {},
   "outputs": [],
   "source": [
    "c = gf.components.mzi()\n",
    "c.plot()"
   ]
  },
  {
   "cell_type": "code",
   "execution_count": null,
   "id": "17",
   "metadata": {},
   "outputs": [],
   "source": [
    "c = gf.components.mzi()\n",
    "n = c.get_netlist()\n",
    "print(c.get_netlist().keys())"
   ]
  },
  {
   "cell_type": "code",
   "execution_count": null,
   "id": "18",
   "metadata": {},
   "outputs": [],
   "source": [
    "c.plot_netlist()"
   ]
  },
  {
   "cell_type": "code",
   "execution_count": null,
   "id": "19",
   "metadata": {
    "lines_to_next_cell": 2
   },
   "outputs": [],
   "source": [
    "n.keys()"
   ]
  },
  {
   "cell_type": "markdown",
   "id": "20",
   "metadata": {
    "lines_to_next_cell": 2
   },
   "source": [
    "## warnings\n",
    "\n",
    "Lets make a connectivity **error**, for example connecting ports on the wrong layer\n"
   ]
  },
  {
   "cell_type": "code",
   "execution_count": null,
   "id": "21",
   "metadata": {},
   "outputs": [],
   "source": [
    "@gf.cell\n",
    "def mmi_with_bend():\n",
    "    c = gf.Component()\n",
    "    mmi = c.add_ref(gf.components.mmi1x2(), alias=\"mmi\")\n",
    "    bend = c.add_ref(gf.components.bend_euler(layer=(2, 0)), alias=\"bend\")\n",
    "    bend.connect(\"o1\", mmi.ports[\"o2\"], allow_layer_mismatch=True)\n",
    "    return c\n",
    "\n",
    "\n",
    "c = mmi_with_bend()\n",
    "c.plot()"
   ]
  },
  {
   "cell_type": "code",
   "execution_count": null,
   "id": "22",
   "metadata": {},
   "outputs": [],
   "source": [
    "n = c.get_netlist()"
   ]
  },
  {
   "cell_type": "code",
   "execution_count": null,
   "id": "23",
   "metadata": {},
   "outputs": [],
   "source": [
    "print(n[\"warnings\"])"
   ]
  },
  {
   "cell_type": "code",
   "execution_count": null,
   "id": "24",
   "metadata": {},
   "outputs": [],
   "source": [
    "c.plot_netlist()"
   ]
  },
  {
   "cell_type": "markdown",
   "id": "25",
   "metadata": {},
   "source": [
    "## get_netlist_recursive\n",
    "\n",
    "When you do `get_netlist()` for a component it will only show connections for the instances that belong to that component.\n",
    "So despite having a lot of connections, it will show only the meaningful connections for that component.\n",
    "For example, a ring has a ring_coupler. If you want to dig deeper, the connections that made that ring coupler are still available.\n",
    "\n",
    "`get_netlist_recursive()` returns a recursive netlist."
   ]
  },
  {
   "cell_type": "code",
   "execution_count": null,
   "id": "26",
   "metadata": {},
   "outputs": [],
   "source": [
    "c = gf.components.ring_single()\n",
    "c.plot()"
   ]
  },
  {
   "cell_type": "code",
   "execution_count": null,
   "id": "27",
   "metadata": {},
   "outputs": [],
   "source": [
    "c.plot_netlist()"
   ]
  },
  {
   "cell_type": "code",
   "execution_count": null,
   "id": "28",
   "metadata": {},
   "outputs": [],
   "source": [
    "c = gf.components.ring_double()\n",
    "c.plot()"
   ]
  },
  {
   "cell_type": "code",
   "execution_count": null,
   "id": "29",
   "metadata": {},
   "outputs": [],
   "source": [
    "c.plot_netlist()"
   ]
  },
  {
   "cell_type": "code",
   "execution_count": null,
   "id": "30",
   "metadata": {},
   "outputs": [],
   "source": [
    "c = gf.components.mzit()\n",
    "c.plot()"
   ]
  },
  {
   "cell_type": "code",
   "execution_count": null,
   "id": "31",
   "metadata": {},
   "outputs": [],
   "source": [
    "c.plot_netlist()"
   ]
  },
  {
   "cell_type": "code",
   "execution_count": null,
   "id": "32",
   "metadata": {},
   "outputs": [],
   "source": [
    "coupler_lengths = (10, 20, 30)\n",
    "coupler_gaps = (0.1, 0.2, 0.3)\n",
    "delta_lengths = (10, 100)\n",
    "\n",
    "c = gf.components.mzi_lattice(\n",
    "    coupler_lengths=coupler_lengths,\n",
    "    coupler_gaps=coupler_gaps,\n",
    "    delta_lengths=delta_lengths,\n",
    ")\n",
    "c.plot()"
   ]
  },
  {
   "cell_type": "code",
   "execution_count": null,
   "id": "33",
   "metadata": {},
   "outputs": [],
   "source": [
    "c.plot_netlist()"
   ]
  },
  {
   "cell_type": "code",
   "execution_count": null,
   "id": "34",
   "metadata": {},
   "outputs": [],
   "source": [
    "coupler_lengths = (10, 20, 30, 40)\n",
    "coupler_gaps = (0.1, 0.2, 0.4, 0.5)\n",
    "delta_lengths = (10, 100, 200)\n",
    "\n",
    "c = gf.components.mzi_lattice(\n",
    "    coupler_lengths=coupler_lengths,\n",
    "    coupler_gaps=coupler_gaps,\n",
    "    delta_lengths=delta_lengths,\n",
    ")\n",
    "c.plot()"
   ]
  },
  {
   "cell_type": "code",
   "execution_count": null,
   "id": "35",
   "metadata": {},
   "outputs": [],
   "source": [
    "n = c.get_netlist()"
   ]
  },
  {
   "cell_type": "code",
   "execution_count": null,
   "id": "36",
   "metadata": {},
   "outputs": [],
   "source": [
    "c.plot_netlist()"
   ]
  },
  {
   "cell_type": "code",
   "execution_count": null,
   "id": "37",
   "metadata": {},
   "outputs": [],
   "source": [
    "n_recursive = c.get_netlist(recursive=True)"
   ]
  },
  {
   "cell_type": "code",
   "execution_count": null,
   "id": "38",
   "metadata": {},
   "outputs": [],
   "source": [
    "n_recursive.keys()"
   ]
  },
  {
   "cell_type": "markdown",
   "id": "39",
   "metadata": {},
   "source": [
    "Placement information is accumulated, and connections and ports are mapped, respectively, to the ports of the unique instances or the component top level ports. This can be plotted:"
   ]
  },
  {
   "cell_type": "code",
   "execution_count": null,
   "id": "40",
   "metadata": {},
   "outputs": [],
   "source": [
    "c.plot_netlist(with_labels=False)  # labels get cluttered"
   ]
  },
  {
   "cell_type": "markdown",
   "id": "41",
   "metadata": {},
   "source": [
    "## allow_multiple_connections\n",
    "\n",
    "The default `get_netlist` function (also used by default by `get_netlist_recurse` and `get_netlist_flat`) can identify more than two ports sharing the same connection through the `allow_multiple` flag.\n",
    "\n",
    "For instance, consider a resistor network with one shared node:"
   ]
  },
  {
   "cell_type": "code",
   "execution_count": null,
   "id": "42",
   "metadata": {},
   "outputs": [],
   "source": [
    "import gdsfactory as gf\n",
    "\n",
    "vdiv = gf.Component()\n",
    "r1 = vdiv << gf.components.resistance_sheet()\n",
    "r2 = vdiv << gf.components.resistance_sheet()\n",
    "r3 = vdiv << gf.get_component(gf.components.resistance_sheet)\n",
    "r4 = vdiv << gf.get_component(gf.components.resistance_sheet)\n",
    "\n",
    "r1.connect(\"pad2\", r2.ports[\"pad1\"])\n",
    "r3.connect(\"pad1\", r2.ports[\"pad1\"])\n",
    "r4.connect(\"pad2\", r2.ports[\"pad1\"])\n",
    "\n",
    "r4.drotate(90)\n",
    "\n",
    "vdiv.plot()"
   ]
  },
  {
   "cell_type": "code",
   "execution_count": null,
   "id": "43",
   "metadata": {},
   "outputs": [],
   "source": [
    "try:\n",
    "    vdiv.get_netlist()\n",
    "except Exception as exc:\n",
    "    print(exc)"
   ]
  },
  {
   "cell_type": "code",
   "execution_count": null,
   "id": "44",
   "metadata": {},
   "outputs": [],
   "source": [
    "vdiv.get_netlist(allow_multiple=True)"
   ]
  },
  {
   "cell_type": "code",
   "execution_count": null,
   "id": "45",
   "metadata": {},
   "outputs": [],
   "source": [
    "from gplugins.gfviz import show\n",
    "import gdsfactory as gf"
   ]
  },
  {
   "cell_type": "code",
   "execution_count": null,
   "id": "46",
   "metadata": {},
   "outputs": [],
   "source": [
    "show(gf.components.mzi())"
   ]
  },
  {
   "cell_type": "code",
   "execution_count": null,
   "id": "47",
   "metadata": {},
   "outputs": [],
   "source": [
    "show(gf.components.ring_single())"
   ]
  }
 ],
 "metadata": {
  "jupytext": {
   "cell_metadata_filter": "-all",
   "main_language": "python",
   "notebook_metadata_filter": "-all"
  },
  "kernelspec": {
   "display_name": "Python 3 (ipykernel)",
   "language": "python",
   "name": "python3"
  },
  "language_info": {
   "codemirror_mode": {
    "name": "ipython",
    "version": 3
   },
   "file_extension": ".py",
   "mimetype": "text/x-python",
   "name": "python",
   "nbconvert_exporter": "python",
   "pygments_lexer": "ipython3",
   "version": "3.11.5"
  }
 },
 "nbformat": 4,
 "nbformat_minor": 5
}
