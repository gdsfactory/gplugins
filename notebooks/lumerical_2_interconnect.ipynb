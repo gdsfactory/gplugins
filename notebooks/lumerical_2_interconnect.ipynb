{
 "cells": [
  {
   "cell_type": "markdown",
   "id": "0",
   "metadata": {},
   "source": [
    "# Lumerical INTERCONNECT\n",
    "\n",
    "The Lumerical INTERCONNECT plugin in gdsfactory can run circuit simulations in INTERCONNECT directly from gdsfactory components.\n",
    "\n",
    "This is a work-in-progress and can't handle hierarchical components yet.\n",
    "\n",
    "\n",
    "This example also requires you to install the UBC PDK, `pip install ubcpdk`.\n",
    "In addition, access to the Lumerical Python api through `lumapi` is required. Follow instructions in {doc}`lumerical_1_fdtd_sparameters.py` to this end."
   ]
  },
  {
   "cell_type": "code",
   "execution_count": null,
   "id": "1",
   "metadata": {},
   "outputs": [],
   "source": [
    "from collections import OrderedDict\n",
    "\n",
    "import gdsfactory as gf\n",
    "import matplotlib.pyplot as plt\n",
    "import numpy as np\n",
    "import ubcpdk.components as pdk\n",
    "from gdsfactory.get_netlist import get_instance_name_from_alias as get_instance_name\n",
    "from gdsfactory.routing import route_single\n",
    "\n",
    "from gplugins.lumerical.interconnect import plot_wavelength_sweep, run_wavelength_sweep\n",
    "\n",
    "gf.config.rich_output()\n",
    "\n",
    "import lumapi\n",
    "\n",
    "session = lumapi.INTERCONNECT()"
   ]
  },
  {
   "cell_type": "markdown",
   "id": "2",
   "metadata": {},
   "source": [
    "Currently, only simulations using CMLs (compact model libraries) are supported, so this tutorial will demonstrate using the [SiEPIC EBeam PDK](https://github.com/lukasc-ubc/SiEPIC_EBeam_PDK) with the [ubcpdk](https://github.com/gdsfactory/ubc) package.\n"
   ]
  },
  {
   "cell_type": "code",
   "execution_count": null,
   "id": "3",
   "metadata": {},
   "outputs": [],
   "source": [
    "circuit = gf.Component(\"Circuit\")\n",
    "\n",
    "gc1 = circuit << pdk.gc_te1550()\n",
    "gc2 = circuit << pdk.gc_te1550()\n",
    "gc3 = circuit << pdk.gc_te1550()\n",
    "\n",
    "gc1.rotate(180)\n",
    "gc2.rotate(180)\n",
    "gc3.rotate(180)\n",
    "\n",
    "gc2.dmovey(127)\n",
    "gc3.dmovey(-127)\n",
    "\n",
    "s = circuit << pdk.y_splitter()\n",
    "s.dmovex(75)\n",
    "\n",
    "circuit.show()\n",
    "circuit"
   ]
  },
  {
   "cell_type": "code",
   "execution_count": null,
   "id": "4",
   "metadata": {},
   "outputs": [],
   "source": [
    "route_in = route_single(gc1.ports[\"opt1\"], s.ports[\"opt1\"])\n",
    "route_out_top = route_single(s.ports[\"opt2\"], gc2.ports[\"opt1\"])\n",
    "route_out_bot = route_single(\n",
    "    s.ports[\"opt3\"], gc3.ports[\"opt1\"], start_straight_length=1000\n",
    ")\n",
    "\n",
    "circuit.add(route_in.references)\n",
    "circuit.add(route_out_top.references)\n",
    "circuit.add(route_out_bot.references)\n",
    "\n",
    "circuit.show()"
   ]
  },
  {
   "cell_type": "code",
   "execution_count": null,
   "id": "5",
   "metadata": {},
   "outputs": [],
   "source": [
    "netlist = circuit.get_netlist()\n",
    "\n",
    "gc1_netlist_instance_name = get_instance_name(circuit, gc1)\n",
    "gc2_netlist_instance_name = get_instance_name(circuit, gc2)\n",
    "gc3_netlist_instance_name = get_instance_name(circuit, gc3)\n",
    "\n",
    "ports_in = {gc1_netlist_instance_name: \"opt_fiber\"}\n",
    "ports_out = {\n",
    "    gc2_netlist_instance_name: \"opt_fiber\",\n",
    "    gc3_netlist_instance_name: \"opt_fiber\",\n",
    "}"
   ]
  },
  {
   "cell_type": "code",
   "execution_count": null,
   "id": "6",
   "metadata": {},
   "outputs": [],
   "source": [
    "simulation_settings = OrderedDict(\n",
    "    [\n",
    "        (\"MC_uniformity_thickness\", np.array([200, 200])),\n",
    "        (\"MC_uniformity_width\", np.array([200, 200])),\n",
    "        (\"MC_non_uniform\", 0),\n",
    "        (\"MC_grid\", 1e-5),\n",
    "        (\"MC_resolution_x\", 200),\n",
    "        (\"MC_resolution_y\", 0),\n",
    "    ]\n",
    ")\n",
    "\n",
    "results = run_wavelength_sweep(\n",
    "    component=circuit,\n",
    "    session=session,\n",
    "    ports_in=ports_in,\n",
    "    ports_out=ports_out,\n",
    "    simulation_settings=simulation_settings,\n",
    "    results=(\"transmission\",),\n",
    "    component_distance_scaling=10,\n",
    "    setup_mc=True,\n",
    ")"
   ]
  },
  {
   "cell_type": "code",
   "execution_count": null,
   "id": "7",
   "metadata": {},
   "outputs": [],
   "source": [
    "plot_wavelength_sweep(ports_out=ports_out, results=results, show=True)"
   ]
  },
  {
   "cell_type": "markdown",
   "id": "8",
   "metadata": {},
   "source": [
    "## MZI Wavelength Sweep"
   ]
  },
  {
   "cell_type": "code",
   "execution_count": null,
   "id": "9",
   "metadata": {},
   "outputs": [],
   "source": [
    "mzi = pdk.mzi()\n",
    "mzi"
   ]
  },
  {
   "cell_type": "code",
   "execution_count": null,
   "id": "10",
   "metadata": {},
   "outputs": [],
   "source": [
    "# If the ports are in the top-level cell, use a dictionary like this and\n",
    "# set is_top_level to True in the call to run_wavelength_sweep\n",
    "ports_in = {\"o1\": \"o1\"}\n",
    "ports_out = {\"o2\": \"o2\"}\n",
    "\n",
    "simulation_settings = OrderedDict(\n",
    "    [\n",
    "        (\"MC_uniformity_thickness\", np.array([200, 200])),\n",
    "        (\"MC_uniformity_width\", np.array([200, 200])),\n",
    "        (\"MC_non_uniform\", 0),\n",
    "        (\"MC_grid\", 1e-5),\n",
    "        (\"MC_resolution_x\", 200),\n",
    "        (\"MC_resolution_y\", 0),\n",
    "    ]\n",
    ")\n",
    "results = run_wavelength_sweep(\n",
    "    session=session,\n",
    "    component=mzi,\n",
    "    ports_in=ports_in,\n",
    "    ports_out=ports_out,\n",
    "    results=(\"transmission\",),\n",
    "    component_distance_scaling=50,\n",
    "    simulation_settings=simulation_settings,\n",
    "    setup_mc=True,\n",
    "    is_top_level=True,\n",
    ")"
   ]
  },
  {
   "cell_type": "code",
   "execution_count": null,
   "id": "11",
   "metadata": {},
   "outputs": [],
   "source": [
    "plot_wavelength_sweep(\n",
    "    ports_out=ports_out, results=results, result_name=\"'TE' transmission\"\n",
    ")"
   ]
  },
  {
   "cell_type": "code",
   "execution_count": null,
   "id": "12",
   "metadata": {},
   "outputs": [],
   "source": [
    "um = 1e-6\n",
    "result_name = \"'TE' transmission\"\n",
    "\n",
    "for port in ports_out:\n",
    "    wl = results[\"transmission\"][port][\"wavelength\"] / um\n",
    "    T = 10 * np.log10(np.abs(results[\"transmission\"][port][result_name]))\n",
    "    plt.plot(wl, T, label=str(port))\n",
    "\n",
    "plt.legend()\n",
    "plt.xlabel(r\"Wavelength ($\\mu$m)\")\n",
    "plt.ylabel(f\"{result_name} (dB)\")\n",
    "plt.show()"
   ]
  }
 ],
 "metadata": {
  "jupytext": {
   "cell_metadata_filter": "-all",
   "main_language": "python",
   "notebook_metadata_filter": "-all"
  }
 },
 "nbformat": 4,
 "nbformat_minor": 5
}
