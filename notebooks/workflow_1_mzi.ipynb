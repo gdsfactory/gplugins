{
 "cells": [
  {
   "cell_type": "markdown",
   "id": "0",
   "metadata": {},
   "source": [
    "# MZI filter\n",
    "\n",
    "In this example we will go over a [Mach–Zehnder interferometer](https://en.wikipedia.org/wiki/Mach%E2%80%93Zehnder_interferometer) filter design.\n"
   ]
  },
  {
   "cell_type": "markdown",
   "id": "1",
   "metadata": {},
   "source": [
    "## Calculations"
   ]
  },
  {
   "cell_type": "code",
   "execution_count": null,
   "id": "2",
   "metadata": {},
   "outputs": [],
   "source": [
    "import gdsfactory as gf\n",
    "import numpy as np\n",
    "from gdsfactory.generic_tech import get_generic_pdk\n",
    "\n",
    "gf.config.rich_output()\n",
    "PDK = get_generic_pdk()\n",
    "PDK.activate()"
   ]
  },
  {
   "cell_type": "code",
   "execution_count": null,
   "id": "3",
   "metadata": {},
   "outputs": [],
   "source": [
    "def mzi(\n",
    "    wl: np.ndarray,\n",
    "    neff: float | None,\n",
    "    neff1: float | None = None,\n",
    "    neff2: float | None = None,\n",
    "    delta_length: float | None = None,\n",
    "    length1: float | None = 0,\n",
    "    length2: float | None = None,\n",
    ") -> np.ndarray:\n",
    "    \"\"\"Returns Frequency Domain Response of an MZI interferometer in linear units.\n",
    "\n",
    "    Args:\n",
    "        wl: wavelength in  um.\n",
    "        neff: effective index.\n",
    "        neff1: effective index branch 1.\n",
    "        neff2: effective index branch 2.\n",
    "        delta_length: length difference L2-L1.\n",
    "        length1: length of branch 1.\n",
    "        length2: length of branch 2.\n",
    "\n",
    "    \"\"\"\n",
    "    k_0 = 2 * np.pi / wl\n",
    "    length2 = length2 or length1 + delta_length\n",
    "    delta_length = delta_length or np.abs(length2 - length1)\n",
    "    neff1 = neff1 or neff\n",
    "    neff2 = neff2 or neff\n",
    "\n",
    "    E_out = 0.5 * (\n",
    "        np.exp(1j * k_0 * neff1 * (length1 + delta_length))\n",
    "        + np.exp(1j * k_0 * neff2 * length1)\n",
    "    )\n",
    "    return np.abs(E_out) ** 2\n",
    "\n",
    "\n",
    "if __name__ == \"__main__\":\n",
    "    import matplotlib.pyplot as plt\n",
    "\n",
    "    import gplugins.tidy3d as gt\n",
    "\n",
    "    nm = 1e-3\n",
    "    strip = gt.modes.Waveguide(\n",
    "        wavelength=1.55,\n",
    "        core_width=500 * nm,\n",
    "        core_thickness=220 * nm,\n",
    "        slab_thickness=0.0,\n",
    "        core_material=\"si\",\n",
    "        clad_material=\"sio2\",\n",
    "    )\n",
    "\n",
    "    neff = 2.46  # Effective index of the waveguides\n",
    "    wl0 = 1.55  # [μm] the wavelength at which neff and ng are defined\n",
    "    wl = np.linspace(1.5, 1.6, 1000)  # [μm] Wavelengths to sweep over\n",
    "    ngs = [4.182551, 4.169563, 4.172917]\n",
    "    thicknesses = [210, 220, 230]\n",
    "\n",
    "    length = 4e3\n",
    "    dn = np.pi / length\n",
    "\n",
    "    polyfit_TE1550SOI_220nm = np.array(\n",
    "        [\n",
    "            1.02478963e-09,\n",
    "            -8.65556534e-08,\n",
    "            3.32415694e-06,\n",
    "            -7.68408985e-05,\n",
    "            1.19282177e-03,\n",
    "            -1.31366332e-02,\n",
    "            1.05721429e-01,\n",
    "            -6.31057637e-01,\n",
    "            2.80689677e00,\n",
    "            -9.26867694e00,\n",
    "            2.24535191e01,\n",
    "            -3.90664800e01,\n",
    "            4.71899278e01,\n",
    "            -3.74726005e01,\n",
    "            1.77381560e01,\n",
    "            -1.12666286e00,\n",
    "        ]\n",
    "    )\n",
    "\n",
    "    def neff_w(w):\n",
    "        return np.poly1d(polyfit_TE1550SOI_220nm)(w)\n",
    "\n",
    "    w0 = 450 * nm\n",
    "    dn1 = neff_w(w0 + 1 * nm / 2) - neff_w(w0 - 1 * nm / 2)\n",
    "    dn5 = neff_w(w0 + 5 * nm / 2) - neff_w(w0 - 5 * nm / 2)\n",
    "    dn10 = neff_w(w0 + 10 * nm / 2) - neff_w(w0 - 10 * nm / 2)\n",
    "\n",
    "    pi_length1 = np.pi / dn1\n",
    "    pi_length5 = np.pi / dn5\n",
    "    pi_length10 = np.pi / dn10\n",
    "\n",
    "    print(f\"pi_length = {pi_length1:.0f}um for 1nm width variation\")\n",
    "    print(f\"pi_length = {pi_length5:.0f}um for 5nm width variation\")\n",
    "    print(f\"pi_length = {pi_length10:.0f}um for 10nm width variation\")\n",
    "\n",
    "    dn = dn1\n",
    "    p = mzi(wl, neff=neff, neff1=neff + dn, neff2=neff + dn, delta_length=10)\n",
    "    plt.plot(wl, p)\n",
    "    plt.title(\"MZI\")\n",
    "    plt.xlabel(\"wavelength (um)\")\n",
    "    plt.ylabel(\"Power Transmission\")\n",
    "    plt.grid()\n",
    "    plt.legend()\n",
    "    plt.show()"
   ]
  },
  {
   "cell_type": "markdown",
   "id": "4",
   "metadata": {},
   "source": [
    "## Mode solver\n",
    "\n",
    "For waveguides you can compute the EM modes."
   ]
  },
  {
   "cell_type": "code",
   "execution_count": null,
   "id": "5",
   "metadata": {},
   "outputs": [],
   "source": [
    "import matplotlib.pyplot as plt\n",
    "import numpy as np\n",
    "\n",
    "import gplugins.tidy3d as gt\n",
    "\n",
    "nm = 1e-3\n",
    "strip = gt.modes.Waveguide(\n",
    "    wavelength=1.55,\n",
    "    core_width=0.5,\n",
    "    core_thickness=0.22,\n",
    "    slab_thickness=0.0,\n",
    "    core_material=\"si\",\n",
    "    clad_material=\"sio2\",\n",
    "    group_index_step=10 * nm,\n",
    ")\n",
    "strip.plot_field(field_name=\"Ex\", mode_index=0)  # TE"
   ]
  },
  {
   "cell_type": "code",
   "execution_count": null,
   "id": "6",
   "metadata": {},
   "outputs": [],
   "source": [
    "ng = strip.n_group[0]\n",
    "ng"
   ]
  },
  {
   "cell_type": "markdown",
   "id": "7",
   "metadata": {},
   "source": [
    "## FDTD\n",
    "\n",
    "Lets compute the Sparameters of a 1x2 power splitter using [tidy3D](https://docs.flexcompute.com/projects/tidy3d/en/latest/), which is a fast GPU based FDTD commercial solver.\n",
    "\n",
    "To run, you need to [create an account](https://simulation.cloud/) and add credits. The number of credits that each simulation takes depends on the simulation computation time.\n",
    "\n",
    "![cloud_model](https://i.imgur.com/5VTCPLR.png)"
   ]
  },
  {
   "cell_type": "code",
   "execution_count": null,
   "id": "8",
   "metadata": {},
   "outputs": [],
   "source": [
    "import gdsfactory as gf\n",
    "import gdsfactory.components as pdk"
   ]
  },
  {
   "cell_type": "code",
   "execution_count": null,
   "id": "9",
   "metadata": {},
   "outputs": [],
   "source": [
    "import gplugins as sim\n",
    "import gplugins.tidy3d as gt\n",
    "from gplugins.common.config import PATH"
   ]
  },
  {
   "cell_type": "code",
   "execution_count": null,
   "id": "10",
   "metadata": {},
   "outputs": [],
   "source": [
    "c = pdk.mmi1x2()\n",
    "c.plot()"
   ]
  },
  {
   "cell_type": "code",
   "execution_count": null,
   "id": "11",
   "metadata": {},
   "outputs": [],
   "source": [
    "# sp = gt.write_sparameters(c)"
   ]
  },
  {
   "cell_type": "code",
   "execution_count": null,
   "id": "12",
   "metadata": {},
   "outputs": [],
   "source": [
    "sp = np.load(PATH.sparameters_repo / \"mmi1x2_507de731d50770de9096ac9f23321daa.npz\")"
   ]
  },
  {
   "cell_type": "code",
   "execution_count": null,
   "id": "13",
   "metadata": {},
   "outputs": [],
   "source": [
    "sim.plot.plot_sparameters(sp)"
   ]
  },
  {
   "cell_type": "code",
   "execution_count": null,
   "id": "14",
   "metadata": {},
   "outputs": [],
   "source": [
    "sim.plot.plot_loss1x2(sp)"
   ]
  },
  {
   "cell_type": "markdown",
   "id": "15",
   "metadata": {},
   "source": [
    "## Circuit simulation\n",
    "\n",
    "For the simulations you need to build Sparameters models for your components using FDTD or other methods.\n",
    "\n",
    "![demo](https://i.imgur.com/RSOTDIN.png)\n",
    "\n",
    "Sparameters are common in RF and photonic simulation.\n",
    "\n",
    "We are going to simulate a MZI interferometer circuit.\n",
    "For that we need to simulate each of the component Sparameters in tidy3d and then SAX Sparameter circuit solver to solve the Sparameters for the circuit.\n",
    "\n",
    "We will be using SAX which is an open source circuit simulator.\n"
   ]
  },
  {
   "cell_type": "code",
   "execution_count": null,
   "id": "16",
   "metadata": {},
   "outputs": [],
   "source": [
    "mzi10 = gf.components.mzi(splitter=c, delta_length=10)\n",
    "mzi10.plot()"
   ]
  },
  {
   "cell_type": "code",
   "execution_count": null,
   "id": "17",
   "metadata": {},
   "outputs": [],
   "source": [
    "import gdsfactory as gf\n",
    "import jax.numpy as jnp\n",
    "import matplotlib.pyplot as plt\n",
    "import numpy as np\n",
    "import sax\n",
    "\n",
    "import gplugins.sax as gsax"
   ]
  },
  {
   "cell_type": "code",
   "execution_count": null,
   "id": "18",
   "metadata": {},
   "outputs": [],
   "source": [
    "def straight(wl=1.5, length=10.0, neff=2.4) -> sax.SDict:\n",
    "    return sax.reciprocal({(\"o1\", \"o2\"): jnp.exp(2j * jnp.pi * neff * length / wl)})\n",
    "\n",
    "\n",
    "def bend_euler(wl=1.5, length=20.0):\n",
    "    \"\"\"Assumes a reduced transmission for the euler bend compared to a straight.\"\"\"\n",
    "    return {k: 0.99 * v for k, v in straight(wl=wl, length=length).items()}"
   ]
  },
  {
   "cell_type": "code",
   "execution_count": null,
   "id": "19",
   "metadata": {},
   "outputs": [],
   "source": [
    "mmi1x2 = gsax.read.model_from_npz(sp)\n",
    "models = {\n",
    "    \"bend_euler\": bend_euler,\n",
    "    \"mmi1x2\": mmi1x2,\n",
    "    \"straight\": straight,\n",
    "}"
   ]
  },
  {
   "cell_type": "code",
   "execution_count": null,
   "id": "20",
   "metadata": {},
   "outputs": [],
   "source": [
    "netlist = mzi10.get_netlist()\n",
    "circuit, _ = sax.circuit(netlist=netlist, models=models)"
   ]
  },
  {
   "cell_type": "code",
   "execution_count": null,
   "id": "21",
   "metadata": {},
   "outputs": [],
   "source": [
    "wl = np.linspace(1.5, 1.6)\n",
    "S = circuit(wl=wl)\n",
    "plt.figure(figsize=(14, 4))\n",
    "plt.title(\"MZI\")\n",
    "plt.plot(1e3 * wl, 10 * np.log10(jnp.abs(S[\"o1\", \"o2\"]) ** 2))\n",
    "plt.xlabel(\"λ [nm]\")\n",
    "plt.ylabel(\"T\")\n",
    "plt.grid(True)\n",
    "plt.show()"
   ]
  },
  {
   "cell_type": "code",
   "execution_count": null,
   "id": "22",
   "metadata": {},
   "outputs": [],
   "source": [
    "mzi20 = gf.components.mzi(splitter=c, delta_length=20)\n",
    "mzi20.plot()"
   ]
  },
  {
   "cell_type": "code",
   "execution_count": null,
   "id": "23",
   "metadata": {},
   "outputs": [],
   "source": [
    "netlist = mzi20.get_netlist()\n",
    "circuit, _ = sax.circuit(netlist=netlist, models=models)"
   ]
  },
  {
   "cell_type": "code",
   "execution_count": null,
   "id": "24",
   "metadata": {},
   "outputs": [],
   "source": [
    "wl = np.linspace(1.5, 1.6)\n",
    "S = circuit(wl=wl)\n",
    "plt.figure(figsize=(14, 4))\n",
    "plt.title(\"MZI\")\n",
    "plt.plot(1e3 * wl, 10 * np.log10(jnp.abs(S[\"o1\", \"o2\"]) ** 2))\n",
    "plt.xlabel(\"λ [nm]\")\n",
    "plt.ylabel(\"T\")\n",
    "plt.grid(True)\n",
    "plt.show()"
   ]
  }
 ],
 "metadata": {
  "jupytext": {
   "cell_metadata_filter": "-all",
   "custom_cell_magics": "kql"
  },
  "kernelspec": {
   "display_name": "base",
   "language": "python",
   "name": "python3"
  }
 },
 "nbformat": 4,
 "nbformat_minor": 5
}
