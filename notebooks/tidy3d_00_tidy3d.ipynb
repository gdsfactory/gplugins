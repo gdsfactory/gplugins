{
 "cells": [
  {
   "cell_type": "markdown",
   "id": "0",
   "metadata": {},
   "source": [
    "# FDTD tidy3d\n",
    "\n",
    "[tidy3D](https://docs.flexcompute.com/projects/tidy3d/en/latest/) is a fast GPU based FDTD tool developed by flexcompute.\n",
    "\n",
    "To run, you need to [create an account](https://simulation.cloud/) and add credits. The number of credits that each simulation takes depends on the simulation size and computation time.\n",
    "\n",
    "![cloud_model](https://i.imgur.com/5VTCPLR.png)\n",
    "\n",
    "## Materials\n",
    "\n",
    "To use gdsfactory LayerStack for different PDKs into tidy3d you have to create a mapping between each material name from the LayerStack into a tidy3d Medim\n",
    "\n",
    "Tidy3d provides you with a material database that also includes dispersive materials."
   ]
  },
  {
   "cell_type": "code",
   "execution_count": null,
   "id": "1",
   "metadata": {},
   "outputs": [],
   "source": [
    "import gdsfactory as gf\n",
    "import matplotlib.pyplot as plt\n",
    "import numpy as np\n",
    "import tidy3d as td\n",
    "\n",
    "import gplugins as gp\n",
    "import gplugins.tidy3d as gt\n",
    "from gplugins import plot\n",
    "from gplugins.common.config import PATH"
   ]
  },
  {
   "cell_type": "code",
   "execution_count": null,
   "id": "2",
   "metadata": {},
   "outputs": [],
   "source": [
    "gt.material_name_to_medium"
   ]
  },
  {
   "cell_type": "code",
   "execution_count": null,
   "id": "3",
   "metadata": {},
   "outputs": [],
   "source": [
    "nm = 1e-3\n",
    "wavelength = np.linspace(1500, 1600) * nm\n",
    "f = td.C_0 / wavelength\n",
    "eps_complex = td.material_library[\"cSi\"][\"Li1993_293K\"].eps_model(f)\n",
    "n, k = td.Medium.eps_complex_to_nk(eps_complex)\n",
    "plt.plot(wavelength, n)\n",
    "plt.title(\"cSi crystalline silicon\")\n",
    "plt.xlabel(\"wavelength\")\n",
    "plt.ylabel(\"n\")"
   ]
  },
  {
   "cell_type": "code",
   "execution_count": null,
   "id": "4",
   "metadata": {},
   "outputs": [],
   "source": [
    "eps_complex = td.material_library[\"Si3N4\"][\"Luke2015PMLStable\"].eps_model(f)\n",
    "n, k = td.Medium.eps_complex_to_nk(eps_complex)\n",
    "plt.plot(wavelength, n)\n",
    "plt.title(\"SiN\")\n",
    "plt.xlabel(\"wavelength\")\n",
    "plt.ylabel(\"n\")"
   ]
  },
  {
   "cell_type": "code",
   "execution_count": null,
   "id": "5",
   "metadata": {},
   "outputs": [],
   "source": [
    "eps_complex = td.material_library[\"SiO2\"][\"Horiba\"].eps_model(f)\n",
    "n, k = td.Medium.eps_complex_to_nk(eps_complex)\n",
    "plt.plot(wavelength, n)\n",
    "plt.title(\"SiO2\")\n",
    "plt.xlabel(\"wavelength\")\n",
    "plt.ylabel(\"n\")"
   ]
  },
  {
   "cell_type": "markdown",
   "id": "6",
   "metadata": {},
   "source": [
    "## Component Modeler\n",
    "\n",
    "You can easily convert a gdsfactory planar Component into a tidy3d simulation and make sure the simulation looks correct before running it"
   ]
  },
  {
   "cell_type": "code",
   "execution_count": null,
   "id": "7",
   "metadata": {},
   "outputs": [],
   "source": [
    "from gdsfactory.generic_tech import LAYER_STACK, get_generic_pdk\n",
    "\n",
    "pdk = get_generic_pdk()\n",
    "pdk.activate()\n",
    "\n",
    "component = gf.components.coupler_ring()\n",
    "component.plot()"
   ]
  },
  {
   "cell_type": "code",
   "execution_count": null,
   "id": "8",
   "metadata": {
    "lines_to_next_cell": 2
   },
   "outputs": [],
   "source": [
    "# define a mapping of pdk material names to tidy3d medium objects\n",
    "mapping = {\n",
    "    \"si\": td.Medium(name=\"Si\", permittivity=3.47**2),\n",
    "    \"sio2\": td.Medium(name=\"SiO2\", permittivity=1.47**2),\n",
    "}\n",
    "\n",
    "# setup the tidy3d component\n",
    "c = gt.Tidy3DComponent(\n",
    "    component=component,\n",
    "    layer_stack=LAYER_STACK,\n",
    "    material_mapping=mapping,\n",
    "    pad_xy_inner=2.0,\n",
    "    pad_xy_outer=2.0,\n",
    "    pad_z_inner=0,\n",
    "    pad_z_outer=0,\n",
    "    extend_ports=2.0,\n",
    ")\n",
    "\n",
    "# plot the component and the layerstack\n",
    "fig = plt.figure(constrained_layout=True)\n",
    "gs = fig.add_gridspec(ncols=2, nrows=3, width_ratios=(3, 1))\n",
    "ax0 = fig.add_subplot(gs[0, 0])\n",
    "ax1 = fig.add_subplot(gs[1, 0])\n",
    "ax2 = fig.add_subplot(gs[2, 0])\n",
    "axl = fig.add_subplot(gs[1, 1])\n",
    "c.plot_slice(x=\"core\", ax=ax0)\n",
    "c.plot_slice(y=\"core\", ax=ax1)\n",
    "c.plot_slice(z=\"core\", ax=ax2)\n",
    "axl.legend(*ax0.get_legend_handles_labels(), loc=\"center\")\n",
    "axl.axis(\"off\")\n",
    "plt.show()"
   ]
  },
  {
   "cell_type": "code",
   "execution_count": null,
   "id": "9",
   "metadata": {},
   "outputs": [],
   "source": [
    "LAYER_STACK.layers.pop(\"substrate\", None)\n",
    "\n",
    "# setup the tidy3d component\n",
    "c = gt.Tidy3DComponent(\n",
    "    component=component,\n",
    "    layer_stack=LAYER_STACK,\n",
    "    material_mapping=mapping,\n",
    "    pad_xy_inner=2.0,\n",
    "    pad_xy_outer=2.0,\n",
    "    pad_z_inner=0,\n",
    "    pad_z_outer=0,\n",
    "    extend_ports=2.0,\n",
    ")\n",
    "\n",
    "# plot the component and the layerstack\n",
    "fig = plt.figure(constrained_layout=True)\n",
    "gs = fig.add_gridspec(ncols=2, nrows=3, width_ratios=(3, 1))\n",
    "ax0 = fig.add_subplot(gs[0, 0])\n",
    "ax1 = fig.add_subplot(gs[1, 0])\n",
    "ax2 = fig.add_subplot(gs[2, 0])\n",
    "axl = fig.add_subplot(gs[1, 1])\n",
    "c.plot_slice(x=\"core\", ax=ax0)\n",
    "c.plot_slice(y=\"core\", ax=ax1)\n",
    "c.plot_slice(z=\"core\", ax=ax2)\n",
    "axl.legend(*ax0.get_legend_handles_labels(), loc=\"center\")\n",
    "axl.axis(\"off\")\n",
    "plt.show()"
   ]
  },
  {
   "cell_type": "code",
   "execution_count": null,
   "id": "10",
   "metadata": {},
   "outputs": [],
   "source": [
    "c.plot_slice(x=\"core\")"
   ]
  },
  {
   "cell_type": "code",
   "execution_count": null,
   "id": "11",
   "metadata": {},
   "outputs": [],
   "source": [
    "# initialize the tidy3d ComponentModeler\n",
    "modeler = c.get_component_modeler(\n",
    "    center_z=\"core\", port_size_mult=(6, 4), sim_size_z=3.0\n",
    ")\n",
    "\n",
    "# we can plot the tidy3d simulation setup\n",
    "fig, ax = plt.subplots(2, 1)\n",
    "modeler.plot_sim(z=c.get_layer_center(\"core\")[2], ax=ax[0])\n",
    "modeler.plot_sim(x=c.ports[0].center[0], ax=ax[1])\n",
    "fig.tight_layout()\n",
    "plt.show()"
   ]
  },
  {
   "cell_type": "markdown",
   "id": "12",
   "metadata": {},
   "source": [
    "## Write S-parameters\n",
    "\n",
    "The most useful function is `gt.write_sparameters` which allows you to:\n",
    "\n",
    "- leverage a file cache to avoid running the same simulation twice.\n",
    "- plot_simulation and modes before running\n",
    "- run in 2D or 3D\n",
    "\n",
    "\n",
    "### file cache\n",
    "\n",
    "`write_sparameters` automatically will write your Sparameters in your home directory. By default uses a hidden folder in your home directory `dirpath=~/.gdsfactory/sparameters`.\n",
    "If simulation is found it will load it automatically, if not it will run it and write the Sparameters to `filepath`\n",
    "You can also specify a particular filepath to store simulations and load Sparameters from:"
   ]
  },
  {
   "cell_type": "code",
   "execution_count": null,
   "id": "13",
   "metadata": {},
   "outputs": [],
   "source": [
    "sp = gt.write_sparameters(\n",
    "    component,\n",
    "    filepath=PATH.sparameters_repo / \"coupler_ring_2d.npz\",\n",
    "    sim_size_z=0,\n",
    "    center_z=\"core\",\n",
    ")"
   ]
  },
  {
   "cell_type": "code",
   "execution_count": null,
   "id": "14",
   "metadata": {},
   "outputs": [],
   "source": [
    "gp.plot.plot_sparameters(sp)"
   ]
  },
  {
   "cell_type": "markdown",
   "id": "15",
   "metadata": {},
   "source": [
    "### Plot Simulations\n",
    "\n",
    "When setting up a simulation it's important to check if simulation and modes looks correct."
   ]
  },
  {
   "cell_type": "code",
   "execution_count": null,
   "id": "16",
   "metadata": {},
   "outputs": [],
   "source": [
    "c = gf.components.taper_sc_nc()\n",
    "c.plot()"
   ]
  },
  {
   "cell_type": "code",
   "execution_count": null,
   "id": "17",
   "metadata": {},
   "outputs": [],
   "source": [
    "sp = gt.write_sparameters(c, plot_simulation_layer_name=\"core\", layer_stack=LAYER_STACK)"
   ]
  },
  {
   "cell_type": "code",
   "execution_count": null,
   "id": "18",
   "metadata": {},
   "outputs": [],
   "source": [
    "# lets plot the fundamental input mode\n",
    "sp = gt.write_sparameters(\n",
    "    c, plot_mode_port_name=\"o1\", plot_mode_index=0, layer_stack=LAYER_STACK\n",
    ")"
   ]
  },
  {
   "cell_type": "code",
   "execution_count": null,
   "id": "19",
   "metadata": {},
   "outputs": [],
   "source": [
    "# lets plot the second order input mode\n",
    "mode_spec = td.ModeSpec(num_modes=2, filter_pol=\"te\")\n",
    "sp = gt.write_sparameters(\n",
    "    c,\n",
    "    plot_mode_port_name=\"o1\",\n",
    "    plot_mode_index=1,\n",
    "    layer_stack=LAYER_STACK,\n",
    "    mode_spec=mode_spec,\n",
    ")"
   ]
  },
  {
   "cell_type": "code",
   "execution_count": null,
   "id": "20",
   "metadata": {},
   "outputs": [],
   "source": [
    "sp = gt.write_sparameters(\n",
    "    c,\n",
    "    plot_simulation_layer_name=\"nitride\",\n",
    "    plot_simulation_port_index=1,\n",
    "    layer_stack=LAYER_STACK,\n",
    ")"
   ]
  },
  {
   "cell_type": "code",
   "execution_count": null,
   "id": "21",
   "metadata": {},
   "outputs": [],
   "source": [
    "# lets plot the output mode\n",
    "sp = gt.write_sparameters(\n",
    "    c, plot_mode_port_name=\"o2\", plot_mode_index=0, layer_stack=LAYER_STACK\n",
    ")"
   ]
  },
  {
   "cell_type": "markdown",
   "id": "22",
   "metadata": {},
   "source": [
    "### 2D\n",
    "\n",
    "2D simulations take less credits but are also less accurate than 3D.\n",
    "When running in 2D we don't consider the component thickness in the z dimension.\n",
    "\n",
    "For running simulations in 2D you need to set `sim_size_z = 0`.\n",
    "\n",
    "It is also important that you choose `center_z` correctly."
   ]
  },
  {
   "cell_type": "code",
   "execution_count": null,
   "id": "23",
   "metadata": {},
   "outputs": [],
   "source": [
    "sp = gt.write_sparameters(\n",
    "    component,\n",
    "    filepath=PATH.sparameters_repo / \"coupler_ring_2d.npz\",\n",
    "    sim_size_z=0,\n",
    "    layer_stack=LAYER_STACK,\n",
    "    plot_simulation_layer_name=\"core\",\n",
    "    center_z=\"core\",\n",
    ")"
   ]
  },
  {
   "cell_type": "code",
   "execution_count": null,
   "id": "24",
   "metadata": {},
   "outputs": [],
   "source": [
    "component = gf.components.straight()\n",
    "sp = gt.write_sparameters(\n",
    "    component,\n",
    "    filepath=PATH.sparameters_repo / \"straight_2d.npz\",\n",
    "    sim_size_z=0,\n",
    "    center_z=\"core\",\n",
    ")"
   ]
  },
  {
   "cell_type": "code",
   "execution_count": null,
   "id": "25",
   "metadata": {},
   "outputs": [],
   "source": [
    "gp.plot.plot_sparameters(sp)"
   ]
  },
  {
   "cell_type": "markdown",
   "id": "26",
   "metadata": {},
   "source": [
    "### 3D\n",
    "\n",
    "By default all simulations run in 3D unless indicated otherwise.\n",
    "3D simulations run quite fast thanks to the GPU solver on the server side hosted by tidy3d cloud."
   ]
  },
  {
   "cell_type": "code",
   "execution_count": null,
   "id": "27",
   "metadata": {},
   "outputs": [],
   "source": [
    "c = gf.components.straight(length=2)\n",
    "sp = gt.write_sparameters(\n",
    "    c, filepath=PATH.sparameters_repo / \"straight_3d.npz\", sim_size_z=4\n",
    ")\n",
    "gp.plot.plot_sparameters(sp)"
   ]
  },
  {
   "cell_type": "markdown",
   "id": "28",
   "metadata": {},
   "source": [
    "## Erosion / dilation"
   ]
  },
  {
   "cell_type": "code",
   "execution_count": null,
   "id": "29",
   "metadata": {
    "lines_to_next_cell": 2
   },
   "outputs": [],
   "source": [
    "component = gf.components.straight(length=0.1)\n",
    "sp = gt.write_sparameters(\n",
    "    component, layer_stack=LAYER_STACK, plot_simulation_layer_name=\"core\", dilation=0\n",
    ")"
   ]
  },
  {
   "cell_type": "markdown",
   "id": "30",
   "metadata": {},
   "source": [
    "A `dilation = 0.5` makes a 0.5um waveguide 0.75um"
   ]
  },
  {
   "cell_type": "code",
   "execution_count": null,
   "id": "31",
   "metadata": {},
   "outputs": [],
   "source": [
    "0.5 * 0.8"
   ]
  },
  {
   "cell_type": "code",
   "execution_count": null,
   "id": "32",
   "metadata": {},
   "outputs": [],
   "source": [
    "component = gf.components.straight(length=0.1)\n",
    "sp = gt.write_sparameters(\n",
    "    component, layer_stack=LAYER_STACK, plot_simulation_layer_name=\"core\", dilation=0.5\n",
    ")"
   ]
  },
  {
   "cell_type": "markdown",
   "id": "33",
   "metadata": {},
   "source": [
    "A `dilation = -0.2` makes a 0.5um eroded down to 0.1um"
   ]
  },
  {
   "cell_type": "code",
   "execution_count": null,
   "id": "34",
   "metadata": {},
   "outputs": [],
   "source": [
    "0.2 * 0.5"
   ]
  },
  {
   "cell_type": "code",
   "execution_count": null,
   "id": "35",
   "metadata": {},
   "outputs": [],
   "source": [
    "component = gf.components.straight(length=0.1)\n",
    "sp = gt.write_sparameters(\n",
    "    component, layer_stack=LAYER_STACK, plot_simulation_layer_name=\"core\", dilation=-0.2\n",
    ")"
   ]
  },
  {
   "cell_type": "markdown",
   "id": "36",
   "metadata": {},
   "source": [
    "## Plot monitors"
   ]
  },
  {
   "cell_type": "code",
   "execution_count": null,
   "id": "37",
   "metadata": {},
   "outputs": [],
   "source": [
    "component = gf.components.taper_strip_to_ridge(length=10)\n",
    "component.plot()"
   ]
  },
  {
   "cell_type": "code",
   "execution_count": null,
   "id": "38",
   "metadata": {},
   "outputs": [],
   "source": [
    "sp = gt.write_sparameters(\n",
    "    c,\n",
    "    plot_simulation_layer_name=\"core\",\n",
    "    plot_simulation_port_index=0,\n",
    "    layer_stack=LAYER_STACK,\n",
    ")"
   ]
  },
  {
   "cell_type": "code",
   "execution_count": null,
   "id": "39",
   "metadata": {},
   "outputs": [],
   "source": [
    "sp = gt.write_sparameters(\n",
    "    c,\n",
    "    plot_simulation_layer_name=\"core\",\n",
    "    plot_simulation_port_index=1,\n",
    "    layer_stack=LAYER_STACK,\n",
    ")\n",
    "sp = gt.write_sparameters(\n",
    "    c,\n",
    "    plot_simulation_layer_name=\"slab90\",\n",
    "    plot_simulation_port_index=1,\n",
    "    layer_stack=LAYER_STACK,\n",
    ")"
   ]
  },
  {
   "cell_type": "code",
   "execution_count": null,
   "id": "40",
   "metadata": {},
   "outputs": [],
   "source": [
    "components = [\n",
    "    \"bend_euler\",\n",
    "    \"bend_s\",\n",
    "    \"coupler\",\n",
    "    \"coupler_ring\",\n",
    "    \"crossing\",\n",
    "    \"mmi1x2\",\n",
    "    \"mmi2x2\",\n",
    "    \"taper\",\n",
    "    \"straight\",\n",
    "]\n",
    "\n",
    "for component_name in components:\n",
    "    print(component_name)\n",
    "    component = gf.get_component(component_name)\n",
    "    gt.write_sparameters(\n",
    "        component=component,\n",
    "        layer_stack=LAYER_STACK,\n",
    "        plot_simulation_layer_name=\"core\",\n",
    "        plot_simulation_port_index=0,\n",
    "    )"
   ]
  },
  {
   "cell_type": "code",
   "execution_count": null,
   "id": "41",
   "metadata": {},
   "outputs": [],
   "source": [
    "c = gf.components.bend_circular(radius=5)\n",
    "s = gt.write_sparameters(\n",
    "    c,\n",
    "    layer_stack=LAYER_STACK,\n",
    "    plot_simulation_layer_name=\"core\",\n",
    "    plot_simulation_port_index=0,\n",
    ")"
   ]
  },
  {
   "cell_type": "markdown",
   "id": "42",
   "metadata": {},
   "source": [
    "For a 2 port reciprocal passive component you can always assume `s21 = s12`\n",
    "\n",
    "Another approximation you can make for planar devices is that `s11 = s22`, which saves 1 extra simulation.\n",
    "This approximation only works well for straight and bends.\n",
    "We call this `1x1` port symmetry"
   ]
  },
  {
   "cell_type": "code",
   "execution_count": null,
   "id": "43",
   "metadata": {},
   "outputs": [],
   "source": [
    "sp = np.load(\n",
    "    PATH.sparameters_repo / \"bend_circular_radius2_9d7742b34c224827aeae808dc986308e.npz\"\n",
    ")\n",
    "plot.plot_sparameters(sp)"
   ]
  },
  {
   "cell_type": "code",
   "execution_count": null,
   "id": "44",
   "metadata": {},
   "outputs": [],
   "source": [
    "plot.plot_sparameters(sp, keys=(\"o2@0,o1@0\",))"
   ]
  },
  {
   "cell_type": "code",
   "execution_count": null,
   "id": "45",
   "metadata": {},
   "outputs": [],
   "source": [
    "c = gf.components.mmi1x2()\n",
    "s = gt.write_sparameters(\n",
    "    c,\n",
    "    layer_stack=LAYER_STACK,\n",
    "    plot_simulation_layer_name=\"core\",\n",
    "    plot_simulation_port_index=0,\n",
    ")"
   ]
  },
  {
   "cell_type": "code",
   "execution_count": null,
   "id": "46",
   "metadata": {},
   "outputs": [],
   "source": [
    "# sp = gt.write_sparameters(c)\n",
    "sp = np.load(PATH.sparameters_repo / \"mmi1x2_507de731d50770de9096ac9f23321daa.npz\")"
   ]
  },
  {
   "cell_type": "code",
   "execution_count": null,
   "id": "47",
   "metadata": {},
   "outputs": [],
   "source": [
    "plot.plot_sparameters(sp)"
   ]
  },
  {
   "cell_type": "code",
   "execution_count": null,
   "id": "48",
   "metadata": {},
   "outputs": [],
   "source": [
    "plot.plot_sparameters(sp, keys=(\"o1@0,o2@0\", \"o1@0,o3@0\"))"
   ]
  },
  {
   "cell_type": "code",
   "execution_count": null,
   "id": "49",
   "metadata": {},
   "outputs": [],
   "source": [
    "plot.plot_loss1x2(sp)"
   ]
  },
  {
   "cell_type": "code",
   "execution_count": null,
   "id": "50",
   "metadata": {},
   "outputs": [],
   "source": [
    "plot.plot_imbalance1x2(sp)"
   ]
  },
  {
   "cell_type": "code",
   "execution_count": null,
   "id": "51",
   "metadata": {},
   "outputs": [],
   "source": [
    "c = gf.components.mmi2x2_with_sbend(with_sbend=False)\n",
    "c.plot()"
   ]
  },
  {
   "cell_type": "code",
   "execution_count": null,
   "id": "52",
   "metadata": {},
   "outputs": [],
   "source": [
    "sp = gt.write_sparameters(\n",
    "    c,\n",
    "    layer_stack=LAYER_STACK,\n",
    "    plot_simulation_layer_name=\"core\",\n",
    "    plot_simulation_port_index=0,\n",
    ")"
   ]
  },
  {
   "cell_type": "code",
   "execution_count": null,
   "id": "53",
   "metadata": {},
   "outputs": [],
   "source": [
    "# sp = gt.write_sparameters(c, filepath=PATH.sparameters_repo / 'mmi2x2_without_sbend.npz')\n",
    "sp = np.load(PATH.sparameters_repo / \"mmi2x2_without_sbend.npz\")\n",
    "plot.plot_loss2x2(sp)"
   ]
  },
  {
   "cell_type": "code",
   "execution_count": null,
   "id": "54",
   "metadata": {},
   "outputs": [],
   "source": [
    "plot.plot_imbalance2x2(sp)"
   ]
  },
  {
   "cell_type": "markdown",
   "id": "55",
   "metadata": {},
   "source": [
    "## get_simulation_grating_coupler\n",
    "\n",
    "You can also expand the planar component simulations to simulate an out-of-plane grating coupler.\n",
    "\n",
    "The following simulations run in 2D but can also run in 3D."
   ]
  },
  {
   "cell_type": "code",
   "execution_count": null,
   "id": "56",
   "metadata": {},
   "outputs": [],
   "source": [
    "help(gt.get_simulation_grating_coupler)"
   ]
  },
  {
   "cell_type": "code",
   "execution_count": null,
   "id": "57",
   "metadata": {},
   "outputs": [],
   "source": [
    "c = (\n",
    "    gf.components.grating_coupler_elliptical_lumerical()\n",
    ")  # inverse design grating apodized\n",
    "fiber_angle_deg = 5\n",
    "s = gt.get_simulation_grating_coupler(\n",
    "    c, is_3d=False, fiber_angle_deg=fiber_angle_deg, fiber_xoffset=0\n",
    ")\n",
    "f = gt.plot_simulation(s)"
   ]
  },
  {
   "cell_type": "code",
   "execution_count": null,
   "id": "58",
   "metadata": {},
   "outputs": [],
   "source": [
    "f = c.plot()"
   ]
  },
  {
   "cell_type": "markdown",
   "id": "59",
   "metadata": {},
   "source": [
    "Lets compare the xtolerance of a constant pitch vs an apodized grating.\n",
    "\n",
    "We run simulations in 2D for faster.\n",
    "\n",
    "Lets simulate 2 different grating couplers:\n",
    "\n",
    "- apodized inverse design example from lumerical website (5 degrees fiber angle)\n",
    "- constant pitch grating from gdsfactory generic PDK (20 degrees fiber angle)"
   ]
  },
  {
   "cell_type": "code",
   "execution_count": null,
   "id": "60",
   "metadata": {},
   "outputs": [],
   "source": [
    "sim = gt.get_simulation_grating_coupler(\n",
    "    c, is_3d=False, fiber_angle_deg=fiber_angle_deg, fiber_xoffset=-5\n",
    ")\n",
    "f = gt.plot_simulation(sim)"
   ]
  },
  {
   "cell_type": "code",
   "execution_count": null,
   "id": "61",
   "metadata": {},
   "outputs": [],
   "source": [
    "sim = gt.get_simulation_grating_coupler(\n",
    "    c, is_3d=False, fiber_angle_deg=fiber_angle_deg, fiber_xoffset=+5\n",
    ")\n",
    "f = gt.plot_simulation(sim)"
   ]
  },
  {
   "cell_type": "code",
   "execution_count": null,
   "id": "62",
   "metadata": {},
   "outputs": [],
   "source": [
    "offsets = np.arange(-5, 6, 5)\n",
    "offsets = [-10, -5, 0]\n",
    "offsets = [0]"
   ]
  },
  {
   "cell_type": "code",
   "execution_count": null,
   "id": "63",
   "metadata": {},
   "outputs": [],
   "source": [
    "dfs = [\n",
    "    gt.write_sparameters_grating_coupler(\n",
    "        component=c,\n",
    "        is_3d=False,\n",
    "        fiber_angle_deg=fiber_angle_deg,\n",
    "        fiber_xoffset=fiber_xoffset,\n",
    "        filepath=PATH.sparameters_repo / f\"gc_offset{fiber_xoffset}\",\n",
    "    )\n",
    "    for fiber_xoffset in offsets\n",
    "]"
   ]
  },
  {
   "cell_type": "code",
   "execution_count": null,
   "id": "64",
   "metadata": {},
   "outputs": [],
   "source": [
    "def log(x):\n",
    "    return 20 * np.log10(x)"
   ]
  },
  {
   "cell_type": "code",
   "execution_count": null,
   "id": "65",
   "metadata": {},
   "outputs": [],
   "source": [
    "for offset in offsets:\n",
    "    sp = gt.write_sparameters_grating_coupler(\n",
    "        c,\n",
    "        is_3d=False,\n",
    "        fiber_angle_deg=fiber_angle_deg,\n",
    "        fiber_xoffset=offset,\n",
    "        filepath=PATH.sparameters_repo / f\"gc_offset{offset}\",\n",
    "    )\n",
    "    plt.plot(\n",
    "        sp[\"wavelengths\"], 20 * np.log10(np.abs(sp[\"o2@0,o1@0\"])), label=str(offset)\n",
    "    )\n",
    "\n",
    "plt.xlabel(\"wavelength (um\")\n",
    "plt.ylabel(\"Transmission (dB)\")\n",
    "plt.title(\"transmission vs fiber xoffset (um)\")\n",
    "plt.legend()"
   ]
  },
  {
   "cell_type": "code",
   "execution_count": null,
   "id": "66",
   "metadata": {},
   "outputs": [],
   "source": [
    "sp.keys()"
   ]
  },
  {
   "cell_type": "code",
   "execution_count": null,
   "id": "67",
   "metadata": {},
   "outputs": [],
   "source": [
    "fiber_angles = [3, 5, 7]\n",
    "dfs = [\n",
    "    gt.write_sparameters_grating_coupler(\n",
    "        component=c,\n",
    "        is_3d=False,\n",
    "        fiber_angle_deg=fiber_angle_deg,\n",
    "        filepath=PATH.sparameters_repo / f\"gc_angle{fiber_angle_deg}\",\n",
    "    )\n",
    "    for fiber_angle_deg in fiber_angles\n",
    "]"
   ]
  },
  {
   "cell_type": "code",
   "execution_count": null,
   "id": "68",
   "metadata": {},
   "outputs": [],
   "source": [
    "for fiber_angle_deg in fiber_angles:\n",
    "    sp = gt.write_sparameters_grating_coupler(\n",
    "        c,\n",
    "        is_3d=False,\n",
    "        fiber_angle_deg=fiber_angle_deg,\n",
    "        filepath=PATH.sparameters_repo / f\"gc_angle{fiber_angle_deg}\",\n",
    "    )\n",
    "    plt.plot(\n",
    "        sp[\"wavelengths\"],\n",
    "        20 * np.log10(np.abs(sp[\"o2@0,o1@0\"])),\n",
    "        label=str(fiber_angle_deg),\n",
    "    )\n",
    "\n",
    "plt.xlabel(\"wavelength (um\")\n",
    "plt.ylabel(\"Transmission (dB)\")\n",
    "plt.title(\"transmission vs fiber angle (degrees)\")\n",
    "plt.legend()"
   ]
  },
  {
   "cell_type": "code",
   "execution_count": null,
   "id": "69",
   "metadata": {},
   "outputs": [],
   "source": [
    "c = gf.components.grating_coupler_elliptical_arbitrary(\n",
    "    widths=(0.343,) * 25, gaps=(0.345,) * 25\n",
    ")\n",
    "f = c.plot()"
   ]
  },
  {
   "cell_type": "code",
   "execution_count": null,
   "id": "70",
   "metadata": {},
   "outputs": [],
   "source": [
    "fiber_angle_deg = 20\n",
    "sim = gt.get_simulation_grating_coupler(\n",
    "    c, is_3d=False, fiber_angle_deg=fiber_angle_deg, fiber_xoffset=0\n",
    ")\n",
    "f = gt.plot_simulation(sim, figsize=(22, 8))"
   ]
  },
  {
   "cell_type": "code",
   "execution_count": null,
   "id": "71",
   "metadata": {},
   "outputs": [],
   "source": [
    "offsets = [0]\n",
    "offsets"
   ]
  },
  {
   "cell_type": "code",
   "execution_count": null,
   "id": "72",
   "metadata": {},
   "outputs": [],
   "source": [
    "dfs = [\n",
    "    gt.write_sparameters_grating_coupler(\n",
    "        component=c,\n",
    "        is_3d=False,\n",
    "        fiber_angle_deg=fiber_angle_deg,\n",
    "        fiber_xoffset=fiber_xoffset,\n",
    "        filepath=PATH.sparameters_repo / f\"gc_offset{offset}\",\n",
    "    )\n",
    "    for fiber_xoffset in offsets\n",
    "]"
   ]
  },
  {
   "cell_type": "code",
   "execution_count": null,
   "id": "73",
   "metadata": {},
   "outputs": [],
   "source": [
    "port_name = c.ports[1].name\n",
    "\n",
    "for offset in offsets:\n",
    "    sp = gt.write_sparameters_grating_coupler(\n",
    "        c,\n",
    "        is_3d=False,\n",
    "        fiber_angle_deg=fiber_angle_deg,\n",
    "        fiber_xoffset=offset,\n",
    "        filepath=PATH.sparameters_repo / f\"gc_offset{offset}\",\n",
    "    )\n",
    "    plt.plot(\n",
    "        sp[\"wavelengths\"],\n",
    "        20 * np.log10(np.abs(sp[\"o2@0,o1@0\"])),\n",
    "        label=str(offset),\n",
    "    )\n",
    "\n",
    "plt.xlabel(\"wavelength (um\")\n",
    "plt.ylabel(\"Transmission (dB)\")\n",
    "plt.title(\"transmission vs xoffset\")\n",
    "plt.legend()"
   ]
  },
  {
   "cell_type": "markdown",
   "id": "74",
   "metadata": {},
   "source": [
    "## Run jobs in parallel\n",
    "\n",
    "You can run multiple simulations in parallel on separate threads.\n",
    "\n",
    "Only when you `sp.result()` you will wait for the simulations to finish."
   ]
  },
  {
   "cell_type": "code",
   "execution_count": null,
   "id": "75",
   "metadata": {},
   "outputs": [],
   "source": [
    "c = gf.components.grating_coupler_elliptical_lumerical()\n",
    "fiber_angles = [3, 5, 7]\n",
    "jobs = [\n",
    "    dict(\n",
    "        component=c,\n",
    "        is_3d=False,\n",
    "        fiber_angle_deg=fiber_angle_deg,\n",
    "        filepath=PATH.sparameters_repo / f\"gc_angle{fiber_angle_deg}\",\n",
    "    )\n",
    "    for fiber_angle_deg in fiber_angles\n",
    "]\n",
    "sps = gt.write_sparameters_grating_coupler_batch(jobs)"
   ]
  },
  {
   "cell_type": "code",
   "execution_count": null,
   "id": "76",
   "metadata": {},
   "outputs": [],
   "source": [
    "for sp, fiber_angle_deg in zip(sps, fiber_angles):\n",
    "    sp = sp.result()\n",
    "    plt.plot(\n",
    "        sp[\"wavelengths\"],\n",
    "        20 * np.log10(np.abs(sp[\"o2@0,o1@0\"])),\n",
    "        label=str(fiber_angle_deg),\n",
    "    )\n",
    "\n",
    "plt.xlabel(\"wavelength (um\")\n",
    "plt.ylabel(\"Transmission (dB)\")\n",
    "plt.title(\"transmission vs fiber angle (degrees)\")\n",
    "plt.legend()"
   ]
  },
  {
   "cell_type": "code",
   "execution_count": null,
   "id": "77",
   "metadata": {},
   "outputs": [],
   "source": []
  }
 ],
 "metadata": {
  "jupytext": {
   "cell_metadata_filter": "-all",
   "custom_cell_magics": "kql"
  },
  "kernelspec": {
   "display_name": "base",
   "language": "python",
   "name": "python3"
  },
  "language_info": {
   "codemirror_mode": {
    "name": "ipython",
    "version": 3
   },
   "file_extension": ".py",
   "mimetype": "text/x-python",
   "name": "python",
   "nbconvert_exporter": "python",
   "pygments_lexer": "ipython3",
   "version": "3.11.5"
  }
 },
 "nbformat": 4,
 "nbformat_minor": 5
}
