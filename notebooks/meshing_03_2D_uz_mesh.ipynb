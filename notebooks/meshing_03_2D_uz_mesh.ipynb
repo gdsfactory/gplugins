{
 "cells": [
  {
   "cell_type": "markdown",
   "id": "0",
   "metadata": {},
   "source": [
    "# 2D meshing: uz cross-section\n",
    "\n",
    "You can mesh an out of plane `Component` cross-section by supplying the argument `type=\"uz\"` and a `xsection_bounds` under the form `[[x1,y1], [x2,y2]]`, which parametrizes a line in `u`-coordinates"
   ]
  },
  {
   "cell_type": "code",
   "execution_count": null,
   "id": "1",
   "metadata": {},
   "outputs": [],
   "source": [
    "import gdsfactory as gf\n",
    "import meshio\n",
    "from gdsfactory.generic_tech import get_generic_pdk\n",
    "from gdsfactory.pdk import get_layer_stack\n",
    "from gdsfactory.technology import LayerStack\n",
    "from skfem.io import from_meshio\n",
    "\n",
    "from gplugins.gmsh.get_mesh import create_physical_mesh, get_mesh\n",
    "\n",
    "gf.config.rich_output()\n",
    "PDK = get_generic_pdk()\n",
    "PDK.activate()\n",
    "\n",
    "waveguide = gf.components.straight_pin(length=10, taper=None)\n",
    "waveguide.trim(left=3, right=5, top=+4, bottom=-4)\n",
    "waveguide.plot()"
   ]
  },
  {
   "cell_type": "code",
   "execution_count": null,
   "id": "2",
   "metadata": {},
   "outputs": [],
   "source": [
    "filtered_layer_stack = LayerStack(\n",
    "    layers={\n",
    "        k: get_layer_stack().layers[k]\n",
    "        for k in (\n",
    "            \"slab90\",\n",
    "            \"core\",\n",
    "            \"via_contact\",\n",
    "        )\n",
    "    }\n",
    ")"
   ]
  },
  {
   "cell_type": "code",
   "execution_count": null,
   "id": "3",
   "metadata": {},
   "outputs": [],
   "source": [
    "filename = \"mesh\"\n",
    "\n",
    "\n",
    "def mesh_with_physicals(mesh, filename):\n",
    "    mesh_from_file = meshio.read(f\"{filename}.msh\")\n",
    "    return create_physical_mesh(mesh_from_file, \"triangle\")"
   ]
  },
  {
   "cell_type": "markdown",
   "id": "4",
   "metadata": {},
   "source": [
    "Choosing the line going from `y=-4` to `y=4` at `x=4`, which crosses slab, via, and core:"
   ]
  },
  {
   "cell_type": "code",
   "execution_count": null,
   "id": "5",
   "metadata": {},
   "outputs": [],
   "source": [
    "mesh = get_mesh(\n",
    "    component=waveguide,\n",
    "    type=\"uz\",\n",
    "    xsection_bounds=[(4, -4), (4, 4)],\n",
    "    layer_stack=filtered_layer_stack,\n",
    "    filename=f\"{filename}.msh\",\n",
    ")\n",
    "mesh = mesh_with_physicals(mesh, filename)\n",
    "mesh = from_meshio(mesh)\n",
    "mesh.draw().plot()"
   ]
  },
  {
   "cell_type": "markdown",
   "id": "6",
   "metadata": {},
   "source": [
    "We can plot as usual (note that the `u-z` coordinates we are working in still map to `xy` for the plotter):"
   ]
  },
  {
   "cell_type": "markdown",
   "id": "7",
   "metadata": {},
   "source": [
    "## Mesh background\n",
    "\n",
    "You can add a convenience argument to add a background mesh around the geometry (instead of defining a dummy polygon and layer in the layer_stack with low mesh_order):"
   ]
  },
  {
   "cell_type": "code",
   "execution_count": null,
   "id": "8",
   "metadata": {},
   "outputs": [],
   "source": [
    "mesh = get_mesh(\n",
    "    component=waveguide,\n",
    "    type=\"uz\",\n",
    "    xsection_bounds=[(4, -4), (4, 4)],\n",
    "    layer_stack=filtered_layer_stack,\n",
    "    filename=f\"{filename}.msh\",\n",
    "    background_tag=\"oxide\",\n",
    "    background_padding=(2.0, 2.0, 2.0, 2.0),\n",
    ")\n",
    "mesh = mesh_with_physicals(mesh, filename)\n",
    "mesh = from_meshio(mesh)\n",
    "mesh.draw().plot()"
   ]
  },
  {
   "cell_type": "code",
   "execution_count": null,
   "id": "9",
   "metadata": {},
   "outputs": [],
   "source": []
  }
 ],
 "metadata": {
  "jupytext": {
   "cell_metadata_filter": "-all",
   "main_language": "python",
   "notebook_metadata_filter": "-all"
  },
  "kernelspec": {
   "display_name": "base",
   "language": "python",
   "name": "python3"
  },
  "language_info": {
   "codemirror_mode": {
    "name": "ipython",
    "version": 3
   },
   "file_extension": ".py",
   "mimetype": "text/x-python",
   "name": "python",
   "nbconvert_exporter": "python",
   "pygments_lexer": "ipython3",
   "version": "3.11.5"
  }
 },
 "nbformat": 4,
 "nbformat_minor": 5
}
