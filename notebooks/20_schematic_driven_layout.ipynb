{
 "cells": [
  {
   "cell_type": "markdown",
   "id": "0",
   "metadata": {},
   "source": [
    "# Schematic Driven layout with Jupyter\n",
    "\n",
    "The Schematic driven layout uses a schematic format similar to our `*.pic.yml`.\n",
    "\n",
    "The Jupyter notebook interface allows you to get the best of both worlds of GUI and python driven based flows."
   ]
  },
  {
   "cell_type": "code",
   "execution_count": null,
   "id": "1",
   "metadata": {},
   "outputs": [],
   "source": [
    "import gdsfactory as gf\n",
    "from bokeh.io import output_notebook\n",
    "\n",
    "from gplugins.schematic_editor import SchematicEditor\n",
    "\n",
    "%env BOKEH_ALLOW_WS_ORIGIN=*\n",
    "\n",
    "output_notebook()"
   ]
  },
  {
   "cell_type": "markdown",
   "id": "2",
   "metadata": {},
   "source": [
    "First you initialize a session of the schematic editor.\n",
    "The editor is synced to a file.\n",
    "If file exist, it loads the schematic for editing. If it does not exist, it creates it.\n",
    "The schematic file is continuously auto-saved as you edit the schematic in your notebook, so you can track changes with GIT."
   ]
  },
  {
   "cell_type": "code",
   "execution_count": null,
   "id": "3",
   "metadata": {},
   "outputs": [],
   "source": [
    "se = SchematicEditor(\"test.schem.yml\")"
   ]
  },
  {
   "cell_type": "markdown",
   "id": "4",
   "metadata": {},
   "source": [
    "## Define instances\n",
    "\n",
    "First you need to define which instances to include. We do this through this grid-like editor.\n",
    "Components are auto-populated from your active PDK.\n",
    "\n",
    "instance name | Component type\n",
    "--------------| --------------\n",
    "mmi1          | mmi1x2"
   ]
  },
  {
   "cell_type": "code",
   "execution_count": null,
   "id": "5",
   "metadata": {},
   "outputs": [],
   "source": [
    "se.instance_widget"
   ]
  },
  {
   "cell_type": "code",
   "execution_count": null,
   "id": "6",
   "metadata": {},
   "outputs": [],
   "source": [
    "se.instances.keys()"
   ]
  },
  {
   "cell_type": "markdown",
   "id": "7",
   "metadata": {},
   "source": [
    "You can also **add your instances through code**, and since it is just a dictionary update, *the integrity of your schematic will be maintained, even after re-running the notebook* as-is.\n",
    "You can here specify a component either by name or as an actual component, using auto-completion to specify your settings as well."
   ]
  },
  {
   "cell_type": "code",
   "execution_count": null,
   "id": "8",
   "metadata": {},
   "outputs": [],
   "source": [
    "se.add_instance(\"s1\", gf.components.straight(length=20))\n",
    "se.add_instance(\"s2\", gf.components.straight(length=40))"
   ]
  },
  {
   "cell_type": "markdown",
   "id": "9",
   "metadata": {},
   "source": [
    "But you can even query the parameters of default components, set only by name through the widget grid, like so:"
   ]
  },
  {
   "cell_type": "code",
   "execution_count": null,
   "id": "10",
   "metadata": {},
   "outputs": [],
   "source": [
    "se.instances[\"mmi1\"].settings"
   ]
  },
  {
   "cell_type": "markdown",
   "id": "11",
   "metadata": {},
   "source": [
    "It is also possible to *instantiate through the widget, then set the settings of our component later, through code.*\n",
    "\n",
    "By doing this through code, we have the full power of python at our disposal to easily use shared variables between components, or set complex Class or dictionary-based settings, without fumbling through a UI."
   ]
  },
  {
   "cell_type": "code",
   "execution_count": null,
   "id": "12",
   "metadata": {},
   "outputs": [],
   "source": [
    "se.update_settings(\"mmi1\", gap_mmi=1.0)\n",
    "se.update_settings(\"mmi2\", gap_mmi=0.7)\n",
    "\n",
    "for inst_name, inst in se.instances.items():\n",
    "    if inst.settings:\n",
    "        print(f\"{inst_name}: {inst.settings}\")"
   ]
  },
  {
   "cell_type": "markdown",
   "id": "13",
   "metadata": {},
   "source": [
    "## Define nets\n",
    "\n",
    "Now, you define your logical connections between instances in your netlist. Each row in the grid represents one logical connection."
   ]
  },
  {
   "cell_type": "code",
   "execution_count": null,
   "id": "14",
   "metadata": {},
   "outputs": [],
   "source": [
    "se.net_widget"
   ]
  },
  {
   "cell_type": "markdown",
   "id": "15",
   "metadata": {},
   "source": [
    "Similarly, you can programmatically add nets.\n",
    "Adding a net which already exists will have no effect, such that the notebook can be rerun without consequence.\n",
    "However, trying to connect to a port which is already otherwise connected will throw an error."
   ]
  },
  {
   "cell_type": "code",
   "execution_count": null,
   "id": "16",
   "metadata": {},
   "outputs": [],
   "source": [
    "se.add_net(\n",
    "    inst1=\"mmi1\", port1=\"o2\", inst2=\"s1\", port2=\"o1\"\n",
    ")  # can be re-run without consequence\n",
    "se.add_net(inst1=\"s1\", port1=\"o1\", inst2=\"mmi1\", port2=\"o2\")  # also ok\n",
    "# se.add_net(inst1=\"s1\", port1=\"o2\", inst2=\"mmi1\", port2=\"o2\")  # throws error -- already connected to a different port"
   ]
  },
  {
   "cell_type": "code",
   "execution_count": null,
   "id": "17",
   "metadata": {},
   "outputs": [],
   "source": [
    "se.schematic"
   ]
  },
  {
   "cell_type": "markdown",
   "id": "18",
   "metadata": {},
   "source": [
    "## Define ports\n",
    "\n",
    "Now, you define the Component ports following the syntax\n",
    "\n",
    "PortName | InstanceName,PortName"
   ]
  },
  {
   "cell_type": "code",
   "execution_count": null,
   "id": "19",
   "metadata": {},
   "outputs": [],
   "source": [
    "se.port_widget"
   ]
  },
  {
   "cell_type": "markdown",
   "id": "20",
   "metadata": {},
   "source": [
    "## Visualize\n",
    "\n",
    "You can visualize your schematic down below. After you've initialized the plot below, you should see it live-update after every change we make above.\n",
    "\n",
    "Currently the size of component symbols and port locations are **layout-realistic**.\n",
    "This may be a nice default if you don't care to bother making symbols for your components.\n",
    "But it would be a nice improvement for the future to allow associating symbols with components, to make the schematic easier to read.\n",
    "\n",
    "If you activate the `Point Draw Tool` in the plot, you should see that you are able to arrange components freely on the schematic, and changes are saved back to the `*.schem.yml` file in realtime.\n",
    "\n",
    "![pointdraw](https://i.imgur.com/mlfsd13.png)"
   ]
  },
  {
   "cell_type": "code",
   "execution_count": null,
   "id": "21",
   "metadata": {},
   "outputs": [],
   "source": [
    "se.visualize()"
   ]
  },
  {
   "cell_type": "markdown",
   "id": "22",
   "metadata": {},
   "source": [
    "## generate Layout\n",
    "\n",
    "You can use your schematic to generate a preliminary layout, and view in the notebook and/or KLayout. Initial placements come from schematic placements and Routes are auto-generated from nets."
   ]
  },
  {
   "cell_type": "code",
   "execution_count": null,
   "id": "23",
   "metadata": {},
   "outputs": [],
   "source": [
    "layout_filename = \"sdl_demo.pic.yml\"\n",
    "se.instantiate_layout(layout_filename, default_router=\"route_bundle\")\n",
    "c = gf.read.from_yaml(layout_filename)\n",
    "c.plot()"
   ]
  },
  {
   "cell_type": "code",
   "execution_count": null,
   "id": "24",
   "metadata": {},
   "outputs": [],
   "source": [
    "# you can save your schematic to a standalone html file once you are satisfied\n",
    "# se.save_schematic_html('demo_schem.html')"
   ]
  },
  {
   "cell_type": "markdown",
   "id": "25",
   "metadata": {},
   "source": [
    "## Circuit simulations"
   ]
  },
  {
   "cell_type": "code",
   "execution_count": null,
   "id": "26",
   "metadata": {},
   "outputs": [],
   "source": [
    "import jax.numpy as jnp\n",
    "import matplotlib.pyplot as plt\n",
    "import numpy as np\n",
    "import sax\n",
    "\n",
    "import gplugins.sax as gs\n",
    "\n",
    "netlist = c.get_netlist()\n",
    "\n",
    "models = {\n",
    "    \"bend_euler\": gs.models.bend,\n",
    "    \"mmi1x2\": gs.models.mmi1x2,\n",
    "    \"mmi2x2\": gs.models.mmi2x2,\n",
    "    \"straight\": gs.models.straight,\n",
    "}\n",
    "\n",
    "circuit, _ = sax.circuit(netlist=netlist, models=models)"
   ]
  },
  {
   "cell_type": "code",
   "execution_count": null,
   "id": "27",
   "metadata": {},
   "outputs": [],
   "source": [
    "wl = np.linspace(1.5, 1.6)\n",
    "S = circuit(wl=wl)\n",
    "\n",
    "plt.figure(figsize=(14, 4))\n",
    "plt.title(\"MZI\")\n",
    "plt.plot(1e3 * wl, jnp.abs(S[\"o1\", \"o2\"]) ** 2)\n",
    "plt.xlabel(\"λ [nm]\")\n",
    "plt.ylabel(\"T\")\n",
    "plt.grid(True)\n",
    "plt.show()"
   ]
  },
  {
   "cell_type": "code",
   "execution_count": null,
   "id": "28",
   "metadata": {},
   "outputs": [],
   "source": []
  }
 ],
 "metadata": {
  "jupytext": {
   "cell_metadata_filter": "-all",
   "custom_cell_magics": "kql"
  },
  "kernelspec": {
   "display_name": "Python 3 (ipykernel)",
   "language": "python",
   "name": "python3"
  },
  "language_info": {
   "codemirror_mode": {
    "name": "ipython",
    "version": 3
   },
   "file_extension": ".py",
   "mimetype": "text/x-python",
   "name": "python",
   "nbconvert_exporter": "python",
   "pygments_lexer": "ipython3",
   "version": "3.10.13"
  }
 },
 "nbformat": 4,
 "nbformat_minor": 5
}
