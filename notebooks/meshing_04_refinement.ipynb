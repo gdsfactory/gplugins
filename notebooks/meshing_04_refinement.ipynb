{
 "cells": [
  {
   "cell_type": "markdown",
   "id": "0",
   "metadata": {},
   "source": [
    "# Controlling mesh resolution\n",
    "\n",
    "## Coarse global resolution\n",
    "\n",
    "The keyword arguments `default_resolution_min` and `default_resolution_max` set the minimum and maximum characteristic lengths used by `gmsh` when computing the mesh.\n",
    "\n",
    "They are used when other resolutions are not provided, and `default_resolution_max` effectively sets the minimum length possible, since when conflicting resolution at a point are given, the smallest one is taken."
   ]
  },
  {
   "cell_type": "code",
   "execution_count": null,
   "id": "1",
   "metadata": {},
   "outputs": [],
   "source": [
    "import gdsfactory as gf\n",
    "import meshio\n",
    "from gdsfactory.generic_tech import get_generic_pdk\n",
    "from gdsfactory.pdk import get_layer_stack\n",
    "from gdsfactory.technology import LayerStack\n",
    "from skfem.io import from_meshio\n",
    "\n",
    "from gplugins.gmsh.get_mesh import create_physical_mesh, get_mesh\n",
    "\n",
    "PDK = get_generic_pdk()\n",
    "PDK.activate()\n",
    "gf.config.rich_output()\n",
    "\n",
    "waveguide = gf.components.straight_pin(length=10, taper=None)\n",
    "waveguide.trim(left=3, right=5, top=+4, bottom=-4)\n",
    "waveguide.plot()\n",
    "\n",
    "\n",
    "filtered_layer_stack = LayerStack(\n",
    "    layers={\n",
    "        k: get_layer_stack().layers[k]\n",
    "        for k in (\n",
    "            \"slab90\",\n",
    "            \"core\",\n",
    "            \"via_contact\",\n",
    "        )\n",
    "    }\n",
    ")\n",
    "\n",
    "filename = \"mesh\"\n",
    "\n",
    "\n",
    "def mesh_with_physicals(mesh, filename):\n",
    "    mesh_from_file = meshio.read(f\"{filename}.msh\")\n",
    "    return create_physical_mesh(mesh_from_file, \"triangle\")"
   ]
  },
  {
   "cell_type": "markdown",
   "id": "2",
   "metadata": {},
   "source": [
    "With `default_resolution_max` set to 1 um and `default_resolution_min` set to 100 nm:"
   ]
  },
  {
   "cell_type": "code",
   "execution_count": null,
   "id": "3",
   "metadata": {},
   "outputs": [],
   "source": [
    "mesh = get_mesh(\n",
    "    component=waveguide,\n",
    "    type=\"uz\",\n",
    "    xsection_bounds=[(4, -4), (4, 4)],\n",
    "    layer_stack=filtered_layer_stack,\n",
    "    filename=f\"{filename}.msh\",\n",
    "    background_tag=\"oxide\",\n",
    "    background_padding=(2.0, 2.0, 2.0, 2.0),\n",
    "    default_resolution_min=0.1,\n",
    "    default_resolution_max=1,\n",
    ")\n",
    "\n",
    "mesh = mesh_with_physicals(mesh, filename)\n",
    "mesh = from_meshio(mesh)\n",
    "mesh.draw().plot()"
   ]
  },
  {
   "cell_type": "markdown",
   "id": "4",
   "metadata": {},
   "source": [
    "With `default_resolution_max` set to 300 nm and `default_resolution_max` set to 50 nm:"
   ]
  },
  {
   "cell_type": "code",
   "execution_count": null,
   "id": "5",
   "metadata": {},
   "outputs": [],
   "source": [
    "mesh = get_mesh(\n",
    "    component=waveguide,\n",
    "    type=\"uz\",\n",
    "    xsection_bounds=[(4, -4), (4, 4)],\n",
    "    layer_stack=filtered_layer_stack,\n",
    "    filename=f\"{filename}.msh\",\n",
    "    background_tag=\"oxide\",\n",
    "    background_padding=(2.0, 2.0, 2.0, 2.0),\n",
    "    default_resolution_min=0.05,\n",
    "    default_resolution_max=0.3,\n",
    ")\n",
    "mesh = mesh_with_physicals(mesh, filename)\n",
    "mesh = from_meshio(mesh)\n",
    "mesh.draw().show()"
   ]
  },
  {
   "cell_type": "markdown",
   "id": "6",
   "metadata": {},
   "source": [
    "## Label-wise coarse resolution control\n",
    "\n",
    "An advantage of finite-volume and finite-element schemes is the ability for different nodes to have different characteristics lengths.\n",
    "\n",
    "This simply achieved to first order here by supplying a `resolutions` dict with keys referencing the `LayerStack` names, and for value a second dict with keys `resolution` and `DistMax / SizeMax` (see gmsh documentation) which control, respectively, the characteristic length within a region and the dropoff away from interfaces with this region.\n",
    "\n",
    "For example, to refine within the core only, one could use:"
   ]
  },
  {
   "cell_type": "code",
   "execution_count": null,
   "id": "7",
   "metadata": {},
   "outputs": [],
   "source": [
    "resolutions = {\"core\": {\"resolution\": 0.05, \"distance\": 0}}\n",
    "mesh = get_mesh(\n",
    "    component=waveguide,\n",
    "    type=\"uz\",\n",
    "    xsection_bounds=[(4, -4), (4, 4)],\n",
    "    layer_stack=filtered_layer_stack,\n",
    "    filename=f\"{filename}.msh\",\n",
    "    background_tag=\"oxide\",\n",
    "    background_padding=(2.0, 2.0, 2.0, 2.0),\n",
    "    resolutions=resolutions,\n",
    ")\n",
    "mesh = mesh_with_physicals(mesh, filename)\n",
    "mesh = from_meshio(mesh)\n",
    "mesh.draw().show()"
   ]
  },
  {
   "cell_type": "markdown",
   "id": "8",
   "metadata": {},
   "source": [
    "Adding a dropoff at the interface:"
   ]
  },
  {
   "cell_type": "code",
   "execution_count": null,
   "id": "9",
   "metadata": {},
   "outputs": [],
   "source": [
    "resolutions = {\"core\": {\"resolution\": 0.05, \"DistMax\": 1, \"SizeMax\": 0.2}}\n",
    "mesh = get_mesh(\n",
    "    component=waveguide,\n",
    "    type=\"uz\",\n",
    "    xsection_bounds=[(4, -4), (4, 4)],\n",
    "    layer_stack=filtered_layer_stack,\n",
    "    filename=f\"{filename}.msh\",\n",
    "    background_tag=\"oxide\",\n",
    "    background_padding=(2.0, 2.0, 2.0, 2.0),\n",
    "    resolutions=resolutions,\n",
    ")\n",
    "mesh = mesh_with_physicals(mesh, filename)\n",
    "mesh = from_meshio(mesh)\n",
    "mesh.draw().show()"
   ]
  },
  {
   "cell_type": "markdown",
   "id": "10",
   "metadata": {},
   "source": [
    "Refining multiple elements simultaneously:"
   ]
  },
  {
   "cell_type": "code",
   "execution_count": null,
   "id": "11",
   "metadata": {},
   "outputs": [],
   "source": [
    "resolutions = {\n",
    "    \"core\": {\"resolution\": 0.05, \"DistMax\": 1, \"SizeMax\": 0.2},\n",
    "    \"slab90\": {\"resolution\": 0.02, \"DistMax\": 1, \"SizeMax\": 0.2},\n",
    "    \"via_contact\": {\"resolution\": 0.2},\n",
    "    \"oxide\": {\"resolution\": 1},\n",
    "}\n",
    "mesh = get_mesh(\n",
    "    component=waveguide,\n",
    "    type=\"uz\",\n",
    "    xsection_bounds=[(4, -4), (4, 4)],\n",
    "    layer_stack=filtered_layer_stack,\n",
    "    filename=f\"{filename}.msh\",\n",
    "    background_tag=\"oxide\",\n",
    "    background_padding=(2.0, 2.0, 2.0, 2.0),\n",
    "    resolutions=resolutions,\n",
    ")\n",
    "mesh = mesh_with_physicals(mesh, filename)\n",
    "mesh = from_meshio(mesh)\n",
    "mesh.draw().show()"
   ]
  }
 ],
 "metadata": {
  "jupytext": {
   "cell_metadata_filter": "-all",
   "main_language": "python",
   "notebook_metadata_filter": "-all"
  },
  "kernelspec": {
   "display_name": "base",
   "language": "python",
   "name": "python3"
  },
  "language_info": {
   "codemirror_mode": {
    "name": "ipython",
    "version": 3
   },
   "file_extension": ".py",
   "mimetype": "text/x-python",
   "name": "python",
   "nbconvert_exporter": "python",
   "pygments_lexer": "ipython3",
   "version": "3.11.5"
  }
 },
 "nbformat": 4,
 "nbformat_minor": 5
}
