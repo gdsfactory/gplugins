{
 "cells": [
  {
   "cell_type": "markdown",
   "id": "0",
   "metadata": {},
   "source": [
    "# EME with MEOW\n",
    "\n",
    "Some components are more efficiently modeled with Eigenmode Expansion.\n",
    "\n",
    "Gdsfactory provides a plugin for MEOW to efficiently extract component S-parameters through EME.\n",
    "\n",
    "Currently the component needs to specifically have a single \"o1\" port facing west, and a single \"o2\" port facing east, like this taper:"
   ]
  },
  {
   "cell_type": "code",
   "execution_count": null,
   "id": "1",
   "metadata": {},
   "outputs": [],
   "source": [
    "import gdsfactory as gf\n",
    "import matplotlib.pyplot as plt\n",
    "import numpy as np\n",
    "from gdsfactory.generic_tech import get_generic_pdk\n",
    "\n",
    "from gplugins.meow import MEOW\n",
    "\n",
    "gf.config.rich_output()\n",
    "PDK = get_generic_pdk()\n",
    "PDK.activate()\n",
    "\n",
    "LAYER_STACK = PDK.layer_stack\n",
    "c = gf.components.taper_cross_section_sine()\n",
    "c.plot()"
   ]
  },
  {
   "cell_type": "markdown",
   "id": "2",
   "metadata": {},
   "source": [
    "You also need to explicitly provide a LayerStack to define cross-sections, for instance the generic one:"
   ]
  },
  {
   "cell_type": "code",
   "execution_count": null,
   "id": "3",
   "metadata": {},
   "outputs": [],
   "source": [
    "layer_stack = LAYER_STACK\n",
    "\n",
    "filtered_layer_stack = gf.technology.LayerStack(\n",
    "    layers={\n",
    "        k: layer_stack.layers[k]\n",
    "        for k in (\n",
    "            \"slab90\",\n",
    "            \"core\",\n",
    "            \"box\",\n",
    "            \"clad\",\n",
    "        )\n",
    "    }\n",
    ")"
   ]
  },
  {
   "cell_type": "markdown",
   "id": "4",
   "metadata": {},
   "source": [
    "Since you need to make sure that your entire LayerStack has e.g. material information for all present layers, it is safer to only keep the layers that you need for your simulation:"
   ]
  },
  {
   "cell_type": "markdown",
   "id": "5",
   "metadata": {},
   "source": [
    "The EME simulator can be instantiated with only these two elements, alongside parameters:"
   ]
  },
  {
   "cell_type": "code",
   "execution_count": null,
   "id": "6",
   "metadata": {},
   "outputs": [],
   "source": [
    "eme = MEOW(\n",
    "    component=c, layer_stack=filtered_layer_stack, wavelength=1.55, overwrite=True\n",
    ")"
   ]
  },
  {
   "cell_type": "markdown",
   "id": "7",
   "metadata": {},
   "source": [
    "Plotting functions allow you to check your simulation:"
   ]
  },
  {
   "cell_type": "code",
   "execution_count": null,
   "id": "8",
   "metadata": {},
   "outputs": [],
   "source": [
    "eme.plot_structure()"
   ]
  },
  {
   "cell_type": "markdown",
   "id": "9",
   "metadata": {},
   "source": [
    "The cross-section themselves:"
   ]
  },
  {
   "cell_type": "code",
   "execution_count": null,
   "id": "10",
   "metadata": {},
   "outputs": [],
   "source": [
    "eme.plot_cross_section(xs_num=0)"
   ]
  },
  {
   "cell_type": "code",
   "execution_count": null,
   "id": "11",
   "metadata": {},
   "outputs": [],
   "source": [
    "eme.plot_cross_section(xs_num=-1)"
   ]
  },
  {
   "cell_type": "markdown",
   "id": "12",
   "metadata": {},
   "source": [
    "And the modes (after calculating them):"
   ]
  },
  {
   "cell_type": "code",
   "execution_count": null,
   "id": "13",
   "metadata": {},
   "outputs": [],
   "source": [
    "eme.plot_mode(xs_num=0, mode_num=0)"
   ]
  },
  {
   "cell_type": "code",
   "execution_count": null,
   "id": "14",
   "metadata": {},
   "outputs": [],
   "source": [
    "eme.plot_mode(xs_num=-1, mode_num=0)"
   ]
  },
  {
   "cell_type": "markdown",
   "id": "15",
   "metadata": {},
   "source": [
    "The S-parameters can be calculated, and are returned in the same format as for the FDTD solvers (the original MEOW S-parameter results S and port_names are saved as attributes):"
   ]
  },
  {
   "cell_type": "code",
   "execution_count": null,
   "id": "16",
   "metadata": {},
   "outputs": [],
   "source": [
    "sp = eme.compute_sparameters()"
   ]
  },
  {
   "cell_type": "code",
   "execution_count": null,
   "id": "17",
   "metadata": {},
   "outputs": [],
   "source": [
    "print(np.abs(sp[\"o1@0,o2@0\"]) ** 2)"
   ]
  },
  {
   "cell_type": "code",
   "execution_count": null,
   "id": "18",
   "metadata": {},
   "outputs": [],
   "source": [
    "print(eme.port_map)\n",
    "eme.plot_s_params()"
   ]
  },
  {
   "cell_type": "markdown",
   "id": "19",
   "metadata": {},
   "source": [
    "As you can see most light stays on the fundamental TE mode"
   ]
  },
  {
   "cell_type": "markdown",
   "id": "20",
   "metadata": {},
   "source": [
    "## Sweep EME length\n",
    "\n",
    "Lets sweep the length of the taper."
   ]
  },
  {
   "cell_type": "code",
   "execution_count": null,
   "id": "21",
   "metadata": {},
   "outputs": [],
   "source": [
    "layer_stack = LAYER_STACK\n",
    "\n",
    "filtered_layer_stack = gf.technology.LayerStack(\n",
    "    layers={\n",
    "        k: layer_stack.layers[k]\n",
    "        for k in (\n",
    "            \"slab90\",\n",
    "            \"core\",\n",
    "            \"box\",\n",
    "            \"clad\",\n",
    "        )\n",
    "    }\n",
    ")\n",
    "\n",
    "c = gf.components.taper(width1=0.5, width2=2, length=10.0)\n",
    "c.plot()"
   ]
  },
  {
   "cell_type": "markdown",
   "id": "22",
   "metadata": {},
   "source": [
    "Lets do a convergence tests on the `cell_length` parameter. This depends a lot on the structure."
   ]
  },
  {
   "cell_type": "code",
   "execution_count": null,
   "id": "23",
   "metadata": {},
   "outputs": [],
   "source": [
    "trans = []\n",
    "cells_lengths = [0.1, 0.25, 0.5, 0.75, 1]\n",
    "\n",
    "for cell_length in cells_lengths:\n",
    "    m = MEOW(\n",
    "        component=c,\n",
    "        layer_stack=filtered_layer_stack,\n",
    "        wavelength=1.55,\n",
    "        overwrite=True,\n",
    "        spacing_y=-3,\n",
    "        cell_length=cell_length,\n",
    "    )\n",
    "    sp = m.compute_sparameters()\n",
    "    te0_trans = np.abs(sp[\"o1@0,o2@0\"]) ** 2\n",
    "    trans.append(te0_trans)\n",
    "\n",
    "plt.plot(cells_lengths, trans, \".-\")\n",
    "plt.title(\"10um taper, resx = resy = 100, num_modes = 4\")\n",
    "plt.xlabel(\"Cell length (um)\")\n",
    "plt.ylabel(\"TE0 transmission\")"
   ]
  },
  {
   "cell_type": "code",
   "execution_count": null,
   "id": "24",
   "metadata": {},
   "outputs": [],
   "source": [
    "eme = MEOW(\n",
    "    component=c,\n",
    "    layer_stack=filtered_layer_stack,\n",
    "    wavelength=1.55,\n",
    "    overwrite=True,\n",
    "    spacing_y=-3,\n",
    "    cell_length=0.25,\n",
    ")"
   ]
  },
  {
   "cell_type": "code",
   "execution_count": null,
   "id": "25",
   "metadata": {},
   "outputs": [],
   "source": [
    "eme.plot_cross_section(xs_num=0)"
   ]
  },
  {
   "cell_type": "code",
   "execution_count": null,
   "id": "26",
   "metadata": {},
   "outputs": [],
   "source": [
    "eme.plot_mode(xs_num=0, mode_num=0)"
   ]
  },
  {
   "cell_type": "code",
   "execution_count": null,
   "id": "27",
   "metadata": {},
   "outputs": [],
   "source": [
    "eme.plot_cross_section(xs_num=-1)"
   ]
  },
  {
   "cell_type": "code",
   "execution_count": null,
   "id": "28",
   "metadata": {},
   "outputs": [],
   "source": [
    "eme.plot_mode(xs_num=-1, mode_num=0)"
   ]
  },
  {
   "cell_type": "code",
   "execution_count": null,
   "id": "29",
   "metadata": {},
   "outputs": [],
   "source": [
    "sp = eme.compute_sparameters()"
   ]
  },
  {
   "cell_type": "code",
   "execution_count": null,
   "id": "30",
   "metadata": {},
   "outputs": [],
   "source": [
    "print(eme.port_map)\n",
    "eme.plot_s_params()"
   ]
  },
  {
   "cell_type": "code",
   "execution_count": null,
   "id": "31",
   "metadata": {},
   "outputs": [],
   "source": [
    "T = np.abs(sp[\"o1@0,o2@0\"]) ** 2\n",
    "T"
   ]
  },
  {
   "cell_type": "code",
   "execution_count": null,
   "id": "32",
   "metadata": {},
   "outputs": [],
   "source": [
    "np.abs(sp[\"o1@0,o2@2\"]) ** 2"
   ]
  },
  {
   "cell_type": "code",
   "execution_count": null,
   "id": "33",
   "metadata": {},
   "outputs": [],
   "source": [
    "lengths = np.array([1, 2, 3, 5, 10, 20])\n",
    "T = np.zeros_like(lengths, dtype=float)"
   ]
  },
  {
   "cell_type": "code",
   "execution_count": null,
   "id": "34",
   "metadata": {},
   "outputs": [],
   "source": [
    "for length in lengths:\n",
    "    c = gf.components.taper(width1=0.5, width2=2, length=length)\n",
    "    c.plot()"
   ]
  },
  {
   "cell_type": "code",
   "execution_count": null,
   "id": "35",
   "metadata": {},
   "outputs": [],
   "source": [
    "for i, length in enumerate(lengths):\n",
    "    print(f\"{length=}\")\n",
    "    c = gf.components.taper(width1=0.5, width2=2, length=length)\n",
    "    eme = MEOW(\n",
    "        component=c,\n",
    "        layer_stack=filtered_layer_stack,\n",
    "        wavelength=1.55,\n",
    "        overwrite=True,\n",
    "        spacing_y=-3,\n",
    "        cell_length=0.25,\n",
    "    )\n",
    "    sp = eme.compute_sparameters()\n",
    "    T[i] = np.abs(sp[\"o1@0,o2@0\"]) ** 2"
   ]
  },
  {
   "cell_type": "code",
   "execution_count": null,
   "id": "36",
   "metadata": {},
   "outputs": [],
   "source": [
    "plt.plot(lengths, T, marker=\"o\")\n",
    "plt.ylim(0.6, 1.0)\n",
    "plt.title(\"Fundamental mode transmission\")\n",
    "plt.ylabel(\"Transmission\")\n",
    "plt.xlabel(\"taper length (um)\")\n",
    "plt.grid(True)\n",
    "plt.show()"
   ]
  },
  {
   "cell_type": "code",
   "execution_count": null,
   "id": "37",
   "metadata": {},
   "outputs": [],
   "source": [
    "eme.plot_s_params()"
   ]
  }
 ],
 "metadata": {
  "jupytext": {
   "cell_metadata_filter": "-all",
   "main_language": "python",
   "notebook_metadata_filter": "-all"
  },
  "kernelspec": {
   "display_name": "base",
   "language": "python",
   "name": "python3"
  },
  "language_info": {
   "codemirror_mode": {
    "name": "ipython",
    "version": 3
   },
   "file_extension": ".py",
   "mimetype": "text/x-python",
   "name": "python",
   "nbconvert_exporter": "python",
   "pygments_lexer": "ipython3",
   "version": "3.11.5"
  }
 },
 "nbformat": 4,
 "nbformat_minor": 5
}
