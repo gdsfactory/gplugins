{
 "cells": [
  {
   "cell_type": "markdown",
   "id": "0",
   "metadata": {},
   "source": [
    "# Thermal\n",
    "\n",
    "You can use our FEM [femwell plugin](https://helgegehring.github.io/femwell/) for thermal simulations.\n",
    "You can simulate directly the component layout and include important effects such as metal dummy fill.\n"
   ]
  },
  {
   "cell_type": "code",
   "execution_count": null,
   "id": "1",
   "metadata": {},
   "outputs": [],
   "source": [
    "import gdsfactory as gf\n",
    "import meshio\n",
    "from gdsfactory.generic_tech import get_generic_pdk\n",
    "from gdsfactory.technology import LayerStack\n",
    "from skfem.io import from_meshio\n",
    "\n",
    "from gplugins.gmsh import create_physical_mesh, get_mesh\n",
    "\n",
    "PDK = get_generic_pdk()\n",
    "PDK.activate()\n",
    "\n",
    "LAYER_STACK = PDK.layer_stack\n",
    "LAYER_STACK.layers[\"heater\"].thickness = 0.13\n",
    "LAYER_STACK.layers[\"heater\"].zmin = 2.2\n",
    "\n",
    "heater = gf.components.straight_heater_metal(length=50)\n",
    "heater.plot()"
   ]
  },
  {
   "cell_type": "code",
   "execution_count": null,
   "id": "2",
   "metadata": {},
   "outputs": [],
   "source": [
    "s = heater.to_3d()\n",
    "s.show()"
   ]
  },
  {
   "cell_type": "code",
   "execution_count": null,
   "id": "3",
   "metadata": {},
   "outputs": [],
   "source": [
    "print(LAYER_STACK.layers.keys())"
   ]
  },
  {
   "cell_type": "code",
   "execution_count": null,
   "id": "4",
   "metadata": {},
   "outputs": [],
   "source": [
    "filtered_layer_stack = LayerStack(\n",
    "    layers={\n",
    "        k: gf.pdk.get_layer_stack().layers[k]\n",
    "        for k in (\"slab90\", \"core\", \"via_contact\", \"heater\")\n",
    "    }\n",
    ")"
   ]
  },
  {
   "cell_type": "code",
   "execution_count": null,
   "id": "5",
   "metadata": {},
   "outputs": [],
   "source": [
    "filename = \"mesh\"\n",
    "\n",
    "\n",
    "def mesh_with_physicals(mesh, filename):\n",
    "    mesh_from_file = meshio.read(f\"{filename}.msh\")\n",
    "    return create_physical_mesh(mesh_from_file, \"triangle\")"
   ]
  },
  {
   "cell_type": "code",
   "execution_count": null,
   "id": "6",
   "metadata": {},
   "outputs": [],
   "source": [
    "mesh = get_mesh(\n",
    "    component=heater,\n",
    "    type=\"uz\",\n",
    "    xsection_bounds=[(4, -4), (4, 4)],\n",
    "    layer_stack=filtered_layer_stack,\n",
    "    filename=f\"{filename}.msh\",\n",
    ")\n",
    "mesh = mesh_with_physicals(mesh, filename)\n",
    "mesh = from_meshio(mesh)\n",
    "mesh.draw().plot()"
   ]
  },
  {
   "cell_type": "markdown",
   "id": "7",
   "metadata": {},
   "source": [
    "Example based on [femwell](https://helgegehring.github.io/femwell/index.html)"
   ]
  },
  {
   "cell_type": "code",
   "execution_count": null,
   "id": "8",
   "metadata": {},
   "outputs": [],
   "source": [
    "from collections import OrderedDict\n",
    "\n",
    "import matplotlib.pyplot as plt\n",
    "import numpy as np\n",
    "from femwell.maxwell.waveguide import compute_modes\n",
    "from femwell.mesh import mesh_from_OrderedDict\n",
    "from femwell.thermal import solve_thermal\n",
    "from shapely.geometry import LineString, Polygon\n",
    "from skfem import Basis, ElementTriP0\n",
    "from skfem.io import from_meshio\n",
    "from tqdm import tqdm"
   ]
  },
  {
   "cell_type": "code",
   "execution_count": null,
   "id": "9",
   "metadata": {},
   "outputs": [],
   "source": [
    "w_sim = 8 * 2\n",
    "h_clad = 2.8\n",
    "h_box = 2\n",
    "w_core = 0.5\n",
    "h_core = 0.22\n",
    "h_heater = 0.14\n",
    "w_heater = 2\n",
    "offset_heater = 2 + (h_core + h_heater) / 2\n",
    "h_silicon = 0.5\n",
    "\n",
    "polygons = OrderedDict(\n",
    "    bottom=LineString(\n",
    "        [\n",
    "            (-w_sim / 2, -h_core / 2 - h_box - h_silicon),\n",
    "            (w_sim / 2, -h_core / 2 - h_box - h_silicon),\n",
    "        ]\n",
    "    ),\n",
    "    core=Polygon(\n",
    "        [\n",
    "            (-w_core / 2, -h_core / 2),\n",
    "            (-w_core / 2, h_core / 2),\n",
    "            (w_core / 2, h_core / 2),\n",
    "            (w_core / 2, -h_core / 2),\n",
    "        ]\n",
    "    ),\n",
    "    heater=Polygon(\n",
    "        [\n",
    "            (-w_heater / 2, -h_heater / 2 + offset_heater),\n",
    "            (-w_heater / 2, h_heater / 2 + offset_heater),\n",
    "            (w_heater / 2, h_heater / 2 + offset_heater),\n",
    "            (w_heater / 2, -h_heater / 2 + offset_heater),\n",
    "        ]\n",
    "    ),\n",
    "    clad=Polygon(\n",
    "        [\n",
    "            (-w_sim / 2, -h_core / 2),\n",
    "            (-w_sim / 2, -h_core / 2 + h_clad),\n",
    "            (w_sim / 2, -h_core / 2 + h_clad),\n",
    "            (w_sim / 2, -h_core / 2),\n",
    "        ]\n",
    "    ),\n",
    "    box=Polygon(\n",
    "        [\n",
    "            (-w_sim / 2, -h_core / 2),\n",
    "            (-w_sim / 2, -h_core / 2 - h_box),\n",
    "            (w_sim / 2, -h_core / 2 - h_box),\n",
    "            (w_sim / 2, -h_core / 2),\n",
    "        ]\n",
    "    ),\n",
    "    wafer=Polygon(\n",
    "        [\n",
    "            (-w_sim / 2, -h_core / 2 - h_box - h_silicon),\n",
    "            (-w_sim / 2, -h_core / 2 - h_box),\n",
    "            (w_sim / 2, -h_core / 2 - h_box),\n",
    "            (w_sim / 2, -h_core / 2 - h_box - h_silicon),\n",
    "        ]\n",
    "    ),\n",
    ")\n",
    "\n",
    "resolutions = dict(\n",
    "    core={\"resolution\": 0.04, \"distance\": 1},\n",
    "    clad={\"resolution\": 0.6, \"distance\": 1},\n",
    "    box={\"resolution\": 0.6, \"distance\": 1},\n",
    "    heater={\"resolution\": 0.1, \"distance\": 1},\n",
    ")\n",
    "\n",
    "mesh = from_meshio(\n",
    "    mesh_from_OrderedDict(polygons, resolutions, default_resolution_max=0.6)\n",
    ")\n",
    "mesh.draw().show()"
   ]
  },
  {
   "cell_type": "markdown",
   "id": "10",
   "metadata": {},
   "source": [
    "And then we solve it!"
   ]
  },
  {
   "cell_type": "code",
   "execution_count": null,
   "id": "11",
   "metadata": {},
   "outputs": [],
   "source": [
    "currents = np.linspace(0.0, 7.4e-3, 10)\n",
    "current_densities = currents / polygons[\"heater\"].area\n",
    "neffs = []\n",
    "\n",
    "for current_density in tqdm(current_densities):\n",
    "    basis0 = Basis(mesh, ElementTriP0(), intorder=4)\n",
    "    thermal_conductivity_p0 = basis0.zeros()\n",
    "    for domain, value in {\n",
    "        \"core\": 90,\n",
    "        \"box\": 1.38,\n",
    "        \"clad\": 1.38,\n",
    "        \"heater\": 28,\n",
    "        \"wafer\": 148,\n",
    "    }.items():\n",
    "        thermal_conductivity_p0[basis0.get_dofs(elements=domain)] = value\n",
    "    thermal_conductivity_p0 *= 1e-12  # 1e-12 -> conversion from 1/m^2 -> 1/um^2\n",
    "\n",
    "    basis, temperature = solve_thermal(\n",
    "        basis0,\n",
    "        thermal_conductivity_p0,\n",
    "        specific_conductivity={\"heater\": 2.3e6},\n",
    "        current_densities={\"heater\": current_density},\n",
    "        fixed_boundaries={\"bottom\": 0},\n",
    "    )\n",
    "\n",
    "    if current_density == current_densities[-1]:\n",
    "        basis.plot(temperature, shading=\"gouraud\", colorbar=True)\n",
    "        plt.show()\n",
    "\n",
    "    temperature0 = basis0.project(basis.interpolate(temperature))\n",
    "    epsilon = basis0.zeros() + (1.444 + 1.00e-5 * temperature0) ** 2\n",
    "    epsilon[basis0.get_dofs(elements=\"core\")] = (\n",
    "        3.4777 + 1.86e-4 * temperature0[basis0.get_dofs(elements=\"core\")]\n",
    "    ) ** 2\n",
    "    # basis0.plot(epsilon, colorbar=True).show()\n",
    "\n",
    "    modes = compute_modes(basis0, epsilon, wavelength=1.55, num_modes=1, solver=\"scipy\")\n",
    "\n",
    "    if current_density == current_densities[-1]:\n",
    "        modes[0].show(modes[0].E.real)\n",
    "\n",
    "    neffs.append(np.real(modes[0].n_eff))\n",
    "\n",
    "print(f\"Phase shift: {2 * np.pi / 1.55 * (neffs[-1] - neffs[0]) * 320}\")\n",
    "plt.xlabel(\"Current / mA\")\n",
    "plt.ylabel(\"Effective refractive index $n_{eff}$\")\n",
    "plt.plot(currents * 1e3, neffs)\n",
    "plt.show()"
   ]
  },
  {
   "cell_type": "code",
   "execution_count": null,
   "id": "12",
   "metadata": {},
   "outputs": [],
   "source": []
  }
 ],
 "metadata": {
  "jupytext": {
   "cell_metadata_filter": "-all",
   "custom_cell_magics": "kql"
  },
  "kernelspec": {
   "display_name": "base",
   "language": "python",
   "name": "python3"
  },
  "language_info": {
   "codemirror_mode": {
    "name": "ipython",
    "version": 3
   },
   "file_extension": ".py",
   "mimetype": "text/x-python",
   "name": "python",
   "nbconvert_exporter": "python",
   "pygments_lexer": "ipython3",
   "version": "3.11.5"
  }
 },
 "nbformat": 4,
 "nbformat_minor": 5
}
