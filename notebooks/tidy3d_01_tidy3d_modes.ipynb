{
 "cells": [
  {
   "cell_type": "markdown",
   "id": "0",
   "metadata": {},
   "source": [
    "# Tidy3D mode solver\n",
    "\n",
    "Tidy3d comes with an open source FDFD [mode solver](https://docs.flexcompute.com/projects/tidy3d/en/latest/notebooks/ModeSolver.html)\n"
   ]
  },
  {
   "cell_type": "markdown",
   "id": "1",
   "metadata": {},
   "source": [
    "## Materials\n",
    "\n",
    "You can define materials as a material spec (float, string, tuple[string,string])."
   ]
  },
  {
   "cell_type": "code",
   "execution_count": null,
   "id": "2",
   "metadata": {},
   "outputs": [],
   "source": [
    "import matplotlib.pyplot as plt\n",
    "import numpy as np\n",
    "\n",
    "import gplugins.tidy3d as gt\n",
    "\n",
    "nm = 1e-3"
   ]
  },
  {
   "cell_type": "code",
   "execution_count": null,
   "id": "3",
   "metadata": {},
   "outputs": [],
   "source": [
    "print(gt.materials.MaterialSpecTidy3d)"
   ]
  },
  {
   "cell_type": "code",
   "execution_count": null,
   "id": "4",
   "metadata": {},
   "outputs": [],
   "source": [
    "gt.materials.get_index(\n",
    "    3.4\n",
    ")  # get the index of a material with a given refractive index float"
   ]
  },
  {
   "cell_type": "code",
   "execution_count": null,
   "id": "5",
   "metadata": {},
   "outputs": [],
   "source": [
    "# get the index of a material with a name string, for the case that the refractive index has only one variant\n",
    "gt.materials.get_index(\"AlxOy\")"
   ]
  },
  {
   "cell_type": "code",
   "execution_count": null,
   "id": "6",
   "metadata": {},
   "outputs": [],
   "source": [
    "# get the index of a material with a name string, for the case that the refractive index has more than one variant\n",
    "gt.materials.get_index((\"cSi\", \"Li1993_293K\"))"
   ]
  },
  {
   "cell_type": "markdown",
   "id": "7",
   "metadata": {},
   "source": [
    "## Waveguides\n",
    "\n",
    "Guided Electromagnetic modes are the ones that have an effective index larger than the cladding of the waveguide\n",
    "\n",
    "Here is a waveguide of Silicon (n=3.4) surrounded by SiO2 (n=1.44) cladding\n",
    "\n",
    "For a 220 nm height x 450 nm width the effective index is 2.466"
   ]
  },
  {
   "cell_type": "markdown",
   "id": "8",
   "metadata": {},
   "source": [
    "For defining the waveguide materials you can use a float indicating the refractive index."
   ]
  },
  {
   "cell_type": "code",
   "execution_count": null,
   "id": "9",
   "metadata": {},
   "outputs": [],
   "source": [
    "strip = gt.modes.Waveguide(\n",
    "    wavelength=1.55,\n",
    "    core_width=0.5,\n",
    "    core_thickness=0.22,\n",
    "    slab_thickness=0.0,\n",
    "    core_material=3.47,\n",
    "    clad_material=1.44,\n",
    ")\n",
    "strip.plot_index()"
   ]
  },
  {
   "cell_type": "markdown",
   "id": "10",
   "metadata": {},
   "source": [
    "You can also use materials from the default materials."
   ]
  },
  {
   "cell_type": "code",
   "execution_count": null,
   "id": "11",
   "metadata": {},
   "outputs": [],
   "source": [
    "strip = gt.modes.Waveguide(\n",
    "    wavelength=1.55,\n",
    "    core_width=0.5,\n",
    "    core_thickness=0.22,\n",
    "    slab_thickness=0.0,\n",
    "    core_material=\"si\",\n",
    "    clad_material=\"sio2\",\n",
    ")\n",
    "strip.plot_index()"
   ]
  },
  {
   "cell_type": "code",
   "execution_count": null,
   "id": "12",
   "metadata": {},
   "outputs": [],
   "source": [
    "strip.plot_grid()"
   ]
  },
  {
   "cell_type": "code",
   "execution_count": null,
   "id": "13",
   "metadata": {},
   "outputs": [],
   "source": [
    "strip.plot_field(field_name=\"Ex\", mode_index=0)  # TE"
   ]
  },
  {
   "cell_type": "code",
   "execution_count": null,
   "id": "14",
   "metadata": {},
   "outputs": [],
   "source": [
    "strip.plot_field(field_name=\"Ex\", mode_index=0, value=\"dB\")  # TE"
   ]
  },
  {
   "cell_type": "code",
   "execution_count": null,
   "id": "15",
   "metadata": {},
   "outputs": [],
   "source": [
    "strip.plot_field(field_name=\"Ey\", mode_index=1)  # TM"
   ]
  },
  {
   "cell_type": "code",
   "execution_count": null,
   "id": "16",
   "metadata": {},
   "outputs": [],
   "source": [
    "print(strip.n_eff)"
   ]
  },
  {
   "cell_type": "code",
   "execution_count": null,
   "id": "17",
   "metadata": {},
   "outputs": [],
   "source": [
    "rib = gt.modes.Waveguide(\n",
    "    wavelength=1.55,\n",
    "    core_width=0.5,\n",
    "    core_thickness=0.22,\n",
    "    slab_thickness=0.15,\n",
    "    core_material=\"si\",\n",
    "    clad_material=\"sio2\",\n",
    ")\n",
    "rib.plot_index()\n",
    "rib.n_eff"
   ]
  },
  {
   "cell_type": "code",
   "execution_count": null,
   "id": "18",
   "metadata": {},
   "outputs": [],
   "source": [
    "rib.plot_field(field_name=\"Ex\", mode_index=0)  # TE"
   ]
  },
  {
   "cell_type": "code",
   "execution_count": null,
   "id": "19",
   "metadata": {},
   "outputs": [],
   "source": [
    "nitride = gt.modes.Waveguide(\n",
    "    wavelength=1.55,\n",
    "    core_width=1.0,\n",
    "    core_thickness=400 * nm,\n",
    "    slab_thickness=0.0,\n",
    "    core_material=\"sin\",\n",
    "    clad_material=\"sio2\",\n",
    ")\n",
    "nitride.plot_index()\n",
    "nitride.n_eff"
   ]
  },
  {
   "cell_type": "code",
   "execution_count": null,
   "id": "20",
   "metadata": {},
   "outputs": [],
   "source": [
    "nitride.plot_field(field_name=\"Ex\", mode_index=0)  # TE"
   ]
  },
  {
   "cell_type": "markdown",
   "id": "21",
   "metadata": {},
   "source": [
    "## Sweep width\n",
    "\n",
    "You can sweep the waveguide width and compute the modes.\n",
    "\n",
    "By increasing the waveguide width, the waveguide supports many more TE and TM modes. Where TE modes have a dominant Ex field and TM modes have larger Ey fields.\n",
    "\n",
    "Notice that waveguides wider than 0.450 um support more than one TE mode. Therefore the maximum width for single mode operation is 0.450 um.\n"
   ]
  },
  {
   "cell_type": "code",
   "execution_count": null,
   "id": "22",
   "metadata": {},
   "outputs": [],
   "source": [
    "strip = gt.modes.Waveguide(\n",
    "    wavelength=1.55,\n",
    "    core_width=1.0,\n",
    "    slab_thickness=0.0,\n",
    "    core_material=\"si\",\n",
    "    clad_material=\"sio2\",\n",
    "    core_thickness=220 * nm,\n",
    "    num_modes=4,\n",
    ")\n",
    "w = np.linspace(400 * nm, 1000 * nm, 7)\n",
    "n_eff = gt.modes.sweep_n_eff(strip, core_width=w)\n",
    "fraction_te = gt.modes.sweep_fraction_te(strip, core_width=w)\n",
    "\n",
    "for i in range(4):\n",
    "    plt.plot(w, n_eff.sel(mode_index=i).real, c=\"k\")\n",
    "    plt.scatter(\n",
    "        w, n_eff.sel(mode_index=i).real, c=fraction_te.sel(mode_index=i), vmin=0, vmax=1\n",
    "    )\n",
    "plt.axhline(y=1.44, color=\"k\", ls=\"--\")\n",
    "plt.colorbar().set_label(\"TE fraction\")\n",
    "plt.xlabel(\"Width of waveguide (µm)\")\n",
    "plt.ylabel(\"Effective refractive index\")\n",
    "plt.title(\"Effective index sweep\")"
   ]
  },
  {
   "cell_type": "markdown",
   "id": "23",
   "metadata": {},
   "source": [
    "**Exercises**\n",
    "\n",
    "- What is the maximum width to support a single TE mode at 1310 nm?\n",
    "- For a Silicon Nitride (n=2) 400nm thick waveguide surrounded by SiO2 (n=1.44), what is the maximum width to support a single TE mode at 1550 nm?\n",
    "- For two 500x220nm Silicon waveguides surrounded by SiO2, what is the coupling length (100% coupling) for 200 nm gap?\n"
   ]
  },
  {
   "cell_type": "markdown",
   "id": "24",
   "metadata": {},
   "source": [
    "## Group index\n",
    "\n",
    "You can also compute the group index for a waveguide."
   ]
  },
  {
   "cell_type": "code",
   "execution_count": null,
   "id": "25",
   "metadata": {},
   "outputs": [],
   "source": [
    "nm = 1e-3\n",
    "\n",
    "strip = gt.modes.Waveguide(\n",
    "    wavelength=1.55,\n",
    "    core_width=500 * nm,\n",
    "    slab_thickness=0.0,\n",
    "    core_material=\"si\",\n",
    "    clad_material=\"sio2\",\n",
    "    core_thickness=220 * nm,\n",
    "    num_modes=4,\n",
    "    group_index_step=10 * nm,\n",
    ")\n",
    "print(strip.n_group)"
   ]
  },
  {
   "cell_type": "markdown",
   "id": "26",
   "metadata": {},
   "source": [
    "## Bend modes\n",
    "\n",
    "You can compute bend modes specifying the bend radius."
   ]
  },
  {
   "cell_type": "code",
   "execution_count": null,
   "id": "27",
   "metadata": {},
   "outputs": [],
   "source": [
    "strip_bend = gt.modes.Waveguide(\n",
    "    wavelength=1.55,\n",
    "    core_width=500 * nm,\n",
    "    core_thickness=220 * nm,\n",
    "    slab_thickness=0.0,\n",
    "    bend_radius=4,\n",
    "    core_material=\"si\",\n",
    "    clad_material=\"sio2\",\n",
    ")\n",
    "strip_bend.plot_field(field_name=\"Ex\", mode_index=0)  # TE"
   ]
  },
  {
   "cell_type": "markdown",
   "id": "28",
   "metadata": {},
   "source": [
    "## Bend loss\n",
    "\n",
    "You can also compute the losses coming from the mode mismatch from the bend into a straight waveguide.\n",
    "To compute the bend loss due to mode mismatch you can calculate the mode overlap of the straight mode and the bent mode.\n",
    "Because there are two mode mismatch interfaces the total loss due to mode mismatch will be squared (from bend to straight and from straight to bend).\n",
    "\n",
    "![](https://i.imgur.com/M1Yysdr.png)\n",
    "\n",
    "[from paper](https://ieeexplore.ieee.org/ielaam/50/8720127/8684870-aam.pdf)"
   ]
  },
  {
   "cell_type": "code",
   "execution_count": null,
   "id": "29",
   "metadata": {
    "lines_to_next_cell": 2
   },
   "outputs": [],
   "source": [
    "radii = np.arange(4, 7)\n",
    "bend = gt.modes.Waveguide(\n",
    "    wavelength=1.55,\n",
    "    core_width=500 * nm,\n",
    "    core_thickness=220 * nm,\n",
    "    core_material=\"si\",\n",
    "    clad_material=\"sio2\",\n",
    "    num_modes=1,\n",
    "    bend_radius=radii.min(),\n",
    ")\n",
    "mismatch = gt.modes.sweep_bend_mismatch(bend, radii)\n",
    "\n",
    "plt.plot(radii, 10 * np.log10(mismatch))\n",
    "plt.title(\"Strip waveguide bend\")\n",
    "plt.xlabel(\"Radius (μm)\")\n",
    "plt.ylabel(\"Mismatch (dB)\")"
   ]
  },
  {
   "cell_type": "code",
   "execution_count": null,
   "id": "30",
   "metadata": {},
   "outputs": [],
   "source": [
    "dB_cm = 2  # dB/cm\n",
    "length = 2 * np.pi * radii * 1e-6\n",
    "propagation_loss = dB_cm * length * 1e2\n",
    "print(f\"propagation_loss: {propagation_loss}\")\n",
    "\n",
    "plt.title(\"Bend90 loss for TE polarization\")\n",
    "plt.plot(radii, -10 * np.log10(mismatch), \".\", label=\"mode loss\")\n",
    "plt.plot(radii, propagation_loss, \".\", label=\"propagation loss\")\n",
    "plt.xlabel(\"bend radius (um)\")\n",
    "plt.ylabel(\"Loss (dB)\")\n",
    "plt.legend()"
   ]
  },
  {
   "cell_type": "code",
   "execution_count": null,
   "id": "31",
   "metadata": {},
   "outputs": [],
   "source": [
    "rib = gt.modes.Waveguide(\n",
    "    wavelength=1.55,\n",
    "    core_width=1000 * nm,\n",
    "    core_thickness=220 * nm,\n",
    "    slab_thickness=110 * nm,\n",
    "    bend_radius=15,\n",
    "    core_material=\"si\",\n",
    "    clad_material=\"sio2\",\n",
    ")\n",
    "rib.plot_field(field_name=\"Ex\", mode_index=0)  # TE"
   ]
  },
  {
   "cell_type": "code",
   "execution_count": null,
   "id": "32",
   "metadata": {},
   "outputs": [],
   "source": [
    "nitride_bend = gt.modes.Waveguide(\n",
    "    wavelength=1.55,\n",
    "    core_width=1000 * nm,\n",
    "    core_thickness=400 * nm,\n",
    "    slab_thickness=0.0,\n",
    "    bend_radius=30,\n",
    "    core_material=\"sin\",\n",
    "    clad_material=\"sio2\",\n",
    ")\n",
    "nitride_bend.plot_field(field_name=\"Ex\", mode_index=0, value=\"abs\")  # TE"
   ]
  },
  {
   "cell_type": "code",
   "execution_count": null,
   "id": "33",
   "metadata": {
    "lines_to_next_cell": 2
   },
   "outputs": [],
   "source": [
    "radii = np.array([30, 35, 40])\n",
    "bend = gt.modes.Waveguide(\n",
    "    wavelength=1.55,\n",
    "    core_width=1000 * nm,\n",
    "    core_thickness=400 * nm,\n",
    "    core_material=\"sin\",\n",
    "    clad_material=\"sio2\",\n",
    "    num_modes=1,\n",
    "    bend_radius=radii.min(),\n",
    ")\n",
    "mismatch = gt.modes.sweep_bend_mismatch(bend, radii)"
   ]
  },
  {
   "cell_type": "code",
   "execution_count": null,
   "id": "34",
   "metadata": {},
   "outputs": [],
   "source": [
    "dB_cm = 2  # dB/cm\n",
    "length = 2 * np.pi * radii * 1e-6\n",
    "propagation_loss = dB_cm * length * 1e2\n",
    "print(f\"propagation_loss: {propagation_loss}\")\n",
    "\n",
    "plt.title(\"Bend90 loss for TE polarization\")\n",
    "plt.plot(radii, -10 * np.log10(mismatch), \".\", label=\"mode loss\")\n",
    "plt.plot(radii, propagation_loss, \".\", label=\"propagation loss\")\n",
    "plt.xlabel(\"bend radius (um)\")\n",
    "plt.ylabel(\"Loss (dB)\")\n",
    "plt.legend()"
   ]
  },
  {
   "cell_type": "markdown",
   "id": "35",
   "metadata": {},
   "source": [
    "**Exercises**\n",
    "\n",
    "- For a 500nm wide 220nm thick Silicon waveguide surrounded by SiO2, what is the minimum bend radius to have less than 0.04dB loss for TE polarization at 1550nm?\n",
    "- For a 500nm wide 220nm thick Silicon waveguide surrounded by SiO2, what is the minimum bend radius to have 99% power transmission for TM polarization at 1550nm?"
   ]
  },
  {
   "cell_type": "markdown",
   "id": "36",
   "metadata": {},
   "source": [
    "## Waveguide coupler\n",
    "\n",
    "You can also compute the modes of a waveguide coupler.\n",
    "\n",
    "```\n",
    "       ore_width[0]  core_width[1]\n",
    "        <------->     <------->\n",
    "         _______       _______   _\n",
    "        |       |     |       | |\n",
    "        |       |     |       |\n",
    "        |       |_____|       | | core_thickness\n",
    "        |slab_thickness       |\n",
    "        |_____________________| |_\n",
    "                <----->\n",
    "                  gap\n",
    "\n",
    "\n",
    "```"
   ]
  },
  {
   "cell_type": "code",
   "execution_count": null,
   "id": "37",
   "metadata": {},
   "outputs": [],
   "source": [
    "c = gt.modes.WaveguideCoupler(\n",
    "    wavelength=1.55,\n",
    "    core_width=(500 * nm, 500 * nm),\n",
    "    gap=200 * nm,\n",
    "    core_thickness=220 * nm,\n",
    "    slab_thickness=100 * nm,\n",
    "    core_material=\"si\",\n",
    "    clad_material=\"sio2\",\n",
    ")\n",
    "c.plot_index()"
   ]
  },
  {
   "cell_type": "code",
   "execution_count": null,
   "id": "38",
   "metadata": {},
   "outputs": [],
   "source": [
    "c.plot_field(field_name=\"Ex\", mode_index=0)  # even mode"
   ]
  },
  {
   "cell_type": "code",
   "execution_count": null,
   "id": "39",
   "metadata": {},
   "outputs": [],
   "source": [
    "c.plot_field(field_name=\"Ex\", mode_index=1)  # odd mode"
   ]
  },
  {
   "cell_type": "code",
   "execution_count": null,
   "id": "40",
   "metadata": {},
   "outputs": [],
   "source": [
    "coupler = gt.modes.WaveguideCoupler(\n",
    "    wavelength=1.55,\n",
    "    core_width=(450 * nm, 450 * nm),\n",
    "    core_thickness=220 * nm,\n",
    "    core_material=\"si\",\n",
    "    clad_material=\"sio2\",\n",
    "    num_modes=4,\n",
    "    gap=0.1,\n",
    ")\n",
    "\n",
    "print(\"\\nCoupler:\", coupler)\n",
    "print(\"Effective indices:\", coupler.n_eff)\n",
    "print(\"Mode areas:\", coupler.mode_area)\n",
    "print(\"Coupling length:\", coupler.coupling_length())\n",
    "\n",
    "gaps = np.linspace(0.05, 0.15, 11)\n",
    "lengths = gt.modes.sweep_coupling_length(coupler, gaps)\n",
    "\n",
    "_, ax = plt.subplots(1, 1)\n",
    "ax.plot(gaps, lengths)\n",
    "ax.set(xlabel=\"Gap (μm)\", ylabel=\"Coupling length (μm)\")\n",
    "ax.legend([\"TE\", \"TM\"])\n",
    "ax.grid()"
   ]
  }
 ],
 "metadata": {
  "jupytext": {
   "cell_metadata_filter": "-all",
   "custom_cell_magics": "kql"
  },
  "kernelspec": {
   "display_name": "base",
   "language": "python",
   "name": "python3"
  },
  "language_info": {
   "codemirror_mode": {
    "name": "ipython",
    "version": 3
   },
   "file_extension": ".py",
   "mimetype": "text/x-python",
   "name": "python",
   "nbconvert_exporter": "python",
   "pygments_lexer": "ipython3",
   "version": "3.11.9"
  }
 },
 "nbformat": 4,
 "nbformat_minor": 5
}
