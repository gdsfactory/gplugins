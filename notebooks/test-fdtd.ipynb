{
 "cells": [
  {
   "cell_type": "code",
   "execution_count": null,
   "id": "0",
   "metadata": {},
   "outputs": [],
   "source": [
    "import gdsfactory as gf\n",
    "import matplotlib.pyplot as plt\n",
    "import tidy3d as td\n",
    "from gplugins.fdtd import FDTDSimulation, Geometry, Material\n",
    "from gdsfactory.generic_tech import LAYER_STACK, get_generic_pdk\n",
    "\n",
    "pdk = get_generic_pdk()\n",
    "pdk.activate()\n"
   ]
  },
  {
   "cell_type": "code",
   "execution_count": null,
   "id": "1",
   "metadata": {},
   "outputs": [],
   "source": [
    "# component = gf.components.coupler_ring()\n",
    "component = gf.components.mmi1x2()\n",
    "# component = gf.components.bezier()\n",
    "# component = gf.components.ring_single()\n",
    "# component = gf.components.grating_coupler_elliptical()\n",
    "# component.plot()\n",
    "\n",
    "\n",
    "\n",
    "geom = Geometry(component=component, layer_stack=LAYER_STACK,)\n",
    "geom.plot_prism(slices=\"xyz\")\n",
    "\n",
    "# geom.plot_3d(backend=\"pyvista\")\n",
    "# geom.plot_3d(backend=\"open3d\")\n",
    "# geom.serve_3d()"
   ]
  },
  {
   "cell_type": "code",
   "execution_count": null,
   "id": "2",
   "metadata": {},
   "outputs": [],
   "source": []
  },
  {
   "cell_type": "code",
   "execution_count": null,
   "id": "3",
   "metadata": {},
   "outputs": [],
   "source": []
  },
  {
   "cell_type": "code",
   "execution_count": null,
   "id": "4",
   "metadata": {},
   "outputs": [],
   "source": [
    "#\n",
    "# plot_slice is using Tidy3D-based visualization\n",
    "#\n",
    "\n",
    "sim = FDTDSimulation()\n",
    "sim.geometry = Geometry(component=component, layer_stack=LAYER_STACK)\n",
    "sim.material = Material(mapping=mapping)\n",
    "\n",
    "\n",
    "# \n",
    "fig = plt.figure(constrained_layout=True)\n",
    "gs = fig.add_gridspec(ncols=2, nrows=3, width_ratios=(3, 1))\n",
    "ax0 = fig.add_subplot(gs[0, 0])\n",
    "ax1 = fig.add_subplot(gs[1, 0])\n",
    "ax2 = fig.add_subplot(gs[2, 0])\n",
    "axl = fig.add_subplot(gs[1, 1])\n",
    "sim.geometry.plot_slice(x=\"core\", ax=ax0)\n",
    "sim.geometry.plot_slice(y=\"core\", ax=ax1)\n",
    "sim.geometry.plot_slice(z=\"core\", ax=ax2)\n",
    "axl.legend(*ax0.get_legend_handles_labels(), loc=\"center\")\n",
    "axl.axis(\"off\")\n",
    "plt.show()"
   ]
  },
  {
   "cell_type": "code",
   "execution_count": null,
   "id": "5",
   "metadata": {},
   "outputs": [],
   "source": []
  }
 ],
 "metadata": {
  "kernelspec": {
   "display_name": "mp",
   "language": "python",
   "name": "python3"
  },
  "language_info": {
   "codemirror_mode": {
    "name": "ipython",
    "version": 3
   },
   "file_extension": ".py",
   "mimetype": "text/x-python",
   "name": "python",
   "nbconvert_exporter": "python",
   "pygments_lexer": "ipython3",
   "version": "3.11.12"
  }
 },
 "nbformat": 4,
 "nbformat_minor": 5
}
