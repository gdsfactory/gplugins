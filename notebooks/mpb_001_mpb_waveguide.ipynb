{
 "cells": [
  {
   "cell_type": "markdown",
   "id": "0",
   "metadata": {},
   "source": [
    "# MPB mode-solver\n",
    "\n",
    "[MPB](https://mpb.readthedocs.io/en/latest/Python_Tutorial/#our-first-band-structure) is a free open source software to compute:\n",
    "\n",
    "- electro-magnetic modes\n",
    "- band structures\n",
    "\n",
    "supported by a waveguide with periodic boundaries.\n",
    "\n",
    "\n",
    "## Find modes waveguide\n",
    "\n",
    "Lets find the modes supported by a waveguide for a particular waveguide geometry and wavelength.\n",
    "\n",
    "A waveguide is like a pipe to guide the light and is made of a higher refractive index core `core_material` surrounded by a lower refractive index cladding `clad_material`\n",
    "\n",
    "\n",
    "```bash\n",
    "          __________________________\n",
    "          |\n",
    "          |\n",
    "          |         width\n",
    "          |     <---------->\n",
    "          |      ___________   _ _ _\n",
    "          |     |           |       |\n",
    "        sz|_____|           |_______|\n",
    "          |                         | core_thickness\n",
    "          |slab_thickness           |\n",
    "          |_________________________|\n",
    "          |\n",
    "          |\n",
    "          |__________________________\n",
    "          <------------------------>\n",
    "                        sy\n",
    "```\n",
    "\n",
    "Silicon is yellow and opaque at visible wavelengths (380 to 700nm). This is the reason why CMOS cameras can be made of Silicon.\n",
    "\n",
    "At Infra-red wavelengths used for communications (1300 or 1550nm) Silicon is transparent and has a high refractive index `3.47`. So making a Silicon waveguide is quite easy, where the Silicon is the guiding material, and Silicon oxide `n=1.45` makes a great low index material for the cladding of the waveguide.\n",
    "\n",
    "\n",
    "This [video](https://www.youtube.com/watch?v=Hy7yn2xohlE) explains how Silicon Photonic waveguides guide light in Photonic integrated circuits.\n",
    "\n",
    "\n",
    "\n",
    "### Strip waveguides\n",
    "\n",
    "Strip waveguides are fully etch and don't have a slab. `slab_thickness = 0`\n",
    "\n",
    "\n",
    "```bash\n",
    "          __________________________\n",
    "          |\n",
    "          |\n",
    "          |         width\n",
    "          |     <---------->\n",
    "          |      ___________   _ _ _\n",
    "          |     |           |       |\n",
    "        sz|     |           |       |\n",
    "          |     |  core_material    | core_thickness\n",
    "          |     |           |       |\n",
    "          |     |___________|  _ _ _|\n",
    "          |\n",
    "          |        clad_material\n",
    "          |__________________________\n",
    "          <------------------------>\n",
    "                        sy\n",
    "```"
   ]
  },
  {
   "cell_type": "code",
   "execution_count": null,
   "id": "1",
   "metadata": {},
   "outputs": [],
   "source": [
    "import matplotlib.pyplot as plt\n",
    "import meep as mp\n",
    "import numpy as np\n",
    "\n",
    "import gplugins.modes as gm"
   ]
  },
  {
   "cell_type": "code",
   "execution_count": null,
   "id": "2",
   "metadata": {},
   "outputs": [],
   "source": [
    "modes = gm.find_modes_waveguide(\n",
    "    parity=mp.NO_PARITY,\n",
    "    core_width=0.4,\n",
    "    core_material=3.47,\n",
    "    clad_material=1.44,\n",
    "    core_thickness=0.22,\n",
    "    resolution=40,\n",
    "    sy=3,\n",
    "    sz=3,\n",
    "    nmodes=4,\n",
    ")\n",
    "m1 = modes[1]\n",
    "m2 = modes[2]\n",
    "m3 = modes[3]"
   ]
  },
  {
   "cell_type": "markdown",
   "id": "3",
   "metadata": {},
   "source": [
    "As you can see the refractive index goes from 1.44 `SiO2` Silicon dioxide to 3.47 `Silicon`."
   ]
  },
  {
   "cell_type": "code",
   "execution_count": null,
   "id": "4",
   "metadata": {},
   "outputs": [],
   "source": [
    "m1.plot_eps()"
   ]
  },
  {
   "cell_type": "code",
   "execution_count": null,
   "id": "5",
   "metadata": {},
   "outputs": [],
   "source": [
    "m1.neff"
   ]
  },
  {
   "cell_type": "code",
   "execution_count": null,
   "id": "6",
   "metadata": {},
   "outputs": [],
   "source": [
    "m1.plot_ey()"
   ]
  },
  {
   "cell_type": "code",
   "execution_count": null,
   "id": "7",
   "metadata": {},
   "outputs": [],
   "source": [
    "m2.plot_e_all()"
   ]
  },
  {
   "cell_type": "code",
   "execution_count": null,
   "id": "8",
   "metadata": {},
   "outputs": [],
   "source": [
    "m1.plot_e()"
   ]
  },
  {
   "cell_type": "markdown",
   "id": "9",
   "metadata": {},
   "source": [
    "As you can see the first order mode has most power in y-direction `Ey`. This type of mode is called TE (transverse-electric)\n",
    "\n",
    "On the other hand the second order mode has most of the light in the `Ex`. This mode is called TM (transverse-magnetic)"
   ]
  },
  {
   "cell_type": "code",
   "execution_count": null,
   "id": "10",
   "metadata": {},
   "outputs": [],
   "source": [
    "m2.plot_e_all()"
   ]
  },
  {
   "cell_type": "code",
   "execution_count": null,
   "id": "11",
   "metadata": {},
   "outputs": [],
   "source": [
    "m3.plot_e()  # not guided"
   ]
  },
  {
   "cell_type": "code",
   "execution_count": null,
   "id": "12",
   "metadata": {},
   "outputs": [],
   "source": [
    "m1.neff"
   ]
  },
  {
   "cell_type": "code",
   "execution_count": null,
   "id": "13",
   "metadata": {},
   "outputs": [],
   "source": [
    "m2.neff"
   ]
  },
  {
   "cell_type": "code",
   "execution_count": null,
   "id": "14",
   "metadata": {},
   "outputs": [],
   "source": [
    "# the third mode does not propagate and its neff is below the cladding index\n",
    "m3.neff"
   ]
  },
  {
   "cell_type": "markdown",
   "id": "15",
   "metadata": {},
   "source": [
    "### Sidewall angle\n",
    "\n",
    "You can also specify the sidewall angle."
   ]
  },
  {
   "cell_type": "code",
   "execution_count": null,
   "id": "16",
   "metadata": {},
   "outputs": [],
   "source": [
    "modes = gm.find_modes_waveguide(\n",
    "    parity=mp.NO_PARITY,\n",
    "    core_width=0.4,\n",
    "    core_material=3.47,\n",
    "    clad_material=1.44,\n",
    "    core_thickness=0.22,\n",
    "    resolution=40,\n",
    "    sidewall_angle=10,\n",
    ")\n",
    "m1 = modes[1]\n",
    "m2 = modes[2]\n",
    "m3 = modes[3]\n",
    "m1.plot_eps()"
   ]
  },
  {
   "cell_type": "code",
   "execution_count": null,
   "id": "17",
   "metadata": {},
   "outputs": [],
   "source": [
    "modes = gm.find_modes_waveguide(\n",
    "    parity=mp.NO_PARITY,\n",
    "    core_width=0.4,\n",
    "    core_material=3.47,\n",
    "    clad_material=1.44,\n",
    "    core_thickness=0.22,\n",
    "    resolution=60,\n",
    "    sidewall_angle=10,\n",
    "    slab_thickness=90e-3,\n",
    ")\n",
    "m1 = modes[1]\n",
    "m2 = modes[2]\n",
    "m3 = modes[3]\n",
    "m1.plot_eps()"
   ]
  },
  {
   "cell_type": "markdown",
   "id": "18",
   "metadata": {},
   "source": [
    "### Rib waveguides\n",
    "\n",
    "Rib waveguides have a slab (not fully etched)"
   ]
  },
  {
   "cell_type": "code",
   "execution_count": null,
   "id": "19",
   "metadata": {},
   "outputs": [],
   "source": [
    "modes = gm.find_modes_waveguide(\n",
    "    mode_number=1, nmodes=2, slab_thickness=90e-3, resolution=40\n",
    ")\n",
    "m1 = modes[1]\n",
    "m2 = modes[2]"
   ]
  },
  {
   "cell_type": "code",
   "execution_count": null,
   "id": "20",
   "metadata": {},
   "outputs": [],
   "source": [
    "m1.plot_eps()"
   ]
  },
  {
   "cell_type": "code",
   "execution_count": null,
   "id": "21",
   "metadata": {},
   "outputs": [],
   "source": [
    "m1.plot_e_all()"
   ]
  },
  {
   "cell_type": "markdown",
   "id": "22",
   "metadata": {},
   "source": [
    "## Symmetries\n",
    "\n",
    "You can exploit symmetries to reduce computation time as well as finding only (TE or TM) modes\n",
    "\n",
    "MPB assumes propagation in the X direction\n",
    "\n",
    "- TE: mp.ODD_Y + mp.EVEN_Z\n",
    "- TM: mp.EVEN+Y + mp.ODD_Z, all energy in z component\n",
    "\n",
    "### TM: mp.ODD_Y + mp.EVEN_Z\n",
    "\n",
    "You can define an even Y parity to find only the TM modes"
   ]
  },
  {
   "cell_type": "code",
   "execution_count": null,
   "id": "23",
   "metadata": {},
   "outputs": [],
   "source": [
    "modes = gm.find_modes_waveguide(\n",
    "    mode_number=1,\n",
    "    parity=mp.EVEN_Y + mp.ODD_Z,\n",
    "    nmodes=2,\n",
    "    core_width=1.0,\n",
    "    core_material=3.47,\n",
    "    clad_material=1.44,\n",
    "    core_thickness=0.22,\n",
    "    resolution=32,\n",
    "    sy=6,\n",
    "    sz=6,\n",
    ")\n",
    "m1 = modes[1]\n",
    "m2 = modes[2]\n",
    "m1.plot_e()"
   ]
  },
  {
   "cell_type": "markdown",
   "id": "24",
   "metadata": {},
   "source": [
    "### ODD_Y (TE)"
   ]
  },
  {
   "cell_type": "code",
   "execution_count": null,
   "id": "25",
   "metadata": {},
   "outputs": [],
   "source": [
    "modes = gm.find_modes_waveguide(\n",
    "    mode_number=1,\n",
    "    parity=mp.ODD_Y,\n",
    "    nmodes=2,\n",
    "    core_width=0.20,\n",
    "    core_material=3.47,\n",
    "    clad_material=1.44,\n",
    "    core_thickness=0.22,\n",
    "    resolution=20,\n",
    "    sy=5,\n",
    "    sz=5,\n",
    ")\n",
    "m1 = modes[1]\n",
    "m2 = modes[2]"
   ]
  },
  {
   "cell_type": "code",
   "execution_count": null,
   "id": "26",
   "metadata": {},
   "outputs": [],
   "source": [
    "m1.plot_e()"
   ]
  },
  {
   "cell_type": "markdown",
   "id": "27",
   "metadata": {},
   "source": [
    "## Sweep waveguide width\n",
    "\n",
    "### Strip"
   ]
  },
  {
   "cell_type": "code",
   "execution_count": null,
   "id": "28",
   "metadata": {},
   "outputs": [],
   "source": [
    "df = gm.find_neff_vs_width(filepath=\"data/mpb_neff_vs_width.csv\")\n",
    "df"
   ]
  },
  {
   "cell_type": "code",
   "execution_count": null,
   "id": "29",
   "metadata": {},
   "outputs": [],
   "source": [
    "gm.plot_neff_vs_width(df)"
   ]
  },
  {
   "cell_type": "markdown",
   "id": "30",
   "metadata": {},
   "source": [
    "### Rib"
   ]
  },
  {
   "cell_type": "code",
   "execution_count": null,
   "id": "31",
   "metadata": {},
   "outputs": [],
   "source": [
    "modes = gm.find_modes_waveguide(\n",
    "    core_width=0.4,\n",
    "    core_material=3.47,\n",
    "    clad_material=1.44,\n",
    "    core_thickness=220e-3,\n",
    "    resolution=20,\n",
    "    sz=6,\n",
    "    sy=6,\n",
    "    nmodes=4,\n",
    "    slab_thickness=90e-3,\n",
    ")\n",
    "m1 = modes[1]\n",
    "m2 = modes[2]\n",
    "m3 = modes[3]"
   ]
  },
  {
   "cell_type": "code",
   "execution_count": null,
   "id": "32",
   "metadata": {},
   "outputs": [],
   "source": [
    "m1.plot_eps()\n",
    "m1.neff"
   ]
  },
  {
   "cell_type": "code",
   "execution_count": null,
   "id": "33",
   "metadata": {},
   "outputs": [],
   "source": [
    "m1.plot_e()\n",
    "m1.neff"
   ]
  },
  {
   "cell_type": "code",
   "execution_count": null,
   "id": "34",
   "metadata": {},
   "outputs": [],
   "source": [
    "m2.plot_e()\n",
    "m2.neff"
   ]
  },
  {
   "cell_type": "code",
   "execution_count": null,
   "id": "35",
   "metadata": {},
   "outputs": [],
   "source": [
    "df = gm.find_neff_vs_width(\n",
    "    slab_thickness=90e-3, filepath=\"data/mpb_neff_vs_width_rib.csv\"\n",
    ")\n",
    "gm.plot_neff_vs_width(df)"
   ]
  },
  {
   "cell_type": "markdown",
   "id": "36",
   "metadata": {},
   "source": [
    "### Nitride"
   ]
  },
  {
   "cell_type": "code",
   "execution_count": null,
   "id": "37",
   "metadata": {},
   "outputs": [],
   "source": [
    "modes = gm.find_modes_waveguide(\n",
    "    core_width=1.0,\n",
    "    core_material=2.0,\n",
    "    clad_material=1.44,\n",
    "    core_thickness=400e-3,\n",
    "    sz=6,\n",
    "    sy=10,\n",
    "    nmodes=4,\n",
    "    resolution=10,\n",
    ")\n",
    "m1 = modes[1]\n",
    "m2 = modes[2]\n",
    "m3 = modes[3]"
   ]
  },
  {
   "cell_type": "code",
   "execution_count": null,
   "id": "38",
   "metadata": {},
   "outputs": [],
   "source": [
    "m1.plot_eps()"
   ]
  },
  {
   "cell_type": "code",
   "execution_count": null,
   "id": "39",
   "metadata": {},
   "outputs": [],
   "source": [
    "m1.plot_ey()"
   ]
  },
  {
   "cell_type": "code",
   "execution_count": null,
   "id": "40",
   "metadata": {},
   "outputs": [],
   "source": [
    "m1.plot_e_all()"
   ]
  },
  {
   "cell_type": "code",
   "execution_count": null,
   "id": "41",
   "metadata": {},
   "outputs": [],
   "source": [
    "m2.plot_ex()"
   ]
  },
  {
   "cell_type": "code",
   "execution_count": null,
   "id": "42",
   "metadata": {},
   "outputs": [],
   "source": [
    "m3.plot_ey()"
   ]
  },
  {
   "cell_type": "code",
   "execution_count": null,
   "id": "43",
   "metadata": {},
   "outputs": [],
   "source": [
    "df = gm.find_neff_vs_width(\n",
    "    width1=0.5,\n",
    "    width2=1.2,\n",
    "    core_thickness=0.4,\n",
    "    core_material=2.0,\n",
    "    sy=10.0,\n",
    "    resolution=15,\n",
    "    filepath=\"data/mpb_neff_vs_width_nitride.csv\",\n",
    ")\n",
    "gm.plot_neff_vs_width(df)"
   ]
  },
  {
   "cell_type": "markdown",
   "id": "44",
   "metadata": {},
   "source": [
    "## Dispersion\n",
    "\n",
    "To get the effective index we only need to compute the mode propagation constant at a single frequency.\n",
    "\n",
    "However, to compute the dispersion (group delay) we need to compute the effective index for at least 3 wavelengths.\n",
    "\n",
    "The effective index `neff` relates to the speed of the phase evolution of the light, while the group index `ng` relates to the group velocity of the light.\n",
    "\n",
    "To compute the resonances in MZI interferometers or ring resonators you need to use `ng`"
   ]
  },
  {
   "cell_type": "code",
   "execution_count": null,
   "id": "45",
   "metadata": {},
   "outputs": [],
   "source": [
    "help(gm.find_mode_dispersion)"
   ]
  },
  {
   "cell_type": "code",
   "execution_count": null,
   "id": "46",
   "metadata": {},
   "outputs": [],
   "source": [
    "m = gm.find_mode_dispersion()"
   ]
  },
  {
   "cell_type": "code",
   "execution_count": null,
   "id": "47",
   "metadata": {},
   "outputs": [],
   "source": [
    "m.ng"
   ]
  },
  {
   "cell_type": "markdown",
   "id": "48",
   "metadata": {},
   "source": [
    "## Convergence tests\n",
    "\n",
    "Before launching a set of simulations you need to make sure you have the correct simulation settings:\n",
    "\n",
    "- resolution: resolution\n",
    "- sx: Size of the simulation region in the x-direction (default=4.0)\n",
    "- sy: Size of the simulation region in the y-direction (default=4.0)\n"
   ]
  },
  {
   "cell_type": "code",
   "execution_count": null,
   "id": "49",
   "metadata": {},
   "outputs": [],
   "source": [
    "resolutions = np.linspace(10, 50, 5)\n",
    "neffs = []\n",
    "\n",
    "for resolution in resolutions:\n",
    "    modes = gm.find_modes_waveguide(\n",
    "        core_width=0.5,\n",
    "        core_material=3.5,\n",
    "        clad_material=1.44,\n",
    "        core_thickness=0.22,\n",
    "        resolution=resolution,\n",
    "    )\n",
    "    mode = modes[1]\n",
    "    neffs.append(mode.neff)"
   ]
  },
  {
   "cell_type": "code",
   "execution_count": null,
   "id": "50",
   "metadata": {},
   "outputs": [],
   "source": [
    "plt.plot(resolutions, neffs, \"o-\")\n",
    "plt.ylabel(\"neff\")\n",
    "plt.xlabel(\"resolution (pixels/um)\")"
   ]
  },
  {
   "cell_type": "code",
   "execution_count": null,
   "id": "51",
   "metadata": {},
   "outputs": [],
   "source": [
    "szs = np.linspace(4, 6, 6)\n",
    "neffs = []\n",
    "\n",
    "for sz in szs:\n",
    "    modes = gm.find_modes_waveguide(\n",
    "        core_width=0.5,\n",
    "        core_material=3.5,\n",
    "        clad_material=1.44,\n",
    "        core_thickness=0.22,\n",
    "        resolution=20,\n",
    "        sz=sz,\n",
    "    )\n",
    "    mode = modes[1]\n",
    "    neffs.append(mode.neff)"
   ]
  },
  {
   "cell_type": "code",
   "execution_count": null,
   "id": "52",
   "metadata": {},
   "outputs": [],
   "source": [
    "plt.plot(szs, neffs, \"o-\")\n",
    "plt.ylabel(\"neff\")\n",
    "plt.xlabel(\"simulation size in z(um)\")"
   ]
  },
  {
   "cell_type": "code",
   "execution_count": null,
   "id": "53",
   "metadata": {},
   "outputs": [],
   "source": [
    "sys = np.linspace(2, 6, 6)\n",
    "neffs = []\n",
    "\n",
    "for sy in sys:\n",
    "    modes = gm.find_modes_waveguide(\n",
    "        core_width=0.5,\n",
    "        core_material=3.5,\n",
    "        clad_material=1.44,\n",
    "        core_thickness=0.22,\n",
    "        resolution=20,\n",
    "        sy=sy,\n",
    "    )\n",
    "    mode = modes[1]\n",
    "    neffs.append(mode.neff)"
   ]
  },
  {
   "cell_type": "code",
   "execution_count": null,
   "id": "54",
   "metadata": {},
   "outputs": [],
   "source": [
    "plt.plot(sys, neffs, \"o-\")\n",
    "plt.ylabel(\"neff\")\n",
    "plt.xlabel(\"simulation size in y (um)\")"
   ]
  },
  {
   "cell_type": "markdown",
   "id": "55",
   "metadata": {},
   "source": [
    "## Find modes coupler\n",
    "\n",
    "When two waveguides are close to each other, they support modes that travel with different index (speed). One of the modes is an even mode, while the other one is an odd mode.\n",
    "\n",
    "Light will couple from one waveguide to another because the even and odd modes travel at different speeds and they interfere with each other. Creating a periodically back and forth coupling between both waveguides.\n",
    "\n",
    "Depending on the length of the coupling region and the gap there will be a different percentage of the light coupled from one to another\n",
    "\n",
    "\n",
    "```bash\n",
    "\n",
    "          _____________________________________________________\n",
    "          |\n",
    "          |\n",
    "          |         widths[0]                 widths[1]\n",
    "          |     <---------->     gaps[0]    <---------->\n",
    "          |      ___________ <-------------> ___________      _\n",
    "          |     |           |               |           |     |\n",
    "        sz|_____|           |_______________|           |_____|\n",
    "          |    core_material                                  | core_thickness\n",
    "          |slab_thickness        nslab                        |\n",
    "          |___________________________________________________|\n",
    "          |\n",
    "          |<--->                                         <--->\n",
    "          |ymargin               clad_material                   ymargin\n",
    "          |____________________________________________________\n",
    "          <--------------------------------------------------->\n",
    "                                   sy\n",
    "\n",
    "\n",
    "```"
   ]
  },
  {
   "cell_type": "code",
   "execution_count": null,
   "id": "56",
   "metadata": {},
   "outputs": [],
   "source": [
    "modes = gm.find_modes_coupler(\n",
    "    core_widths=(0.5, 0.5),\n",
    "    gaps=(0.2,),\n",
    "    core_material=3.47,\n",
    "    clad_material=1.44,\n",
    "    core_thickness=0.22,\n",
    "    resolution=20,\n",
    "    sz=6,\n",
    "    nmodes=4,\n",
    ")\n",
    "m1 = modes[1]\n",
    "m2 = modes[2]\n",
    "m3 = modes[3]"
   ]
  },
  {
   "cell_type": "code",
   "execution_count": null,
   "id": "57",
   "metadata": {},
   "outputs": [],
   "source": [
    "m1.plot_eps()"
   ]
  },
  {
   "cell_type": "code",
   "execution_count": null,
   "id": "58",
   "metadata": {},
   "outputs": [],
   "source": [
    "m1.plot_ey()  # even mode"
   ]
  },
  {
   "cell_type": "code",
   "execution_count": null,
   "id": "59",
   "metadata": {},
   "outputs": [],
   "source": [
    "m2.plot_ey()  # odd mode"
   ]
  },
  {
   "cell_type": "markdown",
   "id": "60",
   "metadata": {},
   "source": [
    "### Find coupling vs gap"
   ]
  },
  {
   "cell_type": "code",
   "execution_count": null,
   "id": "61",
   "metadata": {},
   "outputs": [],
   "source": [
    "gm.find_coupling_vs_gap?"
   ]
  },
  {
   "cell_type": "code",
   "execution_count": null,
   "id": "62",
   "metadata": {},
   "outputs": [],
   "source": [
    "df = gm.coupler.find_coupling_vs_gap(\n",
    "    gap1=0.2,\n",
    "    gap2=0.4,\n",
    "    steps=12,\n",
    "    nmodes=4,\n",
    "    wavelength=1.55,\n",
    "    filepath=\"data/mpb_find_coupling_vs_gap_strip.csv\",\n",
    ")\n",
    "\n",
    "plt.title(\"strip 500x200 coupling\")\n",
    "gm.plot_coupling_vs_gap(df)"
   ]
  },
  {
   "cell_type": "code",
   "execution_count": null,
   "id": "63",
   "metadata": {},
   "outputs": [],
   "source": [
    "df = gm.coupler.find_coupling_vs_gap_nitride(\n",
    "    filepath=\"data/mpb_find_coupling_vs_gap_nitride.csv\"\n",
    ")\n",
    "\n",
    "plt.title(\"nitride 1000x400 nitride\")\n",
    "gm.plot_coupling_vs_gap(df)"
   ]
  },
  {
   "cell_type": "code",
   "execution_count": null,
   "id": "64",
   "metadata": {},
   "outputs": [],
   "source": [
    "ne = []\n",
    "no = []\n",
    "gaps = [0.2, 0.25, 0.3]\n",
    "\n",
    "for gap in gaps:\n",
    "    modes = gm.find_modes_coupler(\n",
    "        core_widths=(0.5, 0.5),\n",
    "        gaps=(gap,),\n",
    "        core_material=3.47,\n",
    "        clad_material=1.44,\n",
    "        core_thickness=0.22,\n",
    "        resolution=20,\n",
    "        sz=6,\n",
    "        nmodes=4,\n",
    "    )\n",
    "    ne.append(modes[1].neff)\n",
    "    no.append(modes[2].neff)"
   ]
  },
  {
   "cell_type": "code",
   "execution_count": null,
   "id": "65",
   "metadata": {},
   "outputs": [],
   "source": [
    "def coupling_length(\n",
    "    neff1: float,\n",
    "    neff2: float,\n",
    "    power_ratio: float = 1.0,\n",
    "    wavelength: float = 1.55,\n",
    ") -> float:\n",
    "    \"\"\"Returns the coupling length (um) of the directional coupler to achieve power_ratio.\n",
    "\n",
    "    Args:\n",
    "        neff1: even supermode of the directional coupler.\n",
    "        neff2: odd supermode of the directional coupler.\n",
    "        power_ratio: p2/p1, where 1 means 100% power transfer.\n",
    "        wavelength: in um.\n",
    "\n",
    "    \"\"\"\n",
    "    dneff = (neff1 - neff2).real\n",
    "    return wavelength / (np.pi * dneff) * np.arcsin(np.sqrt(power_ratio))"
   ]
  },
  {
   "cell_type": "code",
   "execution_count": null,
   "id": "66",
   "metadata": {},
   "outputs": [],
   "source": [
    "lc = [\n",
    "    coupling_length(neff1=neff1, neff2=neff2) for gap, neff1, neff2 in zip(gaps, ne, no)\n",
    "]"
   ]
  },
  {
   "cell_type": "code",
   "execution_count": null,
   "id": "67",
   "metadata": {},
   "outputs": [],
   "source": [
    "plt.plot(gaps, lc, \".-\")\n",
    "plt.ylabel(\"100% coupling length (um)\")\n",
    "plt.xlabel(\"gap (um)\")"
   ]
  }
 ],
 "metadata": {
  "jupytext": {
   "cell_metadata_filter": "-all",
   "custom_cell_magics": "kql"
  },
  "kernelspec": {
   "display_name": "base",
   "language": "python",
   "name": "python3"
  }
 },
 "nbformat": 4,
 "nbformat_minor": 5
}
