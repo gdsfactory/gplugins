{
 "cells": [
  {
   "cell_type": "markdown",
   "id": "0",
   "metadata": {},
   "source": [
    "# Path length analysis\n"
   ]
  },
  {
   "cell_type": "markdown",
   "id": "1",
   "metadata": {},
   "source": [
    "## Extract pathlength and curvature from component\n"
   ]
  },
  {
   "cell_type": "code",
   "execution_count": null,
   "id": "2",
   "metadata": {},
   "outputs": [],
   "source": [
    "import gplugins.path_length_analysis.path_length_analysis_from_gds as pl\n",
    "import gdsfactory as gf"
   ]
  },
  {
   "cell_type": "code",
   "execution_count": null,
   "id": "3",
   "metadata": {},
   "outputs": [],
   "source": [
    "c = gf.components.bend_circular()\n",
    "path_dict, ev_path_dict = pl.extract_paths(c, plot=True, under_sampling=1)\n",
    "r_and_l_dict = pl.get_min_radius_and_length_path_dict(path_dict)\n",
    "for ports, (min_radius, length) in r_and_l_dict.items():\n",
    "    print(f\"Ports: {ports}\")\n",
    "    print(f\"Minimum radius of curvature: {min_radius:.2f}\")\n",
    "    print(f\"Length: {length:.2f}\")\n",
    "    pl.plot_curvature(path_dict[ports])\n",
    "print(c.info)"
   ]
  },
  {
   "cell_type": "code",
   "execution_count": null,
   "id": "4",
   "metadata": {},
   "outputs": [],
   "source": [
    "c = gf.components.bend_euler()\n",
    "path_dict, ev_path_dict = pl.extract_paths(c, plot=True, under_sampling=1)\n",
    "r_and_l_dict = pl.get_min_radius_and_length_path_dict(path_dict)\n",
    "for ports, (min_radius, length) in r_and_l_dict.items():\n",
    "    print(f\"Ports: {ports}\")\n",
    "    print(f\"Minimum radius of curvature: {min_radius:.2f}\")\n",
    "    print(f\"Length: {length:.2f}\")\n",
    "    pl.plot_curvature(path_dict[ports])\n",
    "print(c.info)"
   ]
  },
  {
   "cell_type": "code",
   "execution_count": null,
   "id": "5",
   "metadata": {},
   "outputs": [],
   "source": [
    "c = gf.components.coupler()\n",
    "path_dict, ev_path_dict = pl.extract_paths(c, plot=True, under_sampling=1)\n",
    "r_and_l_dict = pl.get_min_radius_and_length_path_dict(path_dict)\n",
    "for ports, (min_radius, length) in r_and_l_dict.items():\n",
    "    print(f\"Ports: {ports}\")\n",
    "    print(f\"Minimum radius of curvature: {min_radius:.2f}\")\n",
    "    print(f\"Length: {length:.2f}\")\n",
    "    pl.plot_curvature(path_dict[ports])\n",
    "print(c.info)"
   ]
  },
  {
   "cell_type": "code",
   "execution_count": null,
   "id": "6",
   "metadata": {},
   "outputs": [],
   "source": []
  }
 ],
 "metadata": {
  "jupytext": {
   "cell_metadata_filter": "-all",
   "custom_cell_magics": "kql"
  },
  "kernelspec": {
   "display_name": "Python 3 (ipykernel)",
   "language": "python",
   "name": "python3"
  },
  "language_info": {
   "codemirror_mode": {
    "name": "ipython",
    "version": 3
   },
   "file_extension": ".py",
   "mimetype": "text/x-python",
   "name": "python",
   "nbconvert_exporter": "python",
   "pygments_lexer": "ipython3",
   "version": "3.11.5"
  }
 },
 "nbformat": 4,
 "nbformat_minor": 5
}
