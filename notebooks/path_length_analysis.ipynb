{
 "cells": [
  {
   "cell_type": "markdown",
   "id": "0",
   "metadata": {},
   "source": [
    "# Path length analysis\n",
    "\n",
    "You can use the `report_pathlenghts` functionality to get a detailed CSV report and interactive visualization about the routes in your PIC."
   ]
  },
  {
   "cell_type": "code",
   "execution_count": null,
   "id": "1",
   "metadata": {},
   "outputs": [],
   "source": [
    "import gdsfactory as gf\n",
    "\n",
    "xs_top = [0, 10, 20, 40, 50, 80]\n",
    "pitch = 127.0\n",
    "N = len(xs_top)\n",
    "xs_bottom = [(i - N / 2) * pitch for i in range(N)]\n",
    "layer = (1, 0)\n",
    "\n",
    "top_ports = [\n",
    "    gf.Port(f\"top_{i}\", center=(xs_top[i], 0), width=0.5, orientation=270, layer=layer)\n",
    "    for i in range(N)\n",
    "]\n",
    "\n",
    "bot_ports = [\n",
    "    gf.Port(\n",
    "        f\"bot_{i}\",\n",
    "        center=(xs_bottom[i], -300),\n",
    "        width=0.5,\n",
    "        orientation=90,\n",
    "        layer=layer,\n",
    "    )\n",
    "    for i in range(N)\n",
    "]\n",
    "\n",
    "c = gf.Component()\n",
    "routes = gf.routing.route_bundle(\n",
    "    c, top_ports, bot_ports, separation=5.0, end_straight_length=100\n",
    ")\n",
    "\n",
    "c.plot()"
   ]
  },
  {
   "cell_type": "markdown",
   "id": "2",
   "metadata": {},
   "source": [
    "Let's quickly demonstrate our new cross-sections and transition component."
   ]
  },
  {
   "cell_type": "code",
   "execution_count": null,
   "id": "3",
   "metadata": {},
   "outputs": [],
   "source": [
    "from pathlib import Path\n",
    "\n",
    "from gplugins.path_length_analysis.path_length_analysis import report_pathlengths\n",
    "\n",
    "report_pathlengths(\n",
    "    pic=c,\n",
    "    result_dir=Path(\"rib_strip_pathlengths\"),\n",
    "    visualize=True,\n",
    ")"
   ]
  },
  {
   "cell_type": "markdown",
   "id": "4",
   "metadata": {},
   "source": [
    "You should see an interactive webpage like the following appear in your browser, summarizing the paths in your PIC.\n",
    "\n",
    "To the left is a stick diagram, showing all the instances and paths in your circuit (with straight lines connecting ports for simplification).\n",
    "To the right is a table of the aggregate paths from all routing components in your circuit (those with `route_info` included in their `info` dictionary).\n",
    "You will see that there is also a CSV table in the results folder which has more in-depth statistics.\n",
    "\n",
    "![](https://i.imgur.com/HbRC3R5.png)"
   ]
  },
  {
   "cell_type": "markdown",
   "id": "5",
   "metadata": {},
   "source": [
    "Clicking any of the routes or checking any of the boxes should highlight the respective route in the color shown in the table to the right to help you better identify them. Hovering over any of the routes or ports will display additional information."
   ]
  },
  {
   "cell_type": "markdown",
   "id": "6",
   "metadata": {},
   "source": [
    "## Extract pathlength and curvature from component\n"
   ]
  },
  {
   "cell_type": "code",
   "execution_count": null,
   "id": "7",
   "metadata": {},
   "outputs": [],
   "source": [
    "import gplugins.path_length_analysis.path_length_analysis_from_gds as pl\n",
    "import gdsfactory as gf"
   ]
  },
  {
   "cell_type": "code",
   "execution_count": null,
   "id": "8",
   "metadata": {},
   "outputs": [],
   "source": [
    "c0 = gf.components.bend_circular()\n",
    "c0.plot()\n",
    "gdspath = c0.write_gds()\n",
    "n = c0.get_netlist()\n",
    "\n",
    "p = pl.extract_path(c0, plot=True)\n",
    "min_radius, length = pl.get_min_radius_and_length(p)\n",
    "print(f\"Minimum radius of curvature: {min_radius:.2f}\")\n",
    "print(f\"Length: {length:.2f}\")\n",
    "print(c0.info)\n",
    "pl.plot_radius(p)"
   ]
  },
  {
   "cell_type": "markdown",
   "id": "9",
   "metadata": {},
   "source": [
    "## Extract pathlength and curvature from GDS\n",
    "\n",
    "To extract from GDS you need to save the netlist."
   ]
  },
  {
   "cell_type": "code",
   "execution_count": null,
   "id": "10",
   "metadata": {},
   "outputs": [],
   "source": [
    "c0 = gf.components.bend_circular()\n",
    "c0.plot()\n",
    "gdspath = c0.write_gds()\n",
    "n = c0.get_netlist()\n",
    "c = gf.import_gds(gdspath)  # import the GDS file\n",
    "\n",
    "p = pl.extract_path(c, plot=True)\n",
    "min_radius, length = pl.get_min_radius_and_length(p)\n",
    "print(f\"Minimum radius of curvature: {min_radius:.2f}\")\n",
    "print(f\"Length: {length:.2f}\")\n",
    "print(c0.info)\n",
    "f = pl.plot_radius(p)"
   ]
  },
  {
   "cell_type": "code",
   "execution_count": null,
   "id": "11",
   "metadata": {},
   "outputs": [],
   "source": [
    "p = pl.extract_path(c, plot=False, under_sampling=2)\n",
    "min_radius, length = pl.get_min_radius_and_length(p)\n",
    "print(f\"Minimum radius of curvature: {min_radius:.2f}\")\n",
    "print(f\"Length: {length:.2f}\")\n",
    "print(c0.info)\n",
    "f = pl.plot_radius(p)"
   ]
  },
  {
   "cell_type": "code",
   "execution_count": null,
   "id": "12",
   "metadata": {},
   "outputs": [],
   "source": [
    "p = pl.extract_path(c, plot=False, under_sampling=5)\n",
    "min_radius, length = pl.get_min_radius_and_length(p)\n",
    "print(f\"Minimum radius of curvature: {min_radius:.2f}\")\n",
    "print(f\"Length: {length:.2f}\")\n",
    "print(c0.info)\n",
    "f = pl.plot_radius(p)"
   ]
  },
  {
   "cell_type": "code",
   "execution_count": null,
   "id": "13",
   "metadata": {},
   "outputs": [],
   "source": []
  }
 ],
 "metadata": {
  "jupytext": {
   "cell_metadata_filter": "-all",
   "custom_cell_magics": "kql"
  },
  "kernelspec": {
   "display_name": "Python 3 (ipykernel)",
   "language": "python",
   "name": "python3"
  },
  "language_info": {
   "codemirror_mode": {
    "name": "ipython",
    "version": 3
   },
   "file_extension": ".py",
   "mimetype": "text/x-python",
   "name": "python",
   "nbconvert_exporter": "python",
   "pygments_lexer": "ipython3",
   "version": "3.11.5"
  }
 },
 "nbformat": 4,
 "nbformat_minor": 5
}
